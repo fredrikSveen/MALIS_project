{
 "cells": [
  {
   "cell_type": "markdown",
   "id": "e934717f-26c5-43e7-a9bb-6f06144427c4",
   "metadata": {},
   "source": [
    "# Code\n",
    "\n",
    "Blabla"
   ]
  },
  {
   "cell_type": "code",
   "execution_count": 1,
   "id": "360e3b8e-c9a1-402e-9ba2-4a05c0df5b53",
   "metadata": {
    "tags": []
   },
   "outputs": [],
   "source": [
    "import matplotlib.pyplot as plt\n",
    "import numpy as np\n",
    "import os\n",
    "import pandas as pd"
   ]
  },
  {
   "cell_type": "markdown",
   "id": "7f04103b-0e2c-4f0d-a55f-470424623545",
   "metadata": {
    "tags": []
   },
   "source": [
    "## Something\n",
    "Something"
   ]
  },
  {
   "cell_type": "code",
   "execution_count": 2,
   "id": "b3fc8a1e-35f3-451f-8ae3-ebe9272a64b0",
   "metadata": {},
   "outputs": [
    {
     "ename": "NotADirectoryError",
     "evalue": "[Errno 20] Not a directory: 'data1/8863_idx5_x1401_y1351_class0.png/0'",
     "output_type": "error",
     "traceback": [
      "\u001b[0;31m---------------------------------------------------------------------------\u001b[0m",
      "\u001b[0;31mNotADirectoryError\u001b[0m                        Traceback (most recent call last)",
      "Cell \u001b[0;32mIn [2], line 11\u001b[0m\n\u001b[1;32m      9\u001b[0m         patient_path \u001b[38;5;241m=\u001b[39m os\u001b[38;5;241m.\u001b[39mpath\u001b[38;5;241m.\u001b[39mjoin(base_path, patient_id )\n\u001b[1;32m     10\u001b[0m         class_path \u001b[38;5;241m=\u001b[39m os\u001b[38;5;241m.\u001b[39mpath\u001b[38;5;241m.\u001b[39mjoin(patient_path, \u001b[38;5;28mstr\u001b[39m(c))\n\u001b[0;32m---> 11\u001b[0m         subfiles \u001b[38;5;241m=\u001b[39m \u001b[43mos\u001b[49m\u001b[38;5;241;43m.\u001b[39;49m\u001b[43mlistdir\u001b[49m\u001b[43m(\u001b[49m\u001b[43mclass_path\u001b[49m\u001b[43m)\u001b[49m\n\u001b[1;32m     12\u001b[0m         total_images \u001b[38;5;241m+\u001b[39m\u001b[38;5;241m=\u001b[39m \u001b[38;5;28mlen\u001b[39m(subfiles)\n\u001b[1;32m     14\u001b[0m \u001b[38;5;66;03m#DATAFRAME\u001b[39;00m\n",
      "\u001b[0;31mNotADirectoryError\u001b[0m: [Errno 20] Not a directory: 'data1/8863_idx5_x1401_y1351_class0.png/0'"
     ]
    }
   ],
   "source": [
    "base_path = \"data\"\n",
    "folder = os.listdir(base_path)\n",
    "total_images = 0\n",
    "\n",
    "#finding the number of total images\n",
    "for n in range(len(folder)):\n",
    "    patient_id = folder[n]\n",
    "    for c in [0, 1]:\n",
    "        patient_path = os.path.join(base_path, patient_id )\n",
    "        class_path = os.path.join(patient_path, str(c))\n",
    "        subfiles = os.listdir(class_path)\n",
    "        total_images += len(subfiles)\n",
    "\n",
    "#DATAFRAME\n",
    "data = pd.DataFrame(index=np.arange(0, total_images), columns=[\"patient_id\", \"path\", \"class\"])\n",
    "k = 0\n",
    "for n in range(len(folder)):\n",
    "    patient_id = folder[n]\n",
    "    patient_path = os.path.join(base_path, patient_id )\n",
    "    for c in [0,1]:\n",
    "        class_path = os.path.join(patient_path, str(c))\n",
    "        subfiles = os.listdir(class_path)\n",
    "        for m in range(len(subfiles)):\n",
    "            image_path = subfiles[m]\n",
    "            data.iloc[k][\"path\"] = os.path.join(class_path, image_path)\n",
    "            data.iloc[k][\"class\"] = c\n",
    "            data.iloc[k][\"patient_id\"] = patient_id\n",
    "            k += 1  "
   ]
  },
  {
   "cell_type": "code",
   "execution_count": null,
   "id": "094a8e04-ed44-4d41-8540-f687b4a8c3ca",
   "metadata": {},
   "outputs": [],
   "source": [
    "print(data.loc[124,'path'])\n",
    "print(data.loc[124])\n",
    "plt.imshow(plt.imread(data.loc[124,'path']))"
   ]
  },
  {
   "cell_type": "code",
   "execution_count": null,
   "id": "030f59c0-95fa-4437-9cb8-83c55527838c",
   "metadata": {},
   "outputs": [],
   "source": []
  }
 ],
 "metadata": {
  "kernelspec": {
   "display_name": "Python 3 (ipykernel)",
   "language": "python",
   "name": "python3"
  },
  "language_info": {
   "codemirror_mode": {
    "name": "ipython",
    "version": 3
   },
   "file_extension": ".py",
   "mimetype": "text/x-python",
   "name": "python",
   "nbconvert_exporter": "python",
   "pygments_lexer": "ipython3",
   "version": "3.8.13"
  },
  "vscode": {
   "interpreter": {
    "hash": "aee8b7b246df8f9039afb4144a1f6fd8d2ca17a180786b69acc140d282b71a49"
   }
  }
 },
 "nbformat": 4,
 "nbformat_minor": 5
}
