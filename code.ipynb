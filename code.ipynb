{
 "cells": [
  {
   "cell_type": "markdown",
   "id": "e934717f-26c5-43e7-a9bb-6f06144427c4",
   "metadata": {
    "tags": []
   },
   "source": [
    "# SVM\n",
    "\n",
    "Import of libraries"
   ]
  },
  {
   "cell_type": "code",
   "execution_count": 1,
   "id": "360e3b8e-c9a1-402e-9ba2-4a05c0df5b53",
   "metadata": {
    "tags": []
   },
   "outputs": [],
   "source": [
    "import matplotlib.pyplot as plt\n",
    "import numpy as np\n",
    "import os\n",
    "import pandas as pd"
   ]
  },
  {
   "cell_type": "markdown",
   "id": "7f04103b-0e2c-4f0d-a55f-470424623545",
   "metadata": {
    "tags": []
   },
   "source": [
    "## Dataprep\n",
    "Using dataframe to store patient ID, class and path to image."
   ]
  },
  {
   "cell_type": "code",
   "execution_count": 2,
   "id": "b3fc8a1e-35f3-451f-8ae3-ebe9272a64b0",
   "metadata": {},
   "outputs": [],
   "source": [
    "base_path = \"data/\"\n",
    "folder = os.listdir(base_path)\n",
    "total_images = 0\n",
    "\n",
    "#finding the number of total images\n",
    "for n in range(len(folder)):\n",
    "    patient_id = folder[n]\n",
    "    for c in [0, 1]:\n",
    "        patient_path = base_path + patient_id \n",
    "        class_path = patient_path + \"/\" + str(c) + \"/\"\n",
    "        subfiles = os.listdir(class_path)\n",
    "        total_images += len(subfiles)\n",
    "\n",
    "#DATAFRAME\n",
    "data = pd.DataFrame(index=np.arange(0, total_images), columns=[\"patient_id\", \"path\", \"class\"])\n",
    "k = 0\n",
    "for n in range(len(folder)):\n",
    "    patient_id = folder[n]\n",
    "    patient_path = base_path + patient_id \n",
    "    for c in [0,1]:\n",
    "        class_path = patient_path + \"/\" + str(c) + \"/\"\n",
    "        subfiles = os.listdir(class_path)\n",
    "        for m in range(len(subfiles)):\n",
    "            image_path = subfiles[m]\n",
    "            data.iloc[k][\"path\"] = class_path + image_path\n",
    "            data.iloc[k][\"class\"] = c\n",
    "            data.iloc[k][\"patient_id\"] = patient_id\n",
    "            k += 1  "
   ]
  },
  {
   "cell_type": "code",
   "execution_count": 3,
   "id": "094a8e04-ed44-4d41-8540-f687b4a8c3ca",
   "metadata": {},
   "outputs": [
    {
     "name": "stdout",
     "output_type": "stream",
     "text": [
      "data/9036/0/9036_idx5_x3151_y1651_class0.png\n",
      "patient_id                                            9036\n",
      "path          data/9036/0/9036_idx5_x3151_y1651_class0.png\n",
      "class                                                    0\n",
      "Name: 124, dtype: object\n"
     ]
    },
    {
     "data": {
      "text/plain": [
       "<matplotlib.image.AxesImage at 0x7fa0ddba76d0>"
      ]
     },
     "execution_count": 3,
     "metadata": {},
     "output_type": "execute_result"
    },
    {
     "data": {
      "image/png": "[encoded data removed]",
      "text/plain": [
       "<Figure size 640x480 with 1 Axes>"
      ]
     },
     "metadata": {},
     "output_type": "display_data"
    }
   ],
   "source": [
    "print(data.loc[124,'path'])\n",
    "print(data.loc[124])\n",
    "plt.imshow(plt.imread(data.loc[124,'path']))"
   ]
  },
  {
   "cell_type": "code",
   "execution_count": null,
   "id": "030f59c0-95fa-4437-9cb8-83c55527838c",
   "metadata": {},
   "outputs": [],
   "source": []
  }
 ],
 "metadata": {
  "kernelspec": {
   "display_name": "Python 3 (ipykernel)",
   "language": "python",
   "name": "python3"
  },
  "language_info": {
   "codemirror_mode": {
    "name": "ipython",
    "version": 3
   },
   "file_extension": ".py",
   "mimetype": "text/x-python",
   "name": "python",
   "nbconvert_exporter": "python",
   "pygments_lexer": "ipython3",
   "version": "3.8.13"
  },
  "vscode": {
   "interpreter": {
    "hash": "aee8b7b246df8f9039afb4144a1f6fd8d2ca17a180786b69acc140d282b71a49"
   }
  }
 },
 "nbformat": 4,
 "nbformat_minor": 5
}
