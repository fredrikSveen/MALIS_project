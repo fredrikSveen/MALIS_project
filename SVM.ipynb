{
 "cells": [
  {
   "cell_type": "markdown",
   "id": "d171bad4-43e8-4223-b18b-f8ee9f3b0393",
   "metadata": {},
   "source": [
    "# SVM"
   ]
  },
  {
   "cell_type": "code",
   "execution_count": 1,
   "id": "fd08857a-9899-42a0-bbd4-4773dadb13ec",
   "metadata": {},
   "outputs": [],
   "source": [
    "import matplotlib.pyplot as plt\n",
    "import numpy as np\n",
    "import os\n",
    "import pandas as pd\n",
    "from sklearn.model_selection import train_test_split\n",
    "from sklearn import svm, metrics\n",
    "from sklearn.metrics import confusion_matrix, ConfusionMatrixDisplay, accuracy_score, balanced_accuracy_score\n",
    "import time\n",
    "from sklearn.preprocessing import RobustScaler\n",
    "from sklearn.svm import LinearSVC"
   ]
  },
  {
   "cell_type": "code",
   "execution_count": 2,
   "id": "925898e3-6f53-40a6-9b4a-d5df7ea46b14",
   "metadata": {},
   "outputs": [
    {
     "name": "stdout",
     "output_type": "stream",
     "text": [
      "<bound method NDFrame.tail of                                                    red   green    blue  \\\n",
      "data/12910/0/12910_idx5_x3001_y701_class0.png   2.8792  2.7112  2.8076   \n",
      "data/12910/0/12910_idx5_x1501_y401_class0.png   2.7392  2.7464  2.0908   \n",
      "data/12910/0/12910_idx5_x2251_y1101_class0.png  1.1296  2.6620  2.2704   \n",
      "data/12910/0/12910_idx5_x2551_y1151_class0.png  1.9812  2.8940  2.2452   \n",
      "data/12910/0/12910_idx5_x2001_y101_class0.png   2.8660  3.0032  2.5404   \n",
      "...                                                ...     ...     ...   \n",
      "data/13666/1/13666_idx5_x901_y1101_class1.png   2.1980  2.3572  2.7020   \n",
      "data/13666/1/13666_idx5_x1051_y1001_class1.png  2.6968  2.4552  2.5280   \n",
      "data/13666/1/13666_idx5_x1051_y1151_class1.png  2.4272  2.8244  2.5152   \n",
      "data/13666/1/13666_idx5_x1051_y1051_class1.png  2.5724  2.3860  2.5444   \n",
      "data/13666/1/13666_idx5_x901_y1151_class1.png   2.7212  2.7648  3.0000   \n",
      "\n",
      "                                                    gray  gray_var  edges  \\\n",
      "data/12910/0/12910_idx5_x3001_y701_class0.png   0.755730  0.003960     83   \n",
      "data/12910/0/12910_idx5_x1501_y401_class0.png   0.483340  0.009377    350   \n",
      "data/12910/0/12910_idx5_x2251_y1101_class0.png  0.799321  0.001401     14   \n",
      "data/12910/0/12910_idx5_x2551_y1151_class0.png  0.824825  0.001107      0   \n",
      "data/12910/0/12910_idx5_x2001_y101_class0.png   0.675241  0.005805    187   \n",
      "...                                                  ...       ...    ...   \n",
      "data/13666/1/13666_idx5_x901_y1101_class1.png   0.659095  0.002654     31   \n",
      "data/13666/1/13666_idx5_x1051_y1001_class1.png  0.623201  0.004284    136   \n",
      "data/13666/1/13666_idx5_x1051_y1151_class1.png  0.648590  0.002005     28   \n",
      "data/13666/1/13666_idx5_x1051_y1051_class1.png  0.632355  0.003022     70   \n",
      "data/13666/1/13666_idx5_x901_y1151_class1.png   0.655819  0.004799     97   \n",
      "\n",
      "                                                ridges  group  \n",
      "data/12910/0/12910_idx5_x3001_y701_class0.png     1292      0  \n",
      "data/12910/0/12910_idx5_x1501_y401_class0.png     1297      0  \n",
      "data/12910/0/12910_idx5_x2251_y1101_class0.png    1315      0  \n",
      "data/12910/0/12910_idx5_x2551_y1151_class0.png    1316      0  \n",
      "data/12910/0/12910_idx5_x2001_y101_class0.png     1225      0  \n",
      "...                                                ...    ...  \n",
      "data/13666/1/13666_idx5_x901_y1101_class1.png     1333      1  \n",
      "data/13666/1/13666_idx5_x1051_y1001_class1.png    1263      1  \n",
      "data/13666/1/13666_idx5_x1051_y1151_class1.png    1397      1  \n",
      "data/13666/1/13666_idx5_x1051_y1051_class1.png    1361      1  \n",
      "data/13666/1/13666_idx5_x901_y1151_class1.png     1308      1  \n",
      "\n",
      "[277523 rows x 8 columns]>\n"
     ]
    }
   ],
   "source": [
    "# Import dataframe from JSON file\n",
    "jsonStr = \"full_parameters_df.json\"\n",
    "df = pd.read_json(jsonStr, orient ='index')\n",
    "print(df.tail)"
   ]
  },
  {
   "cell_type": "code",
   "execution_count": 3,
   "id": "9d3cfa95-ac5b-45e4-9dce-0ea234e4d754",
   "metadata": {},
   "outputs": [
    {
     "name": "stdout",
     "output_type": "stream",
     "text": [
      "X_train : \n",
      "                                                   red   green    blue  \\\n",
      "data/12910/0/12910_idx5_x3001_y701_class0.png   2.8792  2.7112  2.8076   \n",
      "data/12910/0/12910_idx5_x1501_y401_class0.png   2.7392  2.7464  2.0908   \n",
      "data/12910/0/12910_idx5_x2251_y1101_class0.png  1.1296  2.6620  2.2704   \n",
      "data/12910/0/12910_idx5_x2551_y1151_class0.png  1.9812  2.8940  2.2452   \n",
      "data/12910/0/12910_idx5_x2001_y101_class0.png   2.8660  3.0032  2.5404   \n",
      "\n",
      "                                                    gray  gray_var  edges  \\\n",
      "data/12910/0/12910_idx5_x3001_y701_class0.png   0.755730  0.003960     83   \n",
      "data/12910/0/12910_idx5_x1501_y401_class0.png   0.483340  0.009377    350   \n",
      "data/12910/0/12910_idx5_x2251_y1101_class0.png  0.799321  0.001401     14   \n",
      "data/12910/0/12910_idx5_x2551_y1151_class0.png  0.824825  0.001107      0   \n",
      "data/12910/0/12910_idx5_x2001_y101_class0.png   0.675241  0.005805    187   \n",
      "\n",
      "                                                ridges  \n",
      "data/12910/0/12910_idx5_x3001_y701_class0.png     1292  \n",
      "data/12910/0/12910_idx5_x1501_y401_class0.png     1297  \n",
      "data/12910/0/12910_idx5_x2251_y1101_class0.png    1315  \n",
      "data/12910/0/12910_idx5_x2551_y1151_class0.png    1316  \n",
      "data/12910/0/12910_idx5_x2001_y101_class0.png     1225  \n",
      "(194265, 7)\n",
      "\n",
      "X_test : \n",
      "                                                red   green    blue      gray  \\\n",
      "data/9257/0/9257_idx5_x301_y1001_class0.png  2.5784  2.7000  2.2112  0.609239   \n",
      "data/9257/0/9257_idx5_x2351_y251_class0.png  2.4596  2.0084  2.7724  0.501843   \n",
      "data/9257/0/9257_idx5_x1101_y401_class0.png  2.3712  2.5872  2.7416  0.593688   \n",
      "data/9257/0/9257_idx5_x751_y1001_class0.png  2.8744  2.5176  2.3424  0.599057   \n",
      "data/9257/0/9257_idx5_x1201_y551_class0.png  2.7900  2.2444  2.4596  0.641368   \n",
      "\n",
      "                                             gray_var  edges  ridges  \n",
      "data/9257/0/9257_idx5_x301_y1001_class0.png  0.003757     51    1260  \n",
      "data/9257/0/9257_idx5_x2351_y251_class0.png  0.024991    479    1183  \n",
      "data/9257/0/9257_idx5_x1101_y401_class0.png  0.027011    504    1264  \n",
      "data/9257/0/9257_idx5_x751_y1001_class0.png  0.002871     33    1245  \n",
      "data/9257/0/9257_idx5_x1201_y551_class0.png  0.031924    280    1333  \n",
      "(55505, 7)\n",
      "\n",
      "X_val : \n",
      "                                                   red   green    blue  \\\n",
      "data/10277/0/10277_idx5_x301_y2051_class0.png   1.8916  3.3608  3.1964   \n",
      "data/10277/0/10277_idx5_x1701_y1251_class0.png  1.9904  2.1932  2.2724   \n",
      "data/10277/0/10277_idx5_x751_y551_class0.png    3.0532  2.3560  2.4284   \n",
      "data/10277/0/10277_idx5_x501_y1901_class0.png   1.9820  2.4620  2.7300   \n",
      "data/10277/0/10277_idx5_x901_y751_class0.png    2.5864  2.2684  2.3436   \n",
      "\n",
      "                                                    gray  gray_var  edges  \\\n",
      "data/10277/0/10277_idx5_x301_y2051_class0.png   0.867761  0.030824    181   \n",
      "data/10277/0/10277_idx5_x1701_y1251_class0.png  0.480924  0.015185    507   \n",
      "data/10277/0/10277_idx5_x751_y551_class0.png    0.807837  0.022346    474   \n",
      "data/10277/0/10277_idx5_x501_y1901_class0.png   0.703649  0.039559    499   \n",
      "data/10277/0/10277_idx5_x901_y751_class0.png    0.695074  0.033165    507   \n",
      "\n",
      "                                                ridges  \n",
      "data/10277/0/10277_idx5_x301_y2051_class0.png     1597  \n",
      "data/10277/0/10277_idx5_x1701_y1251_class0.png    1233  \n",
      "data/10277/0/10277_idx5_x751_y551_class0.png      1389  \n",
      "data/10277/0/10277_idx5_x501_y1901_class0.png     1327  \n",
      "data/10277/0/10277_idx5_x901_y751_class0.png      1300  \n",
      "(27753, 7)\n",
      "\n",
      "y_train : \n",
      "data/12910/0/12910_idx5_x3001_y701_class0.png     0\n",
      "data/12910/0/12910_idx5_x1501_y401_class0.png     0\n",
      "data/12910/0/12910_idx5_x2251_y1101_class0.png    0\n",
      "data/12910/0/12910_idx5_x2551_y1151_class0.png    0\n",
      "data/12910/0/12910_idx5_x2001_y101_class0.png     0\n",
      "Name: group, dtype: int64\n",
      "(194265,)\n",
      "\n",
      "y_test : \n",
      "data/9257/0/9257_idx5_x301_y1001_class0.png    0\n",
      "data/9257/0/9257_idx5_x2351_y251_class0.png    0\n",
      "data/9257/0/9257_idx5_x1101_y401_class0.png    0\n",
      "data/9257/0/9257_idx5_x751_y1001_class0.png    0\n",
      "data/9257/0/9257_idx5_x1201_y551_class0.png    0\n",
      "Name: group, dtype: int64\n",
      "(55505,)\n",
      "\n",
      "y_val : \n",
      "data/10277/0/10277_idx5_x301_y2051_class0.png     0\n",
      "data/10277/0/10277_idx5_x1701_y1251_class0.png    0\n",
      "data/10277/0/10277_idx5_x751_y551_class0.png      0\n",
      "data/10277/0/10277_idx5_x501_y1901_class0.png     0\n",
      "data/10277/0/10277_idx5_x901_y751_class0.png      0\n",
      "Name: group, dtype: int64\n",
      "(27753,)\n"
     ]
    }
   ],
   "source": [
    "X= df[['red','green','blue','gray','gray_var','edges','ridges']]\n",
    "y= df['group']\n",
    "\n",
    "# using the train test split function\n",
    "X_train, X_test, y_train, y_test = train_test_split(X,y, test_size=0.2, shuffle=False)\n",
    "\n",
    "X_train, X_val, y_train, y_val = train_test_split(X_train, y_train, test_size=0.125, shuffle=False)\n",
    "\n",
    "print('X_train : ')\n",
    "print(X_train.head())\n",
    "print(X_train.shape)\n",
    "print('')\n",
    "print('X_test : ')\n",
    "print(X_test.head())\n",
    "print(X_test.shape)\n",
    "print('')\n",
    "print('X_val : ')\n",
    "print(X_val.head())\n",
    "print(X_val.shape)\n",
    "print('')\n",
    "print('y_train : ')\n",
    "print(y_train.head())\n",
    "print(y_train.shape)\n",
    "print('')\n",
    "print('y_test : ')\n",
    "print(y_test.head())\n",
    "print(y_test.shape)\n",
    "print('')\n",
    "print('y_val : ')\n",
    "print(y_val.head())\n",
    "print(y_val.shape)"
   ]
  },
  {
   "cell_type": "markdown",
   "id": "7d300ded-5036-4936-acaf-d16e9807d5b2",
   "metadata": {
    "tags": []
   },
   "source": [
    "## SVM\n",
    "Documentation: https://scikit-learn.org/stable/modules/generated/sklearn.svm.SVC.html\n",
    "\n",
    "Youtube: https://www.youtube.com/watch?v=zEabrO9l1vg, https://www.youtube.com/watch?v=FB5EdxAGxQg"
   ]
  },
  {
   "cell_type": "markdown",
   "id": "fb466f93-01a2-4c83-89f3-9ba86c3feab5",
   "metadata": {},
   "source": [
    "### Radial Basis Function Kernel SVM\n",
    "Tuning with the validation set and trying with different values of C, to afterwards use with the test set"
   ]
  },
  {
   "cell_type": "code",
   "execution_count": null,
   "id": "9cd087b6-1cc7-44f9-bf5e-5f6b61a1ae51",
   "metadata": {},
   "outputs": [
    {
     "name": "stdout",
     "output_type": "stream",
     "text": [
      "0.1 0.8047778618527727\n",
      "0.5 0.8045616690087558\n"
     ]
    }
   ],
   "source": [
    "# Tuning RBF kernel SVM\n",
    "st = time.time()\n",
    "\n",
    "acc_c = []\n",
    "scaler = RobustScaler()\n",
    "X_train = scaler.fit_transform(X_train)\n",
    "X_val = scaler.transform(X_val)\n",
    "\n",
    "for c in [0.1,0.5,1,5,10]:\n",
    "    \n",
    "    rbf_model = svm.SVC(kernel='rbf', C=c, decision_function_shape='ovo')\n",
    "    rbf_model.fit(X_train, y_train)\n",
    "    \n",
    "    y_pred = rbf_model.predict(X_val)\n",
    "    \n",
    "    accuracy_rbf = accuracy_score(y_val, y_pred)\n",
    "    \n",
    "    acc_c.append(accuracy_rbf)\n",
    "    print(c, accuracy_rbf)\n",
    "    \n",
    "plt.plot([0.1,0.5,1,5,10], acc_c)\n",
    "plt.show()\n",
    "\n",
    "et = time.time()\n",
    "elapsed_time = et - st\n",
    "print('Execution time:', elapsed_time, 'seconds')"
   ]
  },
  {
   "cell_type": "code",
   "execution_count": 4,
   "id": "5330ba1f-646b-4108-9e67-af8290034c9c",
   "metadata": {},
   "outputs": [
    {
     "name": "stdout",
     "output_type": "stream",
     "text": [
      "Accuracy RBF Kernel: 0.8049545086028286\n"
     ]
    },
    {
     "data": {
      "image/png": "[encoded data removed]",
      "text/plain": [
       "<Figure size 640x480 with 2 Axes>"
      ]
     },
     "metadata": {},
     "output_type": "display_data"
    }
   ],
   "source": [
    "# RBF kernel with scaling, C=1\n",
    "scaler = RobustScaler()\n",
    "X_train = scaler.fit_transform(X_train)\n",
    "\n",
    "rbf = svm.SVC(kernel='rbf', C=1, decision_function_shape='ovo')\n",
    "rbf.fit(X_train, y_train)\n",
    "\n",
    "X_test = scaler.transform(X_test)\n",
    "rbf_pred = rbf.predict(X_test)\n",
    "\n",
    "accuracy_rbf = rbf.score(X_test, y_test)\n",
    "print('Accuracy RBF Kernel:', accuracy_rbf)\n",
    "\n",
    "ConfusionMatrixDisplay.from_predictions(y_test,rbf_pred)\n",
    "plt.show()"
   ]
  },
  {
   "cell_type": "code",
   "execution_count": 7,
   "id": "5386eade-d175-4a65-aac1-078c4cab3a16",
   "metadata": {},
   "outputs": [
    {
     "name": "stdout",
     "output_type": "stream",
     "text": [
      "0.724235278851276\n"
     ]
    }
   ],
   "source": [
    "print(balanced_accuracy_score(y_test, rbf_pred))"
   ]
  },
  {
   "cell_type": "markdown",
   "id": "9b084e3f-3903-4430-b88e-08481ca42fc8",
   "metadata": {},
   "source": [
    "### LinearSVC"
   ]
  },
  {
   "cell_type": "code",
   "execution_count": null,
   "id": "bdd3fec8-9e53-4775-9d00-68881eddaacc",
   "metadata": {},
   "outputs": [],
   "source": [
    "# Tuning of LinearSVC with scaling\n",
    "\n",
    "st = time.time()\n",
    "\n",
    "scaler = RobustScaler()\n",
    "X_train = scaler.fit_transform(X_train)\n",
    "X_val = scaler.fit_transform(X_val)\n",
    "    \n",
    "acc_c = []\n",
    "for c in [0.1,0.5,1,5,10]:\n",
    "    linSVC_model = LinearSVC(C=c, max_iter=300000)\n",
    "    linSVC_model.fit(X_train, y_train)\n",
    "\n",
    "    y_pred = linSVC_model.predict(X_val)\n",
    "    \n",
    "    accuracy_lin = accuracy_score(y_val, y_pred)\n",
    "    acc_c.append(accuracy_lin)\n",
    "    #ConfusionMatrixDisplay.from_predictions(y_val,y_pred)\n",
    "\n",
    "    print(c, accuracy_lin)\n",
    "    \n",
    "    \n",
    "plt.plot([0.1,0.5,1,5,10], acc_c)\n",
    "plt.show()\n",
    "\n",
    "et = time.time()\n",
    "elapsed_time = et - st\n",
    "print('Execution time:', elapsed_time, 'seconds')"
   ]
  },
  {
   "cell_type": "code",
   "execution_count": 5,
   "id": "ce9d8375-99b8-4e9d-ba2e-f7244e371d77",
   "metadata": {},
   "outputs": [
    {
     "name": "stdout",
     "output_type": "stream",
     "text": [
      "0.7780019818034412\n",
      "0.6928700585795434\n"
     ]
    },
    {
     "data": {
      "image/png": "[encoded data removed]",
      "text/plain": [
       "<Figure size 640x480 with 2 Axes>"
      ]
     },
     "metadata": {},
     "output_type": "display_data"
    }
   ],
   "source": [
    "#LinearSVC with scaling, C=1\n",
    "scaler = RobustScaler()\n",
    "X_train = scaler.fit_transform(X_train)\n",
    "\n",
    "lin = LinearSVC(C=1,max_iter=300000)\n",
    "lin.fit(X_train, y_train)\n",
    "\n",
    "\n",
    "X_test = scaler.transform(X_test)\n",
    "y_pred = lin.predict(X_test)\n",
    "\n",
    "acc = accuracy_score(y_test, y_pred)\n",
    "print(acc)\n",
    "print(balanced_accuracy_score(y_test, y_pred))\n",
    "\n",
    "ConfusionMatrixDisplay.from_predictions(y_test, y_pred)\n",
    "plt.show()"
   ]
  },
  {
   "cell_type": "code",
   "execution_count": null,
   "id": "c98cc05d-e1d8-4a17-a9fc-4361f63f28d4",
   "metadata": {},
   "outputs": [],
   "source": []
  }
 ],
 "metadata": {
  "kernelspec": {
   "display_name": "Python 3 (ipykernel)",
   "language": "python",
   "name": "python3"
  },
  "language_info": {
   "codemirror_mode": {
    "name": "ipython",
    "version": 3
   },
   "file_extension": ".py",
   "mimetype": "text/x-python",
   "name": "python",
   "nbconvert_exporter": "python",
   "pygments_lexer": "ipython3",
   "version": "3.8.13"
  }
 },
 "nbformat": 4,
 "nbformat_minor": 5
}
