{
 "cells": [
  {
   "cell_type": "code",
   "execution_count": 21,
   "id": "f796e460-4a45-43a0-9ac6-d57fab640713",
   "metadata": {},
   "outputs": [],
   "source": [
    "import matplotlib.pyplot as plt\n",
    "import numpy as np\n",
    "import os\n",
    "import pandas as pd\n",
    "import time\n",
    "from sklearn.model_selection import train_test_split\n",
    "from sklearn.neighbors import KNeighborsClassifier\n",
    "from sklearn.datasets import load_iris\n",
    "from sklearn.metrics import confusion_matrix, ConfusionMatrixDisplay"
   ]
  },
  {
   "cell_type": "code",
   "execution_count": 22,
   "id": "ce2405ad-5dc1-4c74-9c01-fcc495b90558",
   "metadata": {},
   "outputs": [
    {
     "name": "stdout",
     "output_type": "stream",
     "text": [
      "<bound method NDFrame.head of                                                      red     green      blue  \\\n",
      "data\\10253\\0\\10253_idx5_x1001_y1001_class0.png  0.827936  0.582193  0.756613   \n",
      "data\\10253\\0\\10253_idx5_x1001_y1051_class0.png  0.875114  0.723770  0.835029   \n",
      "data\\10253\\0\\10253_idx5_x1001_y1101_class0.png  0.916524  0.848179  0.903890   \n",
      "data\\10253\\0\\10253_idx5_x1001_y1151_class0.png  0.913735  0.863232  0.911594   \n",
      "data\\10253\\0\\10253_idx5_x1001_y1201_class0.png  0.914912  0.823939  0.884461   \n",
      "...                                                  ...       ...       ...   \n",
      "data\\10257\\0\\10257_idx5_x2251_y801_class0.png   0.674976  0.434455  0.609438   \n",
      "data\\10257\\0\\10257_idx5_x2251_y851_class0.png   0.698496  0.540002  0.684933   \n",
      "data\\10257\\0\\10257_idx5_x2301_y1601_class0.png  0.749691  0.733233  0.818891   \n",
      "data\\10257\\0\\10257_idx5_x2301_y1751_class0.png  0.898943  0.846397  0.886857   \n",
      "data\\10257\\0\\10257_idx5_x2301_y2001_class0.png  0.897586  0.850609  0.885538   \n",
      "\n",
      "                                                  gray  \n",
      "data\\10253\\0\\10253_idx5_x1001_y1001_class0.png  2.3008  \n",
      "data\\10253\\0\\10253_idx5_x1001_y1051_class0.png  2.7392  \n",
      "data\\10253\\0\\10253_idx5_x1001_y1101_class0.png  2.4604  \n",
      "data\\10253\\0\\10253_idx5_x1001_y1151_class0.png  2.7792  \n",
      "data\\10253\\0\\10253_idx5_x1001_y1201_class0.png  2.8936  \n",
      "...                                                ...  \n",
      "data\\10257\\0\\10257_idx5_x2251_y801_class0.png   2.2356  \n",
      "data\\10257\\0\\10257_idx5_x2251_y851_class0.png   2.3648  \n",
      "data\\10257\\0\\10257_idx5_x2301_y1601_class0.png  2.5344  \n",
      "data\\10257\\0\\10257_idx5_x2301_y1751_class0.png  2.7188  \n",
      "data\\10257\\0\\10257_idx5_x2301_y2001_class0.png  2.7140  \n",
      "\n",
      "[2500 rows x 4 columns]>\n"
     ]
    }
   ],
   "source": [
    "#Import dataframe from JSON file\n",
    "jsonStr = \"parameters_df.json\"\n",
    "imported_df = pd.read_json(jsonStr, orient ='index')\n",
    "print(imported_df.head)"
   ]
  },
  {
   "cell_type": "code",
   "execution_count": 26,
   "id": "915d645b-fd4d-40c6-929b-6230292dedba",
   "metadata": {},
   "outputs": [
    {
     "ename": "KeyError",
     "evalue": "'path'",
     "output_type": "error",
     "traceback": [
      "\u001b[1;31m---------------------------------------------------------------------------\u001b[0m",
      "\u001b[1;31mKeyError\u001b[0m                                  Traceback (most recent call last)",
      "File \u001b[1;32m~\\anaconda3\\envs\\malis\\lib\\site-packages\\pandas\\core\\indexes\\base.py:3803\u001b[0m, in \u001b[0;36mIndex.get_loc\u001b[1;34m(self, key, method, tolerance)\u001b[0m\n\u001b[0;32m   3802\u001b[0m \u001b[38;5;28;01mtry\u001b[39;00m:\n\u001b[1;32m-> 3803\u001b[0m     \u001b[38;5;28;01mreturn\u001b[39;00m \u001b[38;5;28;43mself\u001b[39;49m\u001b[38;5;241;43m.\u001b[39;49m\u001b[43m_engine\u001b[49m\u001b[38;5;241;43m.\u001b[39;49m\u001b[43mget_loc\u001b[49m\u001b[43m(\u001b[49m\u001b[43mcasted_key\u001b[49m\u001b[43m)\u001b[49m\n\u001b[0;32m   3804\u001b[0m \u001b[38;5;28;01mexcept\u001b[39;00m \u001b[38;5;167;01mKeyError\u001b[39;00m \u001b[38;5;28;01mas\u001b[39;00m err:\n",
      "File \u001b[1;32m~\\anaconda3\\envs\\malis\\lib\\site-packages\\pandas\\_libs\\index.pyx:138\u001b[0m, in \u001b[0;36mpandas._libs.index.IndexEngine.get_loc\u001b[1;34m()\u001b[0m\n",
      "File \u001b[1;32m~\\anaconda3\\envs\\malis\\lib\\site-packages\\pandas\\_libs\\index.pyx:165\u001b[0m, in \u001b[0;36mpandas._libs.index.IndexEngine.get_loc\u001b[1;34m()\u001b[0m\n",
      "File \u001b[1;32mpandas\\_libs\\hashtable_class_helper.pxi:5745\u001b[0m, in \u001b[0;36mpandas._libs.hashtable.PyObjectHashTable.get_item\u001b[1;34m()\u001b[0m\n",
      "File \u001b[1;32mpandas\\_libs\\hashtable_class_helper.pxi:5753\u001b[0m, in \u001b[0;36mpandas._libs.hashtable.PyObjectHashTable.get_item\u001b[1;34m()\u001b[0m\n",
      "\u001b[1;31mKeyError\u001b[0m: 'path'",
      "\nThe above exception was the direct cause of the following exception:\n",
      "\u001b[1;31mKeyError\u001b[0m                                  Traceback (most recent call last)",
      "Cell \u001b[1;32mIn [26], line 11\u001b[0m\n\u001b[0;32m      1\u001b[0m \u001b[38;5;66;03m#Knn algorithm\u001b[39;00m\n\u001b[0;32m      2\u001b[0m \u001b[38;5;66;03m#k = 3\u001b[39;00m\n\u001b[0;32m      3\u001b[0m \u001b[38;5;66;03m#X = imported_df['gray'].values #Getting the grayscale feature of the pictures\u001b[39;00m\n\u001b[1;32m   (...)\u001b[0m\n\u001b[0;32m      8\u001b[0m   \n\u001b[0;32m      9\u001b[0m \u001b[38;5;66;03m# Create feature and target arrays\u001b[39;00m\n\u001b[0;32m     10\u001b[0m X \u001b[38;5;241m=\u001b[39m imported_df\u001b[38;5;241m.\u001b[39mvalues\n\u001b[1;32m---> 11\u001b[0m y \u001b[38;5;241m=\u001b[39m \u001b[43mimported_df\u001b[49m\u001b[43m[\u001b[49m\u001b[38;5;124;43m'\u001b[39;49m\u001b[38;5;124;43mpath\u001b[39;49m\u001b[38;5;124;43m'\u001b[39;49m\u001b[43m]\u001b[49m\u001b[38;5;241m.\u001b[39mvalues\n\u001b[0;32m     13\u001b[0m \u001b[38;5;66;03m# Split into training and test set\u001b[39;00m\n\u001b[0;32m     14\u001b[0m X_train, X_test, y_train, y_test \u001b[38;5;241m=\u001b[39m train_test_split(X, y, test_size \u001b[38;5;241m=\u001b[39m \u001b[38;5;241m0.2\u001b[39m, random_state\u001b[38;5;241m=\u001b[39m\u001b[38;5;241m42\u001b[39m)\n",
      "File \u001b[1;32m~\\anaconda3\\envs\\malis\\lib\\site-packages\\pandas\\core\\frame.py:3805\u001b[0m, in \u001b[0;36mDataFrame.__getitem__\u001b[1;34m(self, key)\u001b[0m\n\u001b[0;32m   3803\u001b[0m \u001b[38;5;28;01mif\u001b[39;00m \u001b[38;5;28mself\u001b[39m\u001b[38;5;241m.\u001b[39mcolumns\u001b[38;5;241m.\u001b[39mnlevels \u001b[38;5;241m>\u001b[39m \u001b[38;5;241m1\u001b[39m:\n\u001b[0;32m   3804\u001b[0m     \u001b[38;5;28;01mreturn\u001b[39;00m \u001b[38;5;28mself\u001b[39m\u001b[38;5;241m.\u001b[39m_getitem_multilevel(key)\n\u001b[1;32m-> 3805\u001b[0m indexer \u001b[38;5;241m=\u001b[39m \u001b[38;5;28;43mself\u001b[39;49m\u001b[38;5;241;43m.\u001b[39;49m\u001b[43mcolumns\u001b[49m\u001b[38;5;241;43m.\u001b[39;49m\u001b[43mget_loc\u001b[49m\u001b[43m(\u001b[49m\u001b[43mkey\u001b[49m\u001b[43m)\u001b[49m\n\u001b[0;32m   3806\u001b[0m \u001b[38;5;28;01mif\u001b[39;00m is_integer(indexer):\n\u001b[0;32m   3807\u001b[0m     indexer \u001b[38;5;241m=\u001b[39m [indexer]\n",
      "File \u001b[1;32m~\\anaconda3\\envs\\malis\\lib\\site-packages\\pandas\\core\\indexes\\base.py:3805\u001b[0m, in \u001b[0;36mIndex.get_loc\u001b[1;34m(self, key, method, tolerance)\u001b[0m\n\u001b[0;32m   3803\u001b[0m     \u001b[38;5;28;01mreturn\u001b[39;00m \u001b[38;5;28mself\u001b[39m\u001b[38;5;241m.\u001b[39m_engine\u001b[38;5;241m.\u001b[39mget_loc(casted_key)\n\u001b[0;32m   3804\u001b[0m \u001b[38;5;28;01mexcept\u001b[39;00m \u001b[38;5;167;01mKeyError\u001b[39;00m \u001b[38;5;28;01mas\u001b[39;00m err:\n\u001b[1;32m-> 3805\u001b[0m     \u001b[38;5;28;01mraise\u001b[39;00m \u001b[38;5;167;01mKeyError\u001b[39;00m(key) \u001b[38;5;28;01mfrom\u001b[39;00m \u001b[38;5;21;01merr\u001b[39;00m\n\u001b[0;32m   3806\u001b[0m \u001b[38;5;28;01mexcept\u001b[39;00m \u001b[38;5;167;01mTypeError\u001b[39;00m:\n\u001b[0;32m   3807\u001b[0m     \u001b[38;5;66;03m# If we have a listlike key, _check_indexing_error will raise\u001b[39;00m\n\u001b[0;32m   3808\u001b[0m     \u001b[38;5;66;03m#  InvalidIndexError. Otherwise we fall through and re-raise\u001b[39;00m\n\u001b[0;32m   3809\u001b[0m     \u001b[38;5;66;03m#  the TypeError.\u001b[39;00m\n\u001b[0;32m   3810\u001b[0m     \u001b[38;5;28mself\u001b[39m\u001b[38;5;241m.\u001b[39m_check_indexing_error(key)\n",
      "\u001b[1;31mKeyError\u001b[0m: 'path'"
     ]
    }
   ],
   "source": [
    "#Knn algorithm\n",
    "#k = 3\n",
    "#X = imported_df['gray'].values #Getting the grayscale feature of the pictures\n",
    "#y = imported_df.values #Getting the class of the pictures\n",
    "#X_train, y_train = train_test_split(imported_df, test_size=0.3, train_size=0.7, random_state=30)\n",
    "#knn_model.fit(X_train, y_train)\n",
    "\n",
    "  \n",
    "# Create feature and target arrays\n",
    "X = imported_df.values\n",
    "y = imported_df[''].values\n",
    "  \n",
    "# Split into training and test set\n",
    "X_train, X_test, y_train, y_test = train_test_split(X, y, test_size = 0.2, random_state=42)\n",
    "  \n",
    "knn = KNeighborsClassifier(n_neighbors=7)\n",
    "knn.fit(X_train, y_train)\n",
    "\n",
    "\n",
    "pred = knn.predict(X_test)\n",
    "conf_mat = confusion_matrix(y_test, pred)\n",
    "acc = pred/len(y_test)\n",
    "disp = ConfusionMatrixDisplay(conf_mat)\n",
    "\n",
    "print(pred)\n",
    "print(acc)\n",
    "\n",
    "disp.plot()\n",
    "plt.show()\n",
    "\n",
    "\n"
   ]
  },
  {
   "cell_type": "code",
   "execution_count": null,
   "id": "65e0dc8a-8100-40a0-8b12-f16da2c06335",
   "metadata": {},
   "outputs": [],
   "source": []
  }
 ],
 "metadata": {
  "kernelspec": {
   "display_name": "Python 3 (ipykernel)",
   "language": "python",
   "name": "python3"
  },
  "language_info": {
   "codemirror_mode": {
    "name": "ipython",
    "version": 3
   },
   "file_extension": ".py",
   "mimetype": "text/x-python",
   "name": "python",
   "nbconvert_exporter": "python",
   "pygments_lexer": "ipython3",
   "version": "3.8.15"
  }
 },
 "nbformat": 4,
 "nbformat_minor": 5
}
