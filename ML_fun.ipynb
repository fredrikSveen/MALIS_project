{
 "cells": [
  {
   "cell_type": "markdown",
   "id": "d171bad4-43e8-4223-b18b-f8ee9f3b0393",
   "metadata": {},
   "source": [
    "# SVM"
   ]
  },
  {
   "cell_type": "code",
   "execution_count": 1,
   "id": "fd08857a-9899-42a0-bbd4-4773dadb13ec",
   "metadata": {},
   "outputs": [],
   "source": [
    "import matplotlib.pyplot as plt\n",
    "import numpy as np\n",
    "import os\n",
    "import pandas as pd\n",
    "from sklearn.model_selection import train_test_split\n",
    "from sklearn import svm\n",
    "from sklearn.metrics import confusion_matrix, ConfusionMatrixDisplay, accuracy_score\n",
    "import time"
   ]
  },
  {
   "cell_type": "code",
   "execution_count": 2,
   "id": "925898e3-6f53-40a6-9b4a-d5df7ea46b14",
   "metadata": {},
   "outputs": [
    {
     "name": "stdout",
     "output_type": "stream",
     "text": [
      "<bound method NDFrame.tail of                                                  red   green    blue  \\\n",
      "data/9036/0/9036_idx5_x1051_y2401_class0.png  3.0528  2.3076  2.3516   \n",
      "data/9036/0/9036_idx5_x2951_y951_class0.png   2.0684  2.5360  2.5404   \n",
      "data/9036/0/9036_idx5_x3001_y1451_class0.png  2.7024  2.8000  2.4032   \n",
      "data/9036/0/9036_idx5_x3051_y801_class0.png   2.5140  2.2112  2.6992   \n",
      "data/9036/0/9036_idx5_x951_y1901_class0.png   2.7728  2.5544  2.3368   \n",
      "...                                              ...     ...     ...   \n",
      "data/9037/1/9037_idx5_x2051_y201_class1.png   2.6768  2.5504  2.4840   \n",
      "data/9037/1/9037_idx5_x1301_y301_class1.png   2.3604  2.1788  2.7524   \n",
      "data/9037/1/9037_idx5_x1651_y851_class1.png   2.8944  2.7236  2.4576   \n",
      "data/9037/1/9037_idx5_x1301_y401_class1.png   2.2180  2.6368  2.4044   \n",
      "data/9037/1/9037_idx5_x1401_y801_class1.png   2.7832  2.4880  2.4188   \n",
      "\n",
      "                                              gray_avg  gray_var  edges  group  \n",
      "data/9036/0/9036_idx5_x1051_y2401_class0.png  0.680398  0.042388    409      0  \n",
      "data/9036/0/9036_idx5_x2951_y951_class0.png   0.803280  0.023050    306      0  \n",
      "data/9036/0/9036_idx5_x3001_y1451_class0.png  0.669149  0.015657    417      0  \n",
      "data/9036/0/9036_idx5_x3051_y801_class0.png   0.564788  0.010467    319      0  \n",
      "data/9036/0/9036_idx5_x951_y1901_class0.png   0.764039  0.016836    526      0  \n",
      "...                                                ...       ...    ...    ...  \n",
      "data/9037/1/9037_idx5_x2051_y201_class1.png   0.504318  0.010351    502      1  \n",
      "data/9037/1/9037_idx5_x1301_y301_class1.png   0.489170  0.006967    362      1  \n",
      "data/9037/1/9037_idx5_x1651_y851_class1.png   0.503372  0.009170    423      1  \n",
      "data/9037/1/9037_idx5_x1301_y401_class1.png   0.473449  0.005403    207      1  \n",
      "data/9037/1/9037_idx5_x1401_y801_class1.png   0.522316  0.010094    345      1  \n",
      "\n",
      "[32090 rows x 7 columns]>\n"
     ]
    }
   ],
   "source": [
    "# Import dataframe from JSON file\n",
    "jsonStr = \"parameters_df.json\"\n",
    "df = pd.read_json(jsonStr, orient ='index')\n",
    "print(df.tail)"
   ]
  },
  {
   "cell_type": "code",
   "execution_count": 3,
   "id": "9d3cfa95-ac5b-45e4-9dce-0ea234e4d754",
   "metadata": {},
   "outputs": [
    {
     "name": "stdout",
     "output_type": "stream",
     "text": [
      "X_train : \n",
      "                                                 red   green    blue  \\\n",
      "data/9036/0/9036_idx5_x1051_y2401_class0.png  3.0528  2.3076  2.3516   \n",
      "data/9036/0/9036_idx5_x2951_y951_class0.png   2.0684  2.5360  2.5404   \n",
      "data/9036/0/9036_idx5_x3001_y1451_class0.png  2.7024  2.8000  2.4032   \n",
      "data/9036/0/9036_idx5_x3051_y801_class0.png   2.5140  2.2112  2.6992   \n",
      "data/9036/0/9036_idx5_x951_y1901_class0.png   2.7728  2.5544  2.3368   \n",
      "\n",
      "                                              gray_avg  gray_var  edges  \n",
      "data/9036/0/9036_idx5_x1051_y2401_class0.png  0.680398  0.042388    409  \n",
      "data/9036/0/9036_idx5_x2951_y951_class0.png   0.803280  0.023050    306  \n",
      "data/9036/0/9036_idx5_x3001_y1451_class0.png  0.669149  0.015657    417  \n",
      "data/9036/0/9036_idx5_x3051_y801_class0.png   0.564788  0.010467    319  \n",
      "data/9036/0/9036_idx5_x951_y1901_class0.png   0.764039  0.016836    526  \n",
      "(22463, 6)\n",
      "\n",
      "X_test : \n",
      "                                                   red   green    blue  \\\n",
      "data/12934/0/12934_idx5_x2051_y1651_class0.png  2.6824  2.4592  2.5744   \n",
      "data/12934/0/12934_idx5_x2101_y1501_class0.png  2.6500  2.6536  2.7896   \n",
      "data/12934/0/12934_idx5_x301_y1201_class0.png   2.8388  2.4120  2.3764   \n",
      "data/12934/0/12934_idx5_x3201_y2201_class0.png  2.7308  2.3684  2.8308   \n",
      "data/12934/0/12934_idx5_x3351_y2151_class0.png  2.6464  2.6108  2.5708   \n",
      "\n",
      "                                                gray_avg  gray_var  edges  \n",
      "data/12934/0/12934_idx5_x2051_y1651_class0.png  0.669579  0.027692    640  \n",
      "data/12934/0/12934_idx5_x2101_y1501_class0.png  0.589776  0.017526    462  \n",
      "data/12934/0/12934_idx5_x301_y1201_class0.png   0.318429  0.006291     62  \n",
      "data/12934/0/12934_idx5_x3201_y2201_class0.png  0.829115  0.013988    340  \n",
      "data/12934/0/12934_idx5_x3351_y2151_class0.png  0.734262  0.026398    526  \n",
      "(6418, 6)\n",
      "\n",
      "X_val : \n",
      "                                                  red   green    blue  \\\n",
      "data/16555/1/16555_idx5_x501_y1001_class1.png  2.6384  2.9292  2.7312   \n",
      "data/16555/1/16555_idx5_x701_y851_class1.png   2.5144  2.6960  2.4156   \n",
      "data/16555/1/16555_idx5_x851_y1151_class1.png  2.6616  2.1192  2.7908   \n",
      "data/16555/1/16555_idx5_x901_y1151_class1.png  2.0676  2.8472  2.3968   \n",
      "data/16555/1/16555_idx5_x951_y951_class1.png   2.4944  2.2812  2.5444   \n",
      "\n",
      "                                               gray_avg  gray_var  edges  \n",
      "data/16555/1/16555_idx5_x501_y1001_class1.png  0.381163  0.006927    256  \n",
      "data/16555/1/16555_idx5_x701_y851_class1.png   0.553302  0.013943    233  \n",
      "data/16555/1/16555_idx5_x851_y1151_class1.png  0.583193  0.045316    312  \n",
      "data/16555/1/16555_idx5_x901_y1151_class1.png  0.836057  0.039974    154  \n",
      "data/16555/1/16555_idx5_x951_y951_class1.png   0.499268  0.006530    205  \n",
      "(3209, 6)\n",
      "\n",
      "y_train : \n",
      "data/9036/0/9036_idx5_x1051_y2401_class0.png    0\n",
      "data/9036/0/9036_idx5_x2951_y951_class0.png     0\n",
      "data/9036/0/9036_idx5_x3001_y1451_class0.png    0\n",
      "data/9036/0/9036_idx5_x3051_y801_class0.png     0\n",
      "data/9036/0/9036_idx5_x951_y1901_class0.png     0\n",
      "Name: group, dtype: int64\n",
      "(22463,)\n",
      "\n",
      "y_test : \n",
      "data/12934/0/12934_idx5_x2051_y1651_class0.png    0\n",
      "data/12934/0/12934_idx5_x2101_y1501_class0.png    0\n",
      "data/12934/0/12934_idx5_x301_y1201_class0.png     0\n",
      "data/12934/0/12934_idx5_x3201_y2201_class0.png    0\n",
      "data/12934/0/12934_idx5_x3351_y2151_class0.png    0\n",
      "Name: group, dtype: int64\n",
      "(6418,)\n",
      "\n",
      "y_val : \n",
      "data/16555/1/16555_idx5_x501_y1001_class1.png    1\n",
      "data/16555/1/16555_idx5_x701_y851_class1.png     1\n",
      "data/16555/1/16555_idx5_x851_y1151_class1.png    1\n",
      "data/16555/1/16555_idx5_x901_y1151_class1.png    1\n",
      "data/16555/1/16555_idx5_x951_y951_class1.png     1\n",
      "Name: group, dtype: int64\n",
      "(3209,)\n"
     ]
    }
   ],
   "source": [
    "X= df[['red','green','blue','gray_avg','gray_var','edges']]\n",
    "y=df['group']\n",
    "\n",
    "# using the train test split function\n",
    "X_train, X_test, y_train, y_test = train_test_split(X,y, test_size=0.2, shuffle=False)\n",
    "\n",
    "X_train, X_val, y_train, y_val = train_test_split(X_train, y_train, test_size=0.125, shuffle=False)\n",
    "\n",
    "print('X_train : ')\n",
    "print(X_train.head())\n",
    "print(X_train.shape)\n",
    "print('')\n",
    "print('X_test : ')\n",
    "print(X_test.head())\n",
    "print(X_test.shape)\n",
    "print('')\n",
    "print('X_val : ')\n",
    "print(X_val.head())\n",
    "print(X_val.shape)\n",
    "print('')\n",
    "print('y_train : ')\n",
    "print(y_train.head())\n",
    "print(y_train.shape)\n",
    "print('')\n",
    "print('y_test : ')\n",
    "print(y_test.head())\n",
    "print(y_test.shape)\n",
    "print('')\n",
    "print('y_val : ')\n",
    "print(y_val.head())\n",
    "print(y_val.shape)"
   ]
  },
  {
   "cell_type": "markdown",
   "id": "7d300ded-5036-4936-acaf-d16e9807d5b2",
   "metadata": {
    "tags": []
   },
   "source": [
    "## SVM\n",
    "Documentation: https://scikit-learn.org/stable/modules/generated/sklearn.svm.SVC.html\n",
    "\n",
    "Youtube: https://www.youtube.com/watch?v=zEabrO9l1vg, https://www.youtube.com/watch?v=FB5EdxAGxQg"
   ]
  },
  {
   "cell_type": "markdown",
   "id": "9c0b3241-f790-4261-a0d3-2ee6d4f662f3",
   "metadata": {},
   "source": [
    "### Linear Kernel SVM\n",
    "Tuning with the validation set and trying with different values of C, to afterwards use with the test set"
   ]
  },
  {
   "cell_type": "code",
   "execution_count": null,
   "id": "b66adb9d-56db-4f47-848a-184e946562f7",
   "metadata": {},
   "outputs": [],
   "source": [
    "st = time.time()\n",
    "\n",
    "acc_c = []\n",
    "start = 1\n",
    "stop = 10\n",
    "step = 2\n",
    "for c in [0.1,0.5,1,5,10]:\n",
    "    st0 = time.time()\n",
    "    \n",
    "    linear_model = svm.SVC(kernel='linear', C=c, decision_function_shape='ovo').fit(X_train, y_train)\n",
    "    y_pred = linear_model.predict(X_val)\n",
    "    \n",
    "    accuracy_lin = accuracy_score(y_val, y_pred)\n",
    "    acc_c.append(accuracy_lin)\n",
    "    et0 = time.time()\n",
    "    elapsed0 = et0-st0\n",
    "    print(c, accuracy_lin, elapsed0)\n",
    "    \n",
    "    \n",
    "plt.plot([0.1,0.5,1,5,10], acc_c)\n",
    "plt.show()\n",
    "\n",
    "et = time.time()\n",
    "elapsed_time = et - st\n",
    "print('Execution time:', elapsed_time, 'seconds')"
   ]
  },
  {
   "cell_type": "code",
   "execution_count": 9,
   "id": "947eae6a-5e23-4439-b9f2-de567d4f0b4a",
   "metadata": {},
   "outputs": [
    {
     "name": "stdout",
     "output_type": "stream",
     "text": [
      "0.00018405914306640625\n",
      "778.4425570964813\n",
      "779.6179208755493\n",
      "Accuracy Linear Kernel: 0.6997507011530072\n"
     ]
    },
    {
     "data": {
      "text/plain": [
       "<sklearn.metrics._plot.confusion_matrix.ConfusionMatrixDisplay at 0x7f8b22d08eb0>"
      ]
     },
     "execution_count": 9,
     "metadata": {},
     "output_type": "execute_result"
    },
    {
     "data": {
      "image/png": "[encoded data removed]",
      "text/plain": [
       "<Figure size 640x480 with 2 Axes>"
      ]
     },
     "metadata": {},
     "output_type": "display_data"
    }
   ],
   "source": [
    "# LINEAR KERNEL SVM WITH C = \n",
    "st = time.time()\n",
    "\n",
    "linear = svm.SVC(kernel='linear', C=1, decision_function_shape='ovo')\n",
    "et = time.time()\n",
    "print(et-st)\n",
    "linear.fit(X_train, y_train)\n",
    "et = time.time()\n",
    "print(et-st)\n",
    "linear_pred = linear.predict(X_test)\n",
    "et = time.time()\n",
    "print(et-st)\n",
    "\n",
    "# Accuracy\n",
    "accuracy_lin = linear.score(X_test, y_test)\n",
    "print('Accuracy Linear Kernel:', accuracy_lin)\n",
    "\n",
    "# Confusion matrix\n",
    "cm_lin = confusion_matrix(y_test, linear_pred)\n",
    "ConfusionMatrixDisplay.from_predictions(y_test,linear_pred)"
   ]
  },
  {
   "cell_type": "markdown",
   "id": "fb466f93-01a2-4c83-89f3-9ba86c3feab5",
   "metadata": {},
   "source": [
    "### Radial Basis Function Kernel SVM\n",
    "Tuning with the validation set and trying with different values of C, to afterwards use with the test set"
   ]
  },
  {
   "cell_type": "code",
   "execution_count": 4,
   "id": "9cd087b6-1cc7-44f9-bf5e-5f6b61a1ae51",
   "metadata": {},
   "outputs": [
    {
     "name": "stdout",
     "output_type": "stream",
     "text": [
      "0.1 0.7858923230309073 20.769062757492065\n",
      "0.5 0.7858923230309073 20.878252029418945\n",
      "1 0.7858923230309073 20.88246726989746\n",
      "5 0.7858923230309073 23.412653923034668\n",
      "10 0.7858923230309073 24.089492797851562\n"
     ]
    },
    {
     "data": {
      "image/png": "[encoded data removed]",
      "text/plain": [
       "<Figure size 640x480 with 1 Axes>"
      ]
     },
     "metadata": {},
     "output_type": "display_data"
    },
    {
     "name": "stdout",
     "output_type": "stream",
     "text": [
      "0.7858923230309073\n",
      "Execution time: 110.27903270721436 seconds\n"
     ]
    }
   ],
   "source": [
    "st = time.time()\n",
    "\n",
    "acc_c = []\n",
    "for c in [0.1,0.5,1,5,10]:\n",
    "    st0 = time.time()\n",
    "    rbf_model = svm.SVC(kernel='rbf', C=c, decision_function_shape='ovo').fit(X_train, y_train)\n",
    "    y_pred = rbf_model.predict(X_val)\n",
    "    \n",
    "    accuracy_rbf = accuracy_score(y_val, y_pred)\n",
    "    \n",
    "    acc_c.append(accuracy_rbf)\n",
    "    et0 = time.time()\n",
    "    elapsed0 = et0-st0\n",
    "    print(c, accuracy_rbf, elapsed0)\n",
    "    \n",
    "plt.plot([0.1,0.5,1,5,10], acc_c)\n",
    "plt.show()\n",
    "print(max(acc_c))\n",
    "\n",
    "et = time.time()\n",
    "elapsed_time = et - st\n",
    "print('Execution time:', elapsed_time, 'seconds')"
   ]
  },
  {
   "cell_type": "code",
   "execution_count": null,
   "id": "8703bb3c-72f2-4933-988f-e74e70f98c5e",
   "metadata": {},
   "outputs": [],
   "source": [
    "# RBF\n",
    "rbf = svm.SVC(kernel='rbf', C=1, decision_function_shape='ovo')\n",
    "rbf.fit(X_train, y_train)\n",
    "\n",
    "# Accuracy 0.7923028980990963\n",
    "rbf_pred = rbf.predict(X_test)\n",
    "accuracy_rbf = rbf.score(X_test, y_test)\n",
    "print('Accuracy RBF Kernel:', accuracy_rbf)\n",
    "\n",
    "# Confusion matrix \n",
    "cm_rbf = confusion_matrix(y_test, rbf_pred)\n",
    "ConfusionMatrixDisplay.from_predictions(y_test,rbf_pred)"
   ]
  },
  {
   "cell_type": "markdown",
   "id": "89933cce-c2a2-4176-a4d0-f5f546248d3f",
   "metadata": {},
   "source": [
    "### Polynomial Kernel SVM\n",
    "Tuning with the validation set and trying with different values of C, to afterwards use with the test set"
   ]
  },
  {
   "cell_type": "code",
   "execution_count": 7,
   "id": "e5c4387d-6bec-47ad-8399-e8273a9b59a1",
   "metadata": {},
   "outputs": [
    {
     "name": "stdout",
     "output_type": "stream",
     "text": [
      "0.1 0.7865378622623871 20.078919887542725\n",
      "0.5 0.7865378622623871 24.993197917938232\n",
      "1 0.7865378622623871 43.60952115058899\n",
      "5 0.7865378622623871 172.78747582435608\n",
      "10 0.7865378622623871 517.7333879470825\n",
      "20 0.7865378622623871 1178.792807340622\n"
     ]
    },
    {
     "data": {
      "image/png": "[encoded data removed]",
      "text/plain": [
       "<Figure size 640x480 with 1 Axes>"
      ]
     },
     "metadata": {},
     "output_type": "display_data"
    }
   ],
   "source": [
    "acc_c = []\n",
    "for c in [0.1,0.5,1,5,10,20]:\n",
    "    st0 = time.time()\n",
    "    poly_model = svm.SVC(kernel='poly', C=c, decision_function_shape='ovo').fit(X_train, y_train)\n",
    "    y_pred = poly_model.predict(X_val)\n",
    "    \n",
    "    accuracy_poly = accuracy_score(y_val, y_pred)\n",
    "    \n",
    "    acc_c.append(accuracy_poly)\n",
    "    et0 = time.time()\n",
    "    elapsed0 = et0-st0\n",
    "    print(c, accuracy_poly, elapsed0)\n",
    "    \n",
    "plt.plot([0.1,0.5,1,5,10,20], acc_c)\n",
    "plt.show()"
   ]
  },
  {
   "cell_type": "code",
   "execution_count": 4,
   "id": "e331fb08-0a9a-45f8-a9ad-c51fd8845845",
   "metadata": {},
   "outputs": [
    {
     "name": "stdout",
     "output_type": "stream",
     "text": [
      "Accuracy Polynomial Kernel: 0.6997507011530072\n"
     ]
    },
    {
     "data": {
      "text/plain": [
       "<sklearn.metrics._plot.confusion_matrix.ConfusionMatrixDisplay at 0x7fb8eee6b3a0>"
      ]
     },
     "execution_count": 4,
     "metadata": {},
     "output_type": "execute_result"
    },
    {
     "data": {
      "image/png": "[encoded data removed]",
      "text/plain": [
       "<Figure size 640x480 with 2 Axes>"
      ]
     },
     "metadata": {},
     "output_type": "display_data"
    }
   ],
   "source": [
    "# Polynomial\n",
    "poly = svm.SVC(kernel='poly', degree=3, gamma='scale', C=1, decision_function_shape='ovo').fit(X_train, y_train)\n",
    "\n",
    "# Accuracy\n",
    "poly_pred = poly.predict(X_test)\n",
    "accuracy_poly = poly.score(X_test, y_test)\n",
    "print('Accuracy Polynomial Kernel:', accuracy_poly)\n",
    "\n",
    "# Confusion matrix\n",
    "cm_poly = confusion_matrix(y_test, poly_pred)\n",
    "ConfusionMatrixDisplay.from_predictions(y_test,poly_pred)"
   ]
  },
  {
   "cell_type": "code",
   "execution_count": null,
   "id": "8c3a6cf6-35e7-4925-8c14-3e08c494eb13",
   "metadata": {},
   "outputs": [],
   "source": []
  }
 ],
 "metadata": {
  "kernelspec": {
   "display_name": "Python 3 (ipykernel)",
   "language": "python",
   "name": "python3"
  },
  "language_info": {
   "codemirror_mode": {
    "name": "ipython",
    "version": 3
   },
   "file_extension": ".py",
   "mimetype": "text/x-python",
   "name": "python",
   "nbconvert_exporter": "python",
   "pygments_lexer": "ipython3",
   "version": "3.8.13"
  }
 },
 "nbformat": 4,
 "nbformat_minor": 5
}
