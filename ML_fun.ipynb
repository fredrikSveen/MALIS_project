{
 "cells": [
  {
   "cell_type": "markdown",
   "id": "d171bad4-43e8-4223-b18b-f8ee9f3b0393",
   "metadata": {},
   "source": [
    "# SVM"
   ]
  },
  {
   "cell_type": "code",
   "execution_count": 47,
   "id": "fd08857a-9899-42a0-bbd4-4773dadb13ec",
   "metadata": {},
   "outputs": [],
   "source": [
    "import matplotlib.pyplot as plt\n",
    "import numpy as np\n",
    "import os\n",
    "import pandas as pd\n",
    "from sklearn.model_selection import train_test_split\n",
    "from sklearn import svm\n",
    "from sklearn.metrics import confusion_matrix"
   ]
  },
  {
   "cell_type": "code",
   "execution_count": 56,
   "id": "925898e3-6f53-40a6-9b4a-d5df7ea46b14",
   "metadata": {},
   "outputs": [
    {
     "name": "stdout",
     "output_type": "stream",
     "text": [
      "<bound method NDFrame.tail of                                                 class       red     green  \\\n",
      "data/9036/0/9036_idx5_x1051_y2401_class0.png        0  0.813904  0.634866   \n",
      "data/9036/0/9036_idx5_x2951_y951_class0.png         0  0.886744  0.774951   \n",
      "data/9036/0/9036_idx5_x3001_y1451_class0.png        0  0.814538  0.619407   \n",
      "data/9036/0/9036_idx5_x3051_y801_class0.png         0  0.793319  0.489656   \n",
      "data/9036/0/9036_idx5_x951_y1901_class0.png         0  0.875853  0.726767   \n",
      "...                                               ...       ...       ...   \n",
      "data/12905/0/12905_idx5_x651_y2101_class0.png       0  0.819194  0.587933   \n",
      "data/12905/0/12905_idx5_x701_y2251_class0.png       0  0.686665  0.493617   \n",
      "data/12905/0/12905_idx5_x2101_y1901_class0.png      0  0.591533  0.428568   \n",
      "data/12905/0/12905_idx5_x951_y2351_class0.png       0  0.921280  0.880516   \n",
      "data/12905/0/12905_idx5_x801_y2001_class0.png       0  0.795443  0.618093   \n",
      "\n",
      "                                                    blue    gray  \n",
      "data/9036/0/9036_idx5_x1051_y2401_class0.png    0.738700  2.6600  \n",
      "data/9036/0/9036_idx5_x2951_y951_class0.png     0.838381  2.3796  \n",
      "data/9036/0/9036_idx5_x3001_y1451_class0.png    0.734206  2.6084  \n",
      "data/9036/0/9036_idx5_x3051_y801_class0.png     0.636725  2.3828  \n",
      "data/9036/0/9036_idx5_x951_y1901_class0.png     0.804320  2.5660  \n",
      "...                                                  ...     ...  \n",
      "data/12905/0/12905_idx5_x651_y2101_class0.png   0.704643  2.4176  \n",
      "data/12905/0/12905_idx5_x701_y2251_class0.png   0.640968  2.7564  \n",
      "data/12905/0/12905_idx5_x2101_y1901_class0.png  0.618571  2.5184  \n",
      "data/12905/0/12905_idx5_x951_y2351_class0.png   0.907566  1.9464  \n",
      "data/12905/0/12905_idx5_x801_y2001_class0.png   0.736946  2.6772  \n",
      "\n",
      "[20000 rows x 5 columns]>\n"
     ]
    }
   ],
   "source": [
    "# Import dataframe from JSON file\n",
    "jsonStr = \"features_df.json\"\n",
    "df = pd.read_json(jsonStr, orient ='index')\n",
    "print(df.tail)"
   ]
  },
  {
   "cell_type": "code",
   "execution_count": 58,
   "id": "d9fb936e-f8e0-4293-a3fb-5aacdd8d3206",
   "metadata": {},
   "outputs": [],
   "source": [
    "X = df[['red','blue','green','gray']]\n",
    "y = df['class']"
   ]
  },
  {
   "cell_type": "code",
   "execution_count": 59,
   "id": "9d3cfa95-ac5b-45e4-9dce-0ea234e4d754",
   "metadata": {},
   "outputs": [
    {
     "name": "stdout",
     "output_type": "stream",
     "text": [
      "########## Train data ##########\n",
      "                                                     red      blue     green  \\\n",
      "data/9036/0/9036_idx5_x2101_y1201_class0.png    0.909578  0.883759  0.842168   \n",
      "data/13613/1/13613_idx5_x2601_y1701_class1.png  0.828078  0.723991  0.623475   \n",
      "data/10259/0/10259_idx5_x1851_y651_class0.png   0.862761  0.682154  0.524345   \n",
      "data/12750/0/12750_idx5_x2751_y1551_class0.png  0.918985  0.801975  0.749438   \n",
      "data/10292/0/10292_idx5_x1851_y2251_class0.png  0.892902  0.880174  0.843144   \n",
      "...                                                  ...       ...       ...   \n",
      "data/10295/1/10295_idx5_x1451_y1801_class1.png  0.581457  0.578761  0.364508   \n",
      "data/9036/0/9036_idx5_x1001_y2401_class0.png    0.891351  0.838082  0.776424   \n",
      "data/16165/1/16165_idx5_x1851_y651_class1.png   0.740750  0.703435  0.573735   \n",
      "data/12951/0/12951_idx5_x2601_y1501_class0.png  0.912944  0.794609  0.720890   \n",
      "data/13613/0/13613_idx5_x3301_y901_class0.png   0.883931  0.686406  0.597181   \n",
      "\n",
      "                                                  gray  \n",
      "data/9036/0/9036_idx5_x2101_y1201_class0.png    2.4908  \n",
      "data/13613/1/13613_idx5_x2601_y1701_class1.png  2.6120  \n",
      "data/10259/0/10259_idx5_x1851_y651_class0.png   2.3168  \n",
      "data/12750/0/12750_idx5_x2751_y1551_class0.png  2.6136  \n",
      "data/10292/0/10292_idx5_x1851_y2251_class0.png  2.4592  \n",
      "...                                                ...  \n",
      "data/10295/1/10295_idx5_x1451_y1801_class1.png  2.6772  \n",
      "data/9036/0/9036_idx5_x1001_y2401_class0.png    2.4328  \n",
      "data/16165/1/16165_idx5_x1851_y651_class1.png   2.6680  \n",
      "data/12951/0/12951_idx5_x2601_y1501_class0.png  2.2840  \n",
      "data/13613/0/13613_idx5_x3301_y901_class0.png   2.5696  \n",
      "\n",
      "[16000 rows x 4 columns]\n",
      "data/9036/0/9036_idx5_x2101_y1201_class0.png      0\n",
      "data/13613/1/13613_idx5_x2601_y1701_class1.png    1\n",
      "data/10259/0/10259_idx5_x1851_y651_class0.png     0\n",
      "data/12750/0/12750_idx5_x2751_y1551_class0.png    0\n",
      "data/10292/0/10292_idx5_x1851_y2251_class0.png    0\n",
      "                                                 ..\n",
      "data/10295/1/10295_idx5_x1451_y1801_class1.png    1\n",
      "data/9036/0/9036_idx5_x1001_y2401_class0.png      0\n",
      "data/16165/1/16165_idx5_x1851_y651_class1.png     1\n",
      "data/12951/0/12951_idx5_x2601_y1501_class0.png    0\n",
      "data/13613/0/13613_idx5_x3301_y901_class0.png     0\n",
      "Name: class, Length: 16000, dtype: int64\n",
      "########## Test data ##########\n",
      "                                                     red      blue     green  \\\n",
      "data/10268/0/10268_idx5_x1701_y351_class0.png   0.838384  0.639959  0.491484   \n",
      "data/10268/0/10268_idx5_x2951_y851_class0.png   0.875616  0.828480  0.756659   \n",
      "data/12951/0/12951_idx5_x3001_y1201_class0.png  0.938345  0.857470  0.806496   \n",
      "data/10268/0/10268_idx5_x2951_y2151_class0.png  0.855818  0.765541  0.687183   \n",
      "data/16165/1/16165_idx5_x2151_y2001_class1.png  0.870488  0.690831  0.577951   \n",
      "...                                                  ...       ...       ...   \n",
      "data/10292/0/10292_idx5_x2251_y2001_class0.png  0.834574  0.753872  0.643500   \n",
      "data/9036/0/9036_idx5_x1751_y1301_class0.png    0.822654  0.759475  0.661252   \n",
      "data/15510/1/15510_idx5_x1951_y1451_class1.png  0.585013  0.557208  0.379424   \n",
      "data/10268/0/10268_idx5_x2701_y951_class0.png   0.819856  0.786596  0.702052   \n",
      "data/10268/0/10268_idx5_x2851_y2201_class0.png  0.770856  0.565438  0.381082   \n",
      "\n",
      "                                                  gray  \n",
      "data/10268/0/10268_idx5_x1701_y351_class0.png   2.6184  \n",
      "data/10268/0/10268_idx5_x2951_y851_class0.png   2.5980  \n",
      "data/12951/0/12951_idx5_x3001_y1201_class0.png  2.8820  \n",
      "data/10268/0/10268_idx5_x2951_y2151_class0.png  2.9076  \n",
      "data/16165/1/16165_idx5_x2151_y2001_class1.png  2.2764  \n",
      "...                                                ...  \n",
      "data/10292/0/10292_idx5_x2251_y2001_class0.png  2.7612  \n",
      "data/9036/0/9036_idx5_x1751_y1301_class0.png    2.5400  \n",
      "data/15510/1/15510_idx5_x1951_y1451_class1.png  2.7248  \n",
      "data/10268/0/10268_idx5_x2701_y951_class0.png   2.3248  \n",
      "data/10268/0/10268_idx5_x2851_y2201_class0.png  2.7288  \n",
      "\n",
      "[4000 rows x 4 columns]\n",
      "data/10268/0/10268_idx5_x1701_y351_class0.png     0\n",
      "data/10268/0/10268_idx5_x2951_y851_class0.png     0\n",
      "data/12951/0/12951_idx5_x3001_y1201_class0.png    0\n",
      "data/10268/0/10268_idx5_x2951_y2151_class0.png    0\n",
      "data/16165/1/16165_idx5_x2151_y2001_class1.png    1\n",
      "                                                 ..\n",
      "data/10292/0/10292_idx5_x2251_y2001_class0.png    0\n",
      "data/9036/0/9036_idx5_x1751_y1301_class0.png      0\n",
      "data/15510/1/15510_idx5_x1951_y1451_class1.png    1\n",
      "data/10268/0/10268_idx5_x2701_y951_class0.png     0\n",
      "data/10268/0/10268_idx5_x2851_y2201_class0.png    0\n",
      "Name: class, Length: 4000, dtype: int64\n"
     ]
    }
   ],
   "source": [
    "#using train_test_split for splitting the data\n",
    "X_train, X_test, y_train, y_test = train_test_split(X,y, test_size=0.2, random_state=100, shuffle=True)\n",
    "print('########## Train data ##########')\n",
    "print(X_train)\n",
    "print(y_train)\n",
    "print('########## Test data ##########')\n",
    "print(X_test)\n",
    "print(y_test)"
   ]
  },
  {
   "cell_type": "markdown",
   "id": "7d300ded-5036-4936-acaf-d16e9807d5b2",
   "metadata": {
    "tags": []
   },
   "source": [
    "## SVM\n",
    "Documentation: https://scikit-learn.org/stable/modules/generated/sklearn.svm.SVC.html"
   ]
  },
  {
   "cell_type": "code",
   "execution_count": 60,
   "id": "947eae6a-5e23-4439-b9f2-de567d4f0b4a",
   "metadata": {},
   "outputs": [
    {
     "name": "stdout",
     "output_type": "stream",
     "text": [
      "Accuracy Linear Kernel: 0.80575\n",
      "Confusion matrix linear kernel:\n",
      " [[3223    0]\n",
      " [ 777    0]]\n"
     ]
    }
   ],
   "source": [
    "# LINEAR KERNEL SVM\n",
    "linear = svm.SVC(kernel='linear', C=1, decision_function_shape='ovo').fit(X_train, y_train)\n",
    "\n",
    "# Accuracy\n",
    "linear_pred = linear.predict(X_test)\n",
    "accuracy_lin = linear.score(X_test, y_test)\n",
    "print('Accuracy Linear Kernel:', accuracy_lin)\n",
    "\n",
    "# Confusion matrix\n",
    "cm_lin = confusion_matrix(y_test, linear_pred)\n",
    "print('Confusion matrix linear kernel:\\n',cm_lin)"
   ]
  },
  {
   "cell_type": "code",
   "execution_count": 61,
   "id": "837070dc-cd59-4744-92f2-dbc0b5ff86ed",
   "metadata": {},
   "outputs": [
    {
     "name": "stdout",
     "output_type": "stream",
     "text": [
      "Accuracy Sigmoid Kernel: 0.73575\n",
      "Confusion matrix linear kernel:\n",
      " [[2760  463]\n",
      " [ 594  183]]\n"
     ]
    }
   ],
   "source": [
    "# SIGMOID KERNEL SVM\n",
    "sig = svm.SVC(kernel='sigmoid', C=1, decision_function_shape='ovo').fit(X_train, y_train)\n",
    "\n",
    "# Accuracy\n",
    "sig_pred = sig.predict(X_test)\n",
    "accuracy_sig = sig.score(X_test, y_test)\n",
    "print('Accuracy Sigmoid Kernel:', accuracy_sig)\n",
    "\n",
    "# Confusion matrix\n",
    "cm_sig = confusion_matrix(y_test, sig_pred)\n",
    "print('Confusion matrix linear kernel:\\n',cm_sig)"
   ]
  },
  {
   "cell_type": "code",
   "execution_count": null,
   "id": "8703bb3c-72f2-4933-988f-e74e70f98c5e",
   "metadata": {},
   "outputs": [],
   "source": []
  }
 ],
 "metadata": {
  "kernelspec": {
   "display_name": "Python 3 (ipykernel)",
   "language": "python",
   "name": "python3"
  },
  "language_info": {
   "codemirror_mode": {
    "name": "ipython",
    "version": 3
   },
   "file_extension": ".py",
   "mimetype": "text/x-python",
   "name": "python",
   "nbconvert_exporter": "python",
   "pygments_lexer": "ipython3",
   "version": "3.8.13"
  }
 },
 "nbformat": 4,
 "nbformat_minor": 5
}
