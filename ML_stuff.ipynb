{
 "cells": [
  {
   "cell_type": "code",
   "execution_count": 1,
   "id": "0dcc7eb4-c17f-4601-aa1c-169062ae7858",
   "metadata": {},
   "outputs": [],
   "source": [
    "import matplotlib.pyplot as plt\n",
    "import numpy as np\n",
    "import pandas as pd\n",
    "import time\n",
    "from sklearn.model_selection import train_test_split\n",
    "from sklearn.datasets import make_classification\n",
    "from sklearn.tree import DecisionTreeClassifier\n",
    "from sklearn.ensemble import RandomForestClassifier\n",
    "from sklearn.metrics import confusion_matrix, ConfusionMatrixDisplay, f1_score, accuracy_score"
   ]
  },
  {
   "cell_type": "code",
   "execution_count": 27,
   "id": "6ff7cbf2-3af0-4267-869d-cf30213df1e2",
   "metadata": {},
   "outputs": [
    {
     "name": "stdout",
     "output_type": "stream",
     "text": [
      "<bound method NDFrame.head of                                                    red   green    blue  \\\n",
      "data/12910/0/12910_idx5_x3001_y701_class0.png   2.8792  2.7112  2.8076   \n",
      "data/12910/0/12910_idx5_x1501_y401_class0.png   2.7392  2.7464  2.0908   \n",
      "data/12910/0/12910_idx5_x2251_y1101_class0.png  1.1296  2.6620  2.2704   \n",
      "data/12910/0/12910_idx5_x2551_y1151_class0.png  1.9812  2.8940  2.2452   \n",
      "data/12910/0/12910_idx5_x2001_y101_class0.png   2.8660  3.0032  2.5404   \n",
      "...                                                ...     ...     ...   \n",
      "data/13666/1/13666_idx5_x901_y1101_class1.png   2.1980  2.3572  2.7020   \n",
      "data/13666/1/13666_idx5_x1051_y1001_class1.png  2.6968  2.4552  2.5280   \n",
      "data/13666/1/13666_idx5_x1051_y1151_class1.png  2.4272  2.8244  2.5152   \n",
      "data/13666/1/13666_idx5_x1051_y1051_class1.png  2.5724  2.3860  2.5444   \n",
      "data/13666/1/13666_idx5_x901_y1151_class1.png   2.7212  2.7648  3.0000   \n",
      "\n",
      "                                                    gray  gray_var  edges  \\\n",
      "data/12910/0/12910_idx5_x3001_y701_class0.png   0.755730  0.003960     83   \n",
      "data/12910/0/12910_idx5_x1501_y401_class0.png   0.483340  0.009377    350   \n",
      "data/12910/0/12910_idx5_x2251_y1101_class0.png  0.799321  0.001401     14   \n",
      "data/12910/0/12910_idx5_x2551_y1151_class0.png  0.824825  0.001107      0   \n",
      "data/12910/0/12910_idx5_x2001_y101_class0.png   0.675241  0.005805    187   \n",
      "...                                                  ...       ...    ...   \n",
      "data/13666/1/13666_idx5_x901_y1101_class1.png   0.659095  0.002654     31   \n",
      "data/13666/1/13666_idx5_x1051_y1001_class1.png  0.623201  0.004284    136   \n",
      "data/13666/1/13666_idx5_x1051_y1151_class1.png  0.648590  0.002005     28   \n",
      "data/13666/1/13666_idx5_x1051_y1051_class1.png  0.632355  0.003022     70   \n",
      "data/13666/1/13666_idx5_x901_y1151_class1.png   0.655819  0.004799     97   \n",
      "\n",
      "                                                ridges  group  \n",
      "data/12910/0/12910_idx5_x3001_y701_class0.png     1292      0  \n",
      "data/12910/0/12910_idx5_x1501_y401_class0.png     1297      0  \n",
      "data/12910/0/12910_idx5_x2251_y1101_class0.png    1315      0  \n",
      "data/12910/0/12910_idx5_x2551_y1151_class0.png    1316      0  \n",
      "data/12910/0/12910_idx5_x2001_y101_class0.png     1225      0  \n",
      "...                                                ...    ...  \n",
      "data/13666/1/13666_idx5_x901_y1101_class1.png     1333      1  \n",
      "data/13666/1/13666_idx5_x1051_y1001_class1.png    1263      1  \n",
      "data/13666/1/13666_idx5_x1051_y1151_class1.png    1397      1  \n",
      "data/13666/1/13666_idx5_x1051_y1051_class1.png    1361      1  \n",
      "data/13666/1/13666_idx5_x901_y1151_class1.png     1308      1  \n",
      "\n",
      "[277523 rows x 8 columns]>\n"
     ]
    }
   ],
   "source": [
    "#Import dataframe from JSON file\n",
    "jsonStr = \"parameters_df.json\"\n",
    "df = pd.read_json(jsonStr, orient ='index')\n",
    "print(df.head)"
   ]
  },
  {
   "cell_type": "markdown",
   "id": "b0df9e26-c19b-4b76-8432-b9c228365a05",
   "metadata": {},
   "source": [
    "## Splitting in train and test set."
   ]
  },
  {
   "cell_type": "code",
   "execution_count": 28,
   "id": "249485ec-21db-4663-be45-fd314785887e",
   "metadata": {},
   "outputs": [
    {
     "name": "stdout",
     "output_type": "stream",
     "text": [
      "X_train : \n",
      "                                                   red   green    blue  \\\n",
      "data/12910/0/12910_idx5_x3001_y701_class0.png   2.8792  2.7112  2.8076   \n",
      "data/12910/0/12910_idx5_x1501_y401_class0.png   2.7392  2.7464  2.0908   \n",
      "data/12910/0/12910_idx5_x2251_y1101_class0.png  1.1296  2.6620  2.2704   \n",
      "data/12910/0/12910_idx5_x2551_y1151_class0.png  1.9812  2.8940  2.2452   \n",
      "data/12910/0/12910_idx5_x2001_y101_class0.png   2.8660  3.0032  2.5404   \n",
      "\n",
      "                                                    gray  gray_var  edges  \\\n",
      "data/12910/0/12910_idx5_x3001_y701_class0.png   0.755730  0.003960     83   \n",
      "data/12910/0/12910_idx5_x1501_y401_class0.png   0.483340  0.009377    350   \n",
      "data/12910/0/12910_idx5_x2251_y1101_class0.png  0.799321  0.001401     14   \n",
      "data/12910/0/12910_idx5_x2551_y1151_class0.png  0.824825  0.001107      0   \n",
      "data/12910/0/12910_idx5_x2001_y101_class0.png   0.675241  0.005805    187   \n",
      "\n",
      "                                                ridges  \n",
      "data/12910/0/12910_idx5_x3001_y701_class0.png     1292  \n",
      "data/12910/0/12910_idx5_x1501_y401_class0.png     1297  \n",
      "data/12910/0/12910_idx5_x2251_y1101_class0.png    1315  \n",
      "data/12910/0/12910_idx5_x2551_y1151_class0.png    1316  \n",
      "data/12910/0/12910_idx5_x2001_y101_class0.png     1225  \n",
      "(222018, 7)\n",
      "\n",
      "X_test : \n",
      "                                                red   green    blue      gray  \\\n",
      "data/9257/0/9257_idx5_x301_y1001_class0.png  2.5784  2.7000  2.2112  0.609239   \n",
      "data/9257/0/9257_idx5_x2351_y251_class0.png  2.4596  2.0084  2.7724  0.501843   \n",
      "data/9257/0/9257_idx5_x1101_y401_class0.png  2.3712  2.5872  2.7416  0.593688   \n",
      "data/9257/0/9257_idx5_x751_y1001_class0.png  2.8744  2.5176  2.3424  0.599057   \n",
      "data/9257/0/9257_idx5_x1201_y551_class0.png  2.7900  2.2444  2.4596  0.641368   \n",
      "\n",
      "                                             gray_var  edges  ridges  \n",
      "data/9257/0/9257_idx5_x301_y1001_class0.png  0.003757     51    1260  \n",
      "data/9257/0/9257_idx5_x2351_y251_class0.png  0.024991    479    1183  \n",
      "data/9257/0/9257_idx5_x1101_y401_class0.png  0.027011    504    1264  \n",
      "data/9257/0/9257_idx5_x751_y1001_class0.png  0.002871     33    1245  \n",
      "data/9257/0/9257_idx5_x1201_y551_class0.png  0.031924    280    1333  \n",
      "(55505, 7)\n",
      "\n",
      "y_train : \n",
      "data/12910/0/12910_idx5_x3001_y701_class0.png     0\n",
      "data/12910/0/12910_idx5_x1501_y401_class0.png     0\n",
      "data/12910/0/12910_idx5_x2251_y1101_class0.png    0\n",
      "data/12910/0/12910_idx5_x2551_y1151_class0.png    0\n",
      "data/12910/0/12910_idx5_x2001_y101_class0.png     0\n",
      "Name: group, dtype: int64\n",
      "(222018,)\n",
      "\n",
      "y_test : \n",
      "data/9257/0/9257_idx5_x301_y1001_class0.png    0\n",
      "data/9257/0/9257_idx5_x2351_y251_class0.png    0\n",
      "data/9257/0/9257_idx5_x1101_y401_class0.png    0\n",
      "data/9257/0/9257_idx5_x751_y1001_class0.png    0\n",
      "data/9257/0/9257_idx5_x1201_y551_class0.png    0\n",
      "Name: group, dtype: int64\n",
      "(55505,)\n"
     ]
    }
   ],
   "source": [
    "X= df[['red','green','blue','gray','gray_var','edges','ridges']]\n",
    "y=df['group']\n",
    "  \n",
    "# using the train test split function\n",
    "X_train, X_test, y_train, y_test = train_test_split(X,y, test_size=0.2, shuffle=False)\n",
    "\n",
    "print('X_train : ')\n",
    "print(X_train.head())\n",
    "print(X_train.shape)\n",
    "print('')\n",
    "print('X_test : ')\n",
    "print(X_test.head())\n",
    "print(X_test.shape)\n",
    "print('')\n",
    "print('y_train : ')\n",
    "print(y_train.head())\n",
    "print(y_train.shape)\n",
    "print('')\n",
    "print('y_test : ')\n",
    "print(y_test.head())\n",
    "print(y_test.shape)\n",
    "\n",
    "X_train, X_val, y_train, y_val = train_test_split(X,y, test_size=0.125, shuffle=False)\n",
    "\n",
    "#Split: 70% train, 10% validation and 20% test."
   ]
  },
  {
   "cell_type": "markdown",
   "id": "44e3cdfd-b77d-4060-948b-a2460e0ce569",
   "metadata": {},
   "source": [
    "## Single decision tree classifier"
   ]
  },
  {
   "cell_type": "code",
   "execution_count": 35,
   "id": "3b3b63bc-71db-46c0-b7b5-a06c89b2c95d",
   "metadata": {},
   "outputs": [
    {
     "name": "stdout",
     "output_type": "stream",
     "text": [
      "Accuracy for max_depth of 1 is: 0.695598281975152\n",
      "Accuracy for max_depth of 3 is: 0.7938946700873425\n",
      "Accuracy for max_depth of 5 is: 0.8083364561413623\n",
      "Accuracy for max_depth of 7 is: 0.8090571041480499\n",
      "Accuracy for max_depth of 9 is: 0.809460667031795\n",
      "Accuracy for max_depth of 11 is: 0.8057132973970194\n",
      "Accuracy for max_depth of 13 is: 0.800034591104321\n",
      "Accuracy for max_depth of 15 is: 0.7900319967714969\n",
      "Accuracy for max_depth of 17 is: 0.7770026808105849\n",
      "Accuracy for max_depth of 19 is: 0.7659335274278631\n",
      "Accuracy for max_depth of 21 is: 0.7558444553342365\n",
      "Accuracy for max_depth of 23 is: 0.7440834798650947\n",
      "Accuracy for max_depth of 25 is: 0.7374535182035686\n",
      "Accuracy for max_depth of 27 is: 0.7343403188146782\n",
      "Accuracy for max_depth of 29 is: 0.7301893862961575\n",
      "Accuracy for max_depth of 31 is: 0.727479749791012\n",
      "Accuracy for max_depth of 33 is: 0.7267014499437895\n",
      "Accuracy for max_depth of 35 is: 0.7251736761696117\n",
      "Accuracy for max_depth of 37 is: 0.7236170764751665\n",
      "Accuracy for max_depth of 39 is: 0.720561528926811\n",
      "Accuracy for max_depth of 41 is: 0.7217145657375111\n",
      "Accuracy for max_depth of 43 is: 0.720503877086276\n",
      "Accuracy for max_depth of 45 is: 0.7209362658902886\n",
      "Accuracy for max_depth of 47 is: 0.7193220143553083\n",
      "Accuracy for max_depth of 49 is: 0.7207633103686836\n",
      "Execution time: 72.05774402618408s\n"
     ]
    },
    {
     "data": {
      "image/png": "[encoded data removed]",
      "text/plain": [
       "<Figure size 640x480 with 1 Axes>"
      ]
     },
     "metadata": {},
     "output_type": "display_data"
    }
   ],
   "source": [
    "#Single decision tree with different depths, to see what is proper.\n",
    "acc_for_depths = []\n",
    "step_size = 2\n",
    "\n",
    "st = time.time()\n",
    "for d in range(1,50,step_size):\n",
    "    model = DecisionTreeClassifier(max_depth = d)\n",
    "    model = model.fit(X_train, y_train)\n",
    "\n",
    "    predicted_value = model.predict(X_val)\n",
    "    #print(predicted_value)\n",
    "\n",
    "    #To plot the actual decision tree\n",
    "    #tree.plot_tree(model)\n",
    "\n",
    "    zeroes = 0\n",
    "    ones = 0\n",
    "\n",
    "    for i in y_train:\n",
    "        if i == 0:\n",
    "            zeroes += 1\n",
    "        else:\n",
    "            ones += 1\n",
    "\n",
    "    val = 1 - ((zeroes/70)*(zeroes/70) + (ones/70)*(ones/70))\n",
    "    #print(\"Gini :\", val)\n",
    "\n",
    "    match = 0\n",
    "    UnMatch = 0\n",
    "\n",
    "    for j in range(len(predicted_value)):\n",
    "        if predicted_value[j] == y_val[j]:\n",
    "            match += 1\n",
    "        else:\n",
    "            UnMatch += 1\n",
    "\n",
    "    accuracy = match/len(predicted_value)\n",
    "    acc_for_depths.append(accuracy)\n",
    "    print(f'Accuracy for max_depth of {d} is: {accuracy}')\n",
    "    \n",
    "et = time.time()\n",
    "elapsed_time = et - st\n",
    "print(f'Execution time: {elapsed_time}s')\n",
    "    \n",
    "plt.plot(range(1,50,step_size), acc_for_depths)\n",
    "plt.show()\n",
    "#Observing in the plot that max_depth = 10 gives the highest accuracy when validating.\n",
    "\n",
    "#ConfusionMatrixDisplay(confusion_matrix(y_test, predicted_value)).plot()"
   ]
  },
  {
   "cell_type": "markdown",
   "id": "2cd50809-5ce7-4533-8ed8-b1be1506cd2a",
   "metadata": {},
   "source": [
    "## Random forest classifier"
   ]
  },
  {
   "cell_type": "code",
   "execution_count": 37,
   "id": "06074cce-4355-4e9b-94c4-f9ba68395aaa",
   "metadata": {},
   "outputs": [
    {
     "name": "stdout",
     "output_type": "stream",
     "text": [
      "Accuracy for max_depth of 1 is: 0.768499034331671\n",
      "Accuracy for max_depth of 3 is: 0.790435559655242\n",
      "Accuracy for max_depth of 5 is: 0.7987662506125508\n",
      "Accuracy for max_depth of 7 is: 0.802888357210804\n",
      "Accuracy for max_depth of 9 is: 0.8086247153440373\n",
      "Accuracy for max_depth of 11 is: 0.8121703035369404\n",
      "Accuracy for max_depth of 13 is: 0.8120549998558704\n",
      "Accuracy for max_depth of 15 is: 0.8131215589057681\n",
      "Accuracy for max_depth of 17 is: 0.8135539477097806\n",
      "Accuracy for max_depth of 19 is: 0.8121703035369404\n",
      "Accuracy for max_depth of 21 is: 0.8106713556830302\n",
      "Accuracy for max_depth of 23 is: 0.8105848779222277\n",
      "Accuracy for max_depth of 25 is: 0.8103254446398201\n",
      "Accuracy for max_depth of 27 is: 0.8090859300683174\n",
      "Accuracy for max_depth of 29 is: 0.8077022858954772\n",
      "Accuracy for max_depth of 31 is: 0.8089418004669799\n",
      "Accuracy for max_depth of 33 is: 0.8092012337493875\n",
      "Accuracy for max_depth of 35 is: 0.8082788043008273\n",
      "Accuracy for max_depth of 37 is: 0.8091724078291199\n",
      "Accuracy for max_depth of 39 is: 0.8089994523075149\n",
      "Accuracy for max_depth of 41 is: 0.8074428526130697\n",
      "Accuracy for max_depth of 43 is: 0.8081346746994897\n",
      "Accuracy for max_depth of 45 is: 0.8082788043008273\n",
      "Accuracy for max_depth of 47 is: 0.8087400190251074\n",
      "Accuracy for max_depth of 49 is: 0.8086247153440373\n"
     ]
    },
    {
     "data": {
      "image/png": "[encoded data removed]",
      "text/plain": [
       "<Figure size 640x480 with 1 Axes>"
      ]
     },
     "metadata": {},
     "output_type": "display_data"
    }
   ],
   "source": [
    "#Random forest classification with different values for max_depth\n",
    "acc_for_depths = []\n",
    "step_size = 2\n",
    "for i in range(1,50,step_size):\n",
    "    regressor = RandomForestClassifier(random_state = 0, \n",
    "                                       max_depth = i, \n",
    "                                       oob_score=True, \n",
    "                                       max_features=\"sqrt\")\n",
    "\n",
    "    # fit the regressor with x and y data\n",
    "    regressor.fit(X_train, y_train) \n",
    "\n",
    "    y_pred = regressor.predict(X_val)  # test the output by changing values\n",
    "    #print(y_pred)\n",
    "\n",
    "    #print(\"accuracy on training set: %f\" % regressor.score(X_train, y_train))\n",
    "    #print(\"accuracy on validation set: %f\" % regressor.score(X_val, y_val))\n",
    "\n",
    "    # Create confusion matrix\n",
    "    #confusion = confusion_matrix(y_val, y_pred)\n",
    "    #ConfusionMatrixDisplay(confusion).plot()\n",
    "    # Display accuracy score\n",
    "    accuracy = accuracy_score(y_val, y_pred)\n",
    "    print(f'Accuracy for max_depth of {i} is: {accuracy}')\n",
    "    acc_for_depths.append(accuracy)\n",
    "    \n",
    "plt.plot(range(1,50,step_size), acc_for_depths)\n",
    "plt.show()"
   ]
  },
  {
   "cell_type": "code",
   "execution_count": 25,
   "id": "5d2fa05e-b5b5-42ed-ab34-6bee6ee58a8d",
   "metadata": {},
   "outputs": [
    {
     "name": "stdout",
     "output_type": "stream",
     "text": [
      "0.8635067712045617\n"
     ]
    },
    {
     "data": {
      "text/plain": [
       "(0.0, 1.0)"
      ]
     },
     "execution_count": 25,
     "metadata": {},
     "output_type": "execute_result"
    },
    {
     "data": {
      "image/png": "[encoded data removed]",
      "text/plain": [
       "<Figure size 640x480 with 1 Axes>"
      ]
     },
     "metadata": {},
     "output_type": "display_data"
    }
   ],
   "source": [
    "regressor = RandomForestClassifier(random_state = 0, \n",
    "                                       max_depth = 13, \n",
    "                                       oob_score=True, \n",
    "                                       max_features=\"sqrt\")\n",
    "\n",
    "# fit the regressor with x and y data\n",
    "regressor.fit(X_train, y_train) \n",
    "\n",
    "y_pred = regressor.predict(X_test)  # test the output by changing values\n",
    "\n",
    "# Create confusion matrix\n",
    "#confusion = confusion_matrix(y_val, y_pred)\n",
    "#ConfusionMatrixDisplay(confusion).plot()\n",
    "# Display accuracy score\n",
    "accuracy = accuracy_score(y_test, y_pred)\n",
    "print(accuracy)\n",
    "\n",
    "plt.plot(regressor.feature_importances_, 'o')\n",
    "plt.xticks(range(X_val.shape[1]), X_val.columns, rotation=90)\n",
    "plt.ylim(0, 1)"
   ]
  },
  {
   "cell_type": "markdown",
   "id": "52c9bdbb-7c44-45bd-a88a-bd1c3759001a",
   "metadata": {},
   "source": [
    "### This part is not working yet."
   ]
  },
  {
   "cell_type": "code",
   "execution_count": 17,
   "id": "01b4c186-5b68-4504-a749-92a9a69f6f43",
   "metadata": {},
   "outputs": [
    {
     "ename": "TypeError",
     "evalue": "float() argument must be a string or a number, not 'DataFrame'",
     "output_type": "error",
     "traceback": [
      "\u001b[0;31m---------------------------------------------------------------------------\u001b[0m",
      "\u001b[0;31mTypeError\u001b[0m                                 Traceback (most recent call last)",
      "Cell \u001b[0;32mIn [17], line 7\u001b[0m\n\u001b[1;32m      1\u001b[0m \u001b[38;5;66;03m# Visualising the Random Forest Regression results\u001b[39;00m\n\u001b[1;32m      2\u001b[0m \n\u001b[1;32m      3\u001b[0m \u001b[38;5;66;03m# arrange for creating a range of values\u001b[39;00m\n\u001b[1;32m      4\u001b[0m \u001b[38;5;66;03m# from min value of x to max\u001b[39;00m\n\u001b[1;32m      5\u001b[0m \u001b[38;5;66;03m# value of x with a difference of 0.01\u001b[39;00m\n\u001b[1;32m      6\u001b[0m \u001b[38;5;66;03m# between two consecutive values\u001b[39;00m\n\u001b[0;32m----> 7\u001b[0m X_grid \u001b[38;5;241m=\u001b[39m np\u001b[38;5;241m.\u001b[39marange(\u001b[38;5;28mmin\u001b[39m(\u001b[38;5;28;43mfloat\u001b[39;49m\u001b[43m(\u001b[49m\u001b[43mX_train\u001b[49m\u001b[43m)\u001b[49m), \u001b[38;5;28mmax\u001b[39m(\u001b[38;5;28mfloat\u001b[39m(X_train)), \u001b[38;5;241m0.01\u001b[39m)\n\u001b[1;32m      9\u001b[0m \u001b[38;5;66;03m# reshape for reshaping the data into a len(X_grid)*1 array,\u001b[39;00m\n\u001b[1;32m     10\u001b[0m \u001b[38;5;66;03m# i.e. to make a column out of the X_grid value\t\t\t\t\u001b[39;00m\n\u001b[1;32m     11\u001b[0m X_grid \u001b[38;5;241m=\u001b[39m X_grid\u001b[38;5;241m.\u001b[39mreshape((\u001b[38;5;28mlen\u001b[39m(X_grid), \u001b[38;5;241m1\u001b[39m))\n",
      "\u001b[0;31mTypeError\u001b[0m: float() argument must be a string or a number, not 'DataFrame'"
     ]
    }
   ],
   "source": [
    "# Visualising the Random Forest Regression results\n",
    "\n",
    "# arrange for creating a range of values\n",
    "# from min value of x to max\n",
    "# value of x with a difference of 0.01\n",
    "# between two consecutive values\n",
    "X_grid = np.arange(min(float(X_train)), max(float(X_train)), 0.01)\n",
    "\n",
    "# reshape for reshaping the data into a len(X_grid)*1 array,\n",
    "# i.e. to make a column out of the X_grid value\t\t\t\t\n",
    "X_grid = X_grid.reshape((len(X_grid), 1))\n",
    "\n",
    "# Scatter plot for original data\n",
    "plt.scatter(x, y, color = 'blue')\n",
    "\n",
    "# plot predicted data\n",
    "plt.plot(X_grid, regressor.predict(X_grid),color = 'green')\n",
    "plt.title('Random Forest Regression')\n",
    "plt.xlabel('Position level')\n",
    "plt.ylabel('Salary')\n",
    "plt.show()"
   ]
  },
  {
   "cell_type": "code",
   "execution_count": null,
   "id": "e4d1c121-3aeb-4af8-807d-1d9413df0e14",
   "metadata": {},
   "outputs": [],
   "source": []
  }
 ],
 "metadata": {
  "kernelspec": {
   "display_name": "Python 3 (ipykernel)",
   "language": "python",
   "name": "python3"
  },
  "language_info": {
   "codemirror_mode": {
    "name": "ipython",
    "version": 3
   },
   "file_extension": ".py",
   "mimetype": "text/x-python",
   "name": "python",
   "nbconvert_exporter": "python",
   "pygments_lexer": "ipython3",
   "version": "3.8.13"
  }
 },
 "nbformat": 4,
 "nbformat_minor": 5
}
