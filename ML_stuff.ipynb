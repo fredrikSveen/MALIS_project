{
 "cells": [
  {
   "cell_type": "code",
   "execution_count": 1,
   "id": "0dcc7eb4-c17f-4601-aa1c-169062ae7858",
   "metadata": {},
   "outputs": [],
   "source": [
    "import matplotlib.pyplot as plt\n",
    "import numpy as np\n",
    "import os\n",
    "import pandas as pd\n",
    "import time\n",
    "from sklearn.model_selection import train_test_split"
   ]
  },
  {
   "cell_type": "code",
   "execution_count": 4,
   "id": "6ff7cbf2-3af0-4267-869d-cf30213df1e2",
   "metadata": {},
   "outputs": [
    {
     "name": "stdout",
     "output_type": "stream",
     "text": [
      "<bound method NDFrame.head of                                                      red     green      blue  \\\n",
      "data/12910/0/12910_idx5_x3001_y701_class0.png   0.909199  0.707330  0.783652   \n",
      "data/12910/0/12910_idx5_x1501_y401_class0.png   0.603457  0.435067  0.608304   \n",
      "data/12910/0/12910_idx5_x2251_y1101_class0.png  0.925628  0.759435  0.822812   \n",
      "data/12910/0/12910_idx5_x2551_y1151_class0.png  0.931377  0.791060  0.845808   \n",
      "data/12910/0/12910_idx5_x2001_y101_class0.png   0.866179  0.614323  0.716932   \n",
      "...                                                  ...       ...       ...   \n",
      "data/10295/1/10295_idx5_x1451_y1751_class1.png  0.592474  0.388966  0.593747   \n",
      "data/10295/1/10295_idx5_x1251_y1751_class1.png  0.545500  0.371545  0.581780   \n",
      "data/10295/1/10295_idx5_x1501_y1351_class1.png  0.724577  0.457321  0.641925   \n",
      "data/10295/1/10295_idx5_x1501_y1601_class1.png  0.591816  0.371526  0.578162   \n",
      "data/10295/1/10295_idx5_x1251_y1851_class1.png  0.560609  0.383187  0.591809   \n",
      "\n",
      "                                                group  \n",
      "data/12910/0/12910_idx5_x3001_y701_class0.png       0  \n",
      "data/12910/0/12910_idx5_x1501_y401_class0.png       0  \n",
      "data/12910/0/12910_idx5_x2251_y1101_class0.png      0  \n",
      "data/12910/0/12910_idx5_x2551_y1151_class0.png      0  \n",
      "data/12910/0/12910_idx5_x2001_y101_class0.png       0  \n",
      "...                                               ...  \n",
      "data/10295/1/10295_idx5_x1451_y1751_class1.png      1  \n",
      "data/10295/1/10295_idx5_x1251_y1751_class1.png      1  \n",
      "data/10295/1/10295_idx5_x1501_y1351_class1.png      1  \n",
      "data/10295/1/10295_idx5_x1501_y1601_class1.png      1  \n",
      "data/10295/1/10295_idx5_x1251_y1851_class1.png      1  \n",
      "\n",
      "[28061 rows x 4 columns]>\n"
     ]
    }
   ],
   "source": [
    "#Import dataframe from JSON file\n",
    "jsonStr = \"parameters_df.json\"\n",
    "df = pd.read_json(jsonStr, orient ='index')\n",
    "print(imported_df.head)"
   ]
  },
  {
   "cell_type": "code",
   "execution_count": 8,
   "id": "249485ec-21db-4663-be45-fd314785887e",
   "metadata": {},
   "outputs": [
    {
     "name": "stdout",
     "output_type": "stream",
     "text": [
      "X_train : \n",
      "                                                     red     green      blue\n",
      "data/15510/1/15510_idx5_x2201_y1501_class1.png  0.561395  0.368193  0.551191\n",
      "data/13591/0/13591_idx5_x2201_y2101_class0.png  0.871992  0.571186  0.673795\n",
      "data/16014/0/16014_idx5_x1701_y551_class0.png   0.870140  0.632204  0.720722\n",
      "data/9177/0/9177_idx5_x951_y351_class0.png      0.910893  0.779006  0.832533\n",
      "data/9225/0/9225_idx5_x1801_y1001_class0.png    0.889525  0.542129  0.665209\n",
      "\n",
      "X_test : \n",
      "                                                     red     green      blue\n",
      "data/14157/0/14157_idx5_x3151_y1001_class0.png  0.920383  0.813901  0.857587\n",
      "data/15510/1/15510_idx5_x2451_y1301_class1.png  0.642367  0.452435  0.609635\n",
      "data/10262/1/10262_idx5_x2301_y1351_class1.png  0.599090  0.352681  0.552891\n",
      "data/13591/0/13591_idx5_x2251_y2051_class0.png  0.861338  0.561322  0.666094\n",
      "data/9225/0/9225_idx5_x201_y1751_class0.png     0.885551  0.676609  0.762356\n",
      "\n",
      "y_train : \n",
      "data/15510/1/15510_idx5_x2201_y1501_class1.png    1\n",
      "data/13591/0/13591_idx5_x2201_y2101_class0.png    0\n",
      "data/16014/0/16014_idx5_x1701_y551_class0.png     0\n",
      "data/9177/0/9177_idx5_x951_y351_class0.png        0\n",
      "data/9225/0/9225_idx5_x1801_y1001_class0.png      0\n",
      "Name: group, dtype: int64\n",
      "\n",
      "y_test : \n",
      "data/14157/0/14157_idx5_x3151_y1001_class0.png    0\n",
      "data/15510/1/15510_idx5_x2451_y1301_class1.png    1\n",
      "data/10262/1/10262_idx5_x2301_y1351_class1.png    1\n",
      "data/13591/0/13591_idx5_x2251_y2051_class0.png    0\n",
      "data/9225/0/9225_idx5_x201_y1751_class0.png       0\n",
      "Name: group, dtype: int64\n"
     ]
    }
   ],
   "source": [
    "X= df[['red','green','blue']]\n",
    "y=df['group']\n",
    "  \n",
    "# using the train test split function\n",
    "X_train, X_test, y_train, y_test = train_test_split(X,y ,random_state=104, test_size=0.25, shuffle=True)\n",
    "\n",
    "print('X_train : ')\n",
    "print(X_train.head())\n",
    "print('')\n",
    "print('X_test : ')\n",
    "print(X_test.head())\n",
    "print('')\n",
    "print('y_train : ')\n",
    "print(y_train.head())\n",
    "print('')\n",
    "print('y_test : ')\n",
    "print(y_test.head())"
   ]
  },
  {
   "cell_type": "code",
   "execution_count": null,
   "id": "3b3b63bc-71db-46c0-b7b5-a06c89b2c95d",
   "metadata": {},
   "outputs": [],
   "source": []
  }
 ],
 "metadata": {
  "kernelspec": {
   "display_name": "Python 3 (ipykernel)",
   "language": "python",
   "name": "python3"
  },
  "language_info": {
   "codemirror_mode": {
    "name": "ipython",
    "version": 3
   },
   "file_extension": ".py",
   "mimetype": "text/x-python",
   "name": "python",
   "nbconvert_exporter": "python",
   "pygments_lexer": "ipython3",
   "version": "3.8.13"
  }
 },
 "nbformat": 4,
 "nbformat_minor": 5
}
