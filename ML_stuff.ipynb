{
 "cells": [
  {
   "cell_type": "code",
   "execution_count": 1,
   "id": "0dcc7eb4-c17f-4601-aa1c-169062ae7858",
   "metadata": {},
   "outputs": [],
   "source": [
    "import matplotlib.pyplot as plt\n",
    "import numpy as np\n",
    "import os\n",
    "import pandas as pd\n",
    "import time\n",
    "from sklearn.model_selection import train_test_split"
   ]
  },
  {
   "cell_type": "code",
   "execution_count": 2,
   "id": "6ff7cbf2-3af0-4267-869d-cf30213df1e2",
   "metadata": {},
   "outputs": [
    {
     "name": "stdout",
     "output_type": "stream",
     "text": [
      "<bound method NDFrame.head of                                                      red     green      blue\n",
      "data/12910/0/12910_idx5_x3001_y701_class0.png   0.909199  0.707330  0.783652\n",
      "data/12910/0/12910_idx5_x1501_y401_class0.png   0.603457  0.435067  0.608304\n",
      "data/12910/0/12910_idx5_x2251_y1101_class0.png  0.925628  0.759435  0.822812\n",
      "data/12910/0/12910_idx5_x2551_y1151_class0.png  0.931377  0.791060  0.845808\n",
      "data/12910/0/12910_idx5_x2001_y101_class0.png   0.866179  0.614323  0.716932\n",
      "...                                                  ...       ...       ...\n",
      "data/13591/1/13591_idx5_x2801_y1951_class1.png  0.858845  0.628990  0.720207\n",
      "data/13591/1/13591_idx5_x2551_y1501_class1.png  0.742587  0.511051  0.644676\n",
      "data/13591/1/13591_idx5_x2651_y1551_class1.png  0.819879  0.602827  0.704841\n",
      "data/13591/1/13591_idx5_x2751_y1951_class1.png  0.806663  0.555835  0.664187\n",
      "data/10295/0/10295_idx5_x351_y601_class0.png    0.786464  0.611336  0.737387\n",
      "\n",
      "[27167 rows x 3 columns]>\n"
     ]
    }
   ],
   "source": [
    "#Import dataframe from JSON file\n",
    "jsonStr = \"parameters_df.json\"\n",
    "imported_df = pd.read_json(jsonStr, orient ='index')\n",
    "print(imported_df.head)"
   ]
  },
  {
   "cell_type": "code",
   "execution_count": null,
   "id": "249485ec-21db-4663-be45-fd314785887e",
   "metadata": {},
   "outputs": [],
   "source": []
  }
 ],
 "metadata": {
  "kernelspec": {
   "display_name": "Python 3 (ipykernel)",
   "language": "python",
   "name": "python3"
  },
  "language_info": {
   "codemirror_mode": {
    "name": "ipython",
    "version": 3
   },
   "file_extension": ".py",
   "mimetype": "text/x-python",
   "name": "python",
   "nbconvert_exporter": "python",
   "pygments_lexer": "ipython3",
   "version": "3.8.13"
  }
 },
 "nbformat": 4,
 "nbformat_minor": 5
}
