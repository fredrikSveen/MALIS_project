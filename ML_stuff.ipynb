{
 "cells": [
  {
   "cell_type": "code",
   "execution_count": 1,
   "id": "0dcc7eb4-c17f-4601-aa1c-169062ae7858",
   "metadata": {},
   "outputs": [],
   "source": [
    "import matplotlib.pyplot as plt\n",
    "import numpy as np\n",
    "import pandas as pd\n",
    "import time\n",
    "from sklearn.model_selection import train_test_split\n",
    "from sklearn.datasets import make_classification\n",
    "from sklearn.tree import DecisionTreeClassifier\n",
    "from sklearn.ensemble import RandomForestClassifier\n",
    "from sklearn.metrics import confusion_matrix, ConfusionMatrixDisplay, f1_score, accuracy_score"
   ]
  },
  {
   "cell_type": "code",
   "execution_count": 11,
   "id": "6ff7cbf2-3af0-4267-869d-cf30213df1e2",
   "metadata": {},
   "outputs": [
    {
     "name": "stdout",
     "output_type": "stream",
     "text": [
      "<bound method NDFrame.head of                                                    red   green    blue  \\\n",
      "data/12910/0/12910_idx5_x3001_y701_class0.png   2.8792  2.7112  2.8076   \n",
      "data/12910/0/12910_idx5_x1501_y401_class0.png   2.7392  2.7464  2.0908   \n",
      "data/12910/0/12910_idx5_x2251_y1101_class0.png  1.1296  2.6620  2.2704   \n",
      "data/12910/0/12910_idx5_x2551_y1151_class0.png  1.9812  2.8940  2.2452   \n",
      "data/12910/0/12910_idx5_x2001_y101_class0.png   2.8660  3.0032  2.5404   \n",
      "...                                                ...     ...     ...   \n",
      "data/10295/1/10295_idx5_x1451_y1751_class1.png  2.4984  2.3112  2.5208   \n",
      "data/10295/1/10295_idx5_x1251_y1751_class1.png  2.3984  2.4340  2.4816   \n",
      "data/10295/1/10295_idx5_x1501_y1351_class1.png  2.3928  2.5132  2.6456   \n",
      "data/10295/1/10295_idx5_x1501_y1601_class1.png  2.7404  2.5352  2.3744   \n",
      "data/10295/1/10295_idx5_x1251_y1851_class1.png  2.3600  2.9432  2.1736   \n",
      "\n",
      "                                                    gray  gray_var  edges  \\\n",
      "data/12910/0/12910_idx5_x3001_y701_class0.png   0.755730  0.003960     83   \n",
      "data/12910/0/12910_idx5_x1501_y401_class0.png   0.483340  0.009377    350   \n",
      "data/12910/0/12910_idx5_x2251_y1101_class0.png  0.799321  0.001401     14   \n",
      "data/12910/0/12910_idx5_x2551_y1151_class0.png  0.824825  0.001107      0   \n",
      "data/12910/0/12910_idx5_x2001_y101_class0.png   0.675241  0.005805    187   \n",
      "...                                                  ...       ...    ...   \n",
      "data/10295/1/10295_idx5_x1451_y1751_class1.png  0.446976  0.008729    394   \n",
      "data/10295/1/10295_idx5_x1251_y1751_class1.png  0.423668  0.013582    638   \n",
      "data/10295/1/10295_idx5_x1501_y1351_class1.png  0.527423  0.008246    260   \n",
      "data/10295/1/10295_idx5_x1501_y1601_class1.png  0.433236  0.009382    375   \n",
      "data/10295/1/10295_idx5_x1251_y1851_class1.png  0.435931  0.008899    465   \n",
      "\n",
      "                                                ridges  group  \n",
      "data/12910/0/12910_idx5_x3001_y701_class0.png     1292      0  \n",
      "data/12910/0/12910_idx5_x1501_y401_class0.png     1297      0  \n",
      "data/12910/0/12910_idx5_x2251_y1101_class0.png    1315      0  \n",
      "data/12910/0/12910_idx5_x2551_y1151_class0.png    1316      0  \n",
      "data/12910/0/12910_idx5_x2001_y101_class0.png     1225      0  \n",
      "...                                                ...    ...  \n",
      "data/10295/1/10295_idx5_x1451_y1751_class1.png    1305      1  \n",
      "data/10295/1/10295_idx5_x1251_y1751_class1.png    1181      1  \n",
      "data/10295/1/10295_idx5_x1501_y1351_class1.png    1286      1  \n",
      "data/10295/1/10295_idx5_x1501_y1601_class1.png    1289      1  \n",
      "data/10295/1/10295_idx5_x1251_y1851_class1.png    1203      1  \n",
      "\n",
      "[28060 rows x 8 columns]>\n"
     ]
    }
   ],
   "source": [
    "#Import dataframe from JSON file\n",
    "jsonStr = \"parameters_df.json\"\n",
    "df = pd.read_json(jsonStr, orient ='index')\n",
    "print(df.head)"
   ]
  },
  {
   "cell_type": "markdown",
   "id": "b0df9e26-c19b-4b76-8432-b9c228365a05",
   "metadata": {},
   "source": [
    "## Splitting in train and test set."
   ]
  },
  {
   "cell_type": "code",
   "execution_count": 22,
   "id": "249485ec-21db-4663-be45-fd314785887e",
   "metadata": {},
   "outputs": [
    {
     "name": "stdout",
     "output_type": "stream",
     "text": [
      "X_train : \n",
      "                                                   red   green    blue  \\\n",
      "data/12910/0/12910_idx5_x3001_y701_class0.png   2.8792  2.7112  2.8076   \n",
      "data/12910/0/12910_idx5_x1501_y401_class0.png   2.7392  2.7464  2.0908   \n",
      "data/12910/0/12910_idx5_x2251_y1101_class0.png  1.1296  2.6620  2.2704   \n",
      "data/12910/0/12910_idx5_x2551_y1151_class0.png  1.9812  2.8940  2.2452   \n",
      "data/12910/0/12910_idx5_x2001_y101_class0.png   2.8660  3.0032  2.5404   \n",
      "\n",
      "                                                    gray  gray_var  edges  \\\n",
      "data/12910/0/12910_idx5_x3001_y701_class0.png   0.755730  0.003960     83   \n",
      "data/12910/0/12910_idx5_x1501_y401_class0.png   0.483340  0.009377    350   \n",
      "data/12910/0/12910_idx5_x2251_y1101_class0.png  0.799321  0.001401     14   \n",
      "data/12910/0/12910_idx5_x2551_y1151_class0.png  0.824825  0.001107      0   \n",
      "data/12910/0/12910_idx5_x2001_y101_class0.png   0.675241  0.005805    187   \n",
      "\n",
      "                                                ridges  \n",
      "data/12910/0/12910_idx5_x3001_y701_class0.png     1292  \n",
      "data/12910/0/12910_idx5_x1501_y401_class0.png     1297  \n",
      "data/12910/0/12910_idx5_x2251_y1101_class0.png    1315  \n",
      "data/12910/0/12910_idx5_x2551_y1151_class0.png    1316  \n",
      "data/12910/0/12910_idx5_x2001_y101_class0.png     1225  \n",
      "(22448, 7)\n",
      "\n",
      "X_test : \n",
      "                                                   red   green    blue  \\\n",
      "data/12909/0/12909_idx5_x1701_y251_class0.png   2.6780  2.2764  2.2716   \n",
      "data/12909/0/12909_idx5_x1351_y1351_class0.png  2.8576  2.2556  2.6428   \n",
      "data/12909/0/12909_idx5_x251_y1401_class0.png   2.5012  2.8076  2.3916   \n",
      "data/12909/0/12909_idx5_x1701_y1401_class0.png  2.6096  2.6848  2.8300   \n",
      "data/12909/0/12909_idx5_x551_y1401_class0.png   2.4044  2.8760  2.3348   \n",
      "\n",
      "                                                    gray  gray_var  edges  \\\n",
      "data/12909/0/12909_idx5_x1701_y251_class0.png   0.808798  0.016677    453   \n",
      "data/12909/0/12909_idx5_x1351_y1351_class0.png  0.652958  0.005473     86   \n",
      "data/12909/0/12909_idx5_x251_y1401_class0.png   0.830766  0.007992    127   \n",
      "data/12909/0/12909_idx5_x1701_y1401_class0.png  0.784134  0.017257    239   \n",
      "data/12909/0/12909_idx5_x551_y1401_class0.png   0.836711  0.019350    278   \n",
      "\n",
      "                                                ridges  \n",
      "data/12909/0/12909_idx5_x1701_y251_class0.png     1324  \n",
      "data/12909/0/12909_idx5_x1351_y1351_class0.png    1181  \n",
      "data/12909/0/12909_idx5_x251_y1401_class0.png     1298  \n",
      "data/12909/0/12909_idx5_x1701_y1401_class0.png    1320  \n",
      "data/12909/0/12909_idx5_x551_y1401_class0.png     1380  \n",
      "(5612, 7)\n",
      "\n",
      "y_train : \n",
      "data/12910/0/12910_idx5_x3001_y701_class0.png     0\n",
      "data/12910/0/12910_idx5_x1501_y401_class0.png     0\n",
      "data/12910/0/12910_idx5_x2251_y1101_class0.png    0\n",
      "data/12910/0/12910_idx5_x2551_y1151_class0.png    0\n",
      "data/12910/0/12910_idx5_x2001_y101_class0.png     0\n",
      "Name: group, dtype: int64\n",
      "(22448,)\n",
      "\n",
      "y_test : \n",
      "data/12909/0/12909_idx5_x1701_y251_class0.png     0\n",
      "data/12909/0/12909_idx5_x1351_y1351_class0.png    0\n",
      "data/12909/0/12909_idx5_x251_y1401_class0.png     0\n",
      "data/12909/0/12909_idx5_x1701_y1401_class0.png    0\n",
      "data/12909/0/12909_idx5_x551_y1401_class0.png     0\n",
      "Name: group, dtype: int64\n",
      "(5612,)\n"
     ]
    }
   ],
   "source": [
    "X= df[['red','green','blue','gray','gray_var','edges','ridges']]\n",
    "y=df['group']\n",
    "  \n",
    "# using the train test split function\n",
    "X_train, X_test, y_train, y_test = train_test_split(X,y, test_size=0.2, shuffle=False)\n",
    "\n",
    "print('X_train : ')\n",
    "print(X_train.head())\n",
    "print(X_train.shape)\n",
    "print('')\n",
    "print('X_test : ')\n",
    "print(X_test.head())\n",
    "print(X_test.shape)\n",
    "print('')\n",
    "print('y_train : ')\n",
    "print(y_train.head())\n",
    "print(y_train.shape)\n",
    "print('')\n",
    "print('y_test : ')\n",
    "print(y_test.head())\n",
    "print(y_test.shape)\n",
    "\n",
    "X_train, X_val, y_train, y_val = train_test_split(X,y, test_size=0.125, shuffle=False)\n",
    "\n",
    "#Split: 70% train, 10% validation and 20% test."
   ]
  },
  {
   "cell_type": "markdown",
   "id": "44e3cdfd-b77d-4060-948b-a2460e0ce569",
   "metadata": {},
   "source": [
    "## Single decision tree classifier"
   ]
  },
  {
   "cell_type": "code",
   "execution_count": 19,
   "id": "3b3b63bc-71db-46c0-b7b5-a06c89b2c95d",
   "metadata": {},
   "outputs": [
    {
     "name": "stdout",
     "output_type": "stream",
     "text": [
      "Execution time: 5.096846103668213s\n"
     ]
    },
    {
     "data": {
      "image/png": "[encoded data removed]",
      "text/plain": [
       "<Figure size 640x480 with 1 Axes>"
      ]
     },
     "metadata": {},
     "output_type": "display_data"
    }
   ],
   "source": [
    "#Single decision tree with different depths, to see what is proper.\n",
    "acc_for_depths = []\n",
    "step_size = 2\n",
    "\n",
    "st = time.time()\n",
    "for i in range(1,50,step_size):\n",
    "    model = DecisionTreeClassifier(max_depth = i)\n",
    "    model = model.fit(X_train, y_train)\n",
    "\n",
    "    predicted_value = model.predict(X_val)\n",
    "    #print(predicted_value)\n",
    "\n",
    "    #To plot the actual decision tree\n",
    "    #tree.plot_tree(model)\n",
    "\n",
    "    zeroes = 0\n",
    "    ones = 0\n",
    "\n",
    "    for i in y_train:\n",
    "        if i == 0:\n",
    "            zeroes += 1\n",
    "        else:\n",
    "            ones += 1\n",
    "\n",
    "    val = 1 - ((zeroes/70)*(zeroes/70) + (ones/70)*(ones/70))\n",
    "    #print(\"Gini :\", val)\n",
    "\n",
    "    match = 0\n",
    "    UnMatch = 0\n",
    "\n",
    "    for i in range(len(predicted_value)):\n",
    "        if predicted_value[i] == y_val[i]:\n",
    "            match += 1\n",
    "        else:\n",
    "            UnMatch += 1\n",
    "\n",
    "    accuracy = match/len(predicted_value)\n",
    "    acc_for_depths.append(accuracy)\n",
    "    #print(\"Accuracy is: \", accuracy)\n",
    "    \n",
    "et = time.time()\n",
    "elapsed_time = et - st\n",
    "print(f'Execution time: {elapsed_time}s')\n",
    "    \n",
    "plt.plot(range(1,50,step_size), acc_for_depths)\n",
    "plt.show()\n",
    "#Observing in the plot that max_depth = 10 gives the highest accuracy when validating.\n",
    "\n",
    "#ConfusionMatrixDisplay(confusion_matrix(y_test, predicted_value)).plot()"
   ]
  },
  {
   "cell_type": "code",
   "execution_count": 24,
   "id": "06074cce-4355-4e9b-94c4-f9ba68395aaa",
   "metadata": {},
   "outputs": [
    {
     "name": "stdout",
     "output_type": "stream",
     "text": [
      "0.8460661345496009\n",
      "0.8460661345496009\n",
      "0.8460661345496009\n",
      "0.8460661345496009\n",
      "0.8460661345496009\n",
      "0.8460661345496009\n",
      "0.8460661345496009\n",
      "0.8460661345496009\n",
      "0.8460661345496009\n",
      "0.8460661345496009\n"
     ]
    },
    {
     "ename": "KeyboardInterrupt",
     "evalue": "",
     "output_type": "error",
     "traceback": [
      "\u001b[0;31m---------------------------------------------------------------------------\u001b[0m",
      "\u001b[0;31mKeyboardInterrupt\u001b[0m                         Traceback (most recent call last)",
      "Cell \u001b[0;32mIn [24], line 11\u001b[0m\n\u001b[1;32m      5\u001b[0m regressor \u001b[38;5;241m=\u001b[39m RandomForestClassifier(random_state \u001b[38;5;241m=\u001b[39m \u001b[38;5;241m0\u001b[39m, \n\u001b[1;32m      6\u001b[0m                                    max_depth \u001b[38;5;241m=\u001b[39m \u001b[38;5;241m13\u001b[39m, \n\u001b[1;32m      7\u001b[0m                                    oob_score\u001b[38;5;241m=\u001b[39m\u001b[38;5;28;01mTrue\u001b[39;00m, \n\u001b[1;32m      8\u001b[0m                                    max_features\u001b[38;5;241m=\u001b[39m\u001b[38;5;124m\"\u001b[39m\u001b[38;5;124msqrt\u001b[39m\u001b[38;5;124m\"\u001b[39m)\n\u001b[1;32m     10\u001b[0m \u001b[38;5;66;03m# fit the regressor with x and y data\u001b[39;00m\n\u001b[0;32m---> 11\u001b[0m \u001b[43mregressor\u001b[49m\u001b[38;5;241;43m.\u001b[39;49m\u001b[43mfit\u001b[49m\u001b[43m(\u001b[49m\u001b[43mX_train\u001b[49m\u001b[43m,\u001b[49m\u001b[43m \u001b[49m\u001b[43my_train\u001b[49m\u001b[43m)\u001b[49m \n\u001b[1;32m     13\u001b[0m y_pred \u001b[38;5;241m=\u001b[39m regressor\u001b[38;5;241m.\u001b[39mpredict(X_val)  \u001b[38;5;66;03m# test the output by changing values\u001b[39;00m\n\u001b[1;32m     14\u001b[0m \u001b[38;5;66;03m#print(y_pred)\u001b[39;00m\n\u001b[1;32m     15\u001b[0m \n\u001b[1;32m     16\u001b[0m \u001b[38;5;66;03m#print(\"accuracy on training set: %f\" % regressor.score(X_train, y_train))\u001b[39;00m\n\u001b[0;32m   (...)\u001b[0m\n\u001b[1;32m     21\u001b[0m \u001b[38;5;66;03m#ConfusionMatrixDisplay(confusion).plot()\u001b[39;00m\n\u001b[1;32m     22\u001b[0m \u001b[38;5;66;03m# Display accuracy score\u001b[39;00m\n",
      "File \u001b[0;32m~/anaconda3/envs/malis/lib/python3.8/site-packages/sklearn/ensemble/_forest.py:476\u001b[0m, in \u001b[0;36mBaseForest.fit\u001b[0;34m(self, X, y, sample_weight)\u001b[0m\n\u001b[1;32m    465\u001b[0m trees \u001b[38;5;241m=\u001b[39m [\n\u001b[1;32m    466\u001b[0m     \u001b[38;5;28mself\u001b[39m\u001b[38;5;241m.\u001b[39m_make_estimator(append\u001b[38;5;241m=\u001b[39m\u001b[38;5;28;01mFalse\u001b[39;00m, random_state\u001b[38;5;241m=\u001b[39mrandom_state)\n\u001b[1;32m    467\u001b[0m     \u001b[38;5;28;01mfor\u001b[39;00m i \u001b[38;5;129;01min\u001b[39;00m \u001b[38;5;28mrange\u001b[39m(n_more_estimators)\n\u001b[1;32m    468\u001b[0m ]\n\u001b[1;32m    470\u001b[0m \u001b[38;5;66;03m# Parallel loop: we prefer the threading backend as the Cython code\u001b[39;00m\n\u001b[1;32m    471\u001b[0m \u001b[38;5;66;03m# for fitting the trees is internally releasing the Python GIL\u001b[39;00m\n\u001b[1;32m    472\u001b[0m \u001b[38;5;66;03m# making threading more efficient than multiprocessing in\u001b[39;00m\n\u001b[1;32m    473\u001b[0m \u001b[38;5;66;03m# that case. However, for joblib 0.12+ we respect any\u001b[39;00m\n\u001b[1;32m    474\u001b[0m \u001b[38;5;66;03m# parallel_backend contexts set at a higher level,\u001b[39;00m\n\u001b[1;32m    475\u001b[0m \u001b[38;5;66;03m# since correctness does not rely on using threads.\u001b[39;00m\n\u001b[0;32m--> 476\u001b[0m trees \u001b[38;5;241m=\u001b[39m \u001b[43mParallel\u001b[49m\u001b[43m(\u001b[49m\n\u001b[1;32m    477\u001b[0m \u001b[43m    \u001b[49m\u001b[43mn_jobs\u001b[49m\u001b[38;5;241;43m=\u001b[39;49m\u001b[38;5;28;43mself\u001b[39;49m\u001b[38;5;241;43m.\u001b[39;49m\u001b[43mn_jobs\u001b[49m\u001b[43m,\u001b[49m\n\u001b[1;32m    478\u001b[0m \u001b[43m    \u001b[49m\u001b[43mverbose\u001b[49m\u001b[38;5;241;43m=\u001b[39;49m\u001b[38;5;28;43mself\u001b[39;49m\u001b[38;5;241;43m.\u001b[39;49m\u001b[43mverbose\u001b[49m\u001b[43m,\u001b[49m\n\u001b[1;32m    479\u001b[0m \u001b[43m    \u001b[49m\u001b[43mprefer\u001b[49m\u001b[38;5;241;43m=\u001b[39;49m\u001b[38;5;124;43m\"\u001b[39;49m\u001b[38;5;124;43mthreads\u001b[39;49m\u001b[38;5;124;43m\"\u001b[39;49m\u001b[43m,\u001b[49m\n\u001b[1;32m    480\u001b[0m \u001b[43m\u001b[49m\u001b[43m)\u001b[49m\u001b[43m(\u001b[49m\n\u001b[1;32m    481\u001b[0m \u001b[43m    \u001b[49m\u001b[43mdelayed\u001b[49m\u001b[43m(\u001b[49m\u001b[43m_parallel_build_trees\u001b[49m\u001b[43m)\u001b[49m\u001b[43m(\u001b[49m\n\u001b[1;32m    482\u001b[0m \u001b[43m        \u001b[49m\u001b[43mt\u001b[49m\u001b[43m,\u001b[49m\n\u001b[1;32m    483\u001b[0m \u001b[43m        \u001b[49m\u001b[38;5;28;43mself\u001b[39;49m\u001b[38;5;241;43m.\u001b[39;49m\u001b[43mbootstrap\u001b[49m\u001b[43m,\u001b[49m\n\u001b[1;32m    484\u001b[0m \u001b[43m        \u001b[49m\u001b[43mX\u001b[49m\u001b[43m,\u001b[49m\n\u001b[1;32m    485\u001b[0m \u001b[43m        \u001b[49m\u001b[43my\u001b[49m\u001b[43m,\u001b[49m\n\u001b[1;32m    486\u001b[0m \u001b[43m        \u001b[49m\u001b[43msample_weight\u001b[49m\u001b[43m,\u001b[49m\n\u001b[1;32m    487\u001b[0m \u001b[43m        \u001b[49m\u001b[43mi\u001b[49m\u001b[43m,\u001b[49m\n\u001b[1;32m    488\u001b[0m \u001b[43m        \u001b[49m\u001b[38;5;28;43mlen\u001b[39;49m\u001b[43m(\u001b[49m\u001b[43mtrees\u001b[49m\u001b[43m)\u001b[49m\u001b[43m,\u001b[49m\n\u001b[1;32m    489\u001b[0m \u001b[43m        \u001b[49m\u001b[43mverbose\u001b[49m\u001b[38;5;241;43m=\u001b[39;49m\u001b[38;5;28;43mself\u001b[39;49m\u001b[38;5;241;43m.\u001b[39;49m\u001b[43mverbose\u001b[49m\u001b[43m,\u001b[49m\n\u001b[1;32m    490\u001b[0m \u001b[43m        \u001b[49m\u001b[43mclass_weight\u001b[49m\u001b[38;5;241;43m=\u001b[39;49m\u001b[38;5;28;43mself\u001b[39;49m\u001b[38;5;241;43m.\u001b[39;49m\u001b[43mclass_weight\u001b[49m\u001b[43m,\u001b[49m\n\u001b[1;32m    491\u001b[0m \u001b[43m        \u001b[49m\u001b[43mn_samples_bootstrap\u001b[49m\u001b[38;5;241;43m=\u001b[39;49m\u001b[43mn_samples_bootstrap\u001b[49m\u001b[43m,\u001b[49m\n\u001b[1;32m    492\u001b[0m \u001b[43m    \u001b[49m\u001b[43m)\u001b[49m\n\u001b[1;32m    493\u001b[0m \u001b[43m    \u001b[49m\u001b[38;5;28;43;01mfor\u001b[39;49;00m\u001b[43m \u001b[49m\u001b[43mi\u001b[49m\u001b[43m,\u001b[49m\u001b[43m \u001b[49m\u001b[43mt\u001b[49m\u001b[43m \u001b[49m\u001b[38;5;129;43;01min\u001b[39;49;00m\u001b[43m \u001b[49m\u001b[38;5;28;43menumerate\u001b[39;49m\u001b[43m(\u001b[49m\u001b[43mtrees\u001b[49m\u001b[43m)\u001b[49m\n\u001b[1;32m    494\u001b[0m \u001b[43m\u001b[49m\u001b[43m)\u001b[49m\n\u001b[1;32m    496\u001b[0m \u001b[38;5;66;03m# Collect newly grown trees\u001b[39;00m\n\u001b[1;32m    497\u001b[0m \u001b[38;5;28mself\u001b[39m\u001b[38;5;241m.\u001b[39mestimators_\u001b[38;5;241m.\u001b[39mextend(trees)\n",
      "File \u001b[0;32m~/anaconda3/envs/malis/lib/python3.8/site-packages/joblib/parallel.py:1088\u001b[0m, in \u001b[0;36mParallel.__call__\u001b[0;34m(self, iterable)\u001b[0m\n\u001b[1;32m   1085\u001b[0m \u001b[38;5;28;01mif\u001b[39;00m \u001b[38;5;28mself\u001b[39m\u001b[38;5;241m.\u001b[39mdispatch_one_batch(iterator):\n\u001b[1;32m   1086\u001b[0m     \u001b[38;5;28mself\u001b[39m\u001b[38;5;241m.\u001b[39m_iterating \u001b[38;5;241m=\u001b[39m \u001b[38;5;28mself\u001b[39m\u001b[38;5;241m.\u001b[39m_original_iterator \u001b[38;5;129;01mis\u001b[39;00m \u001b[38;5;129;01mnot\u001b[39;00m \u001b[38;5;28;01mNone\u001b[39;00m\n\u001b[0;32m-> 1088\u001b[0m \u001b[38;5;28;01mwhile\u001b[39;00m \u001b[38;5;28;43mself\u001b[39;49m\u001b[38;5;241;43m.\u001b[39;49m\u001b[43mdispatch_one_batch\u001b[49m\u001b[43m(\u001b[49m\u001b[43miterator\u001b[49m\u001b[43m)\u001b[49m:\n\u001b[1;32m   1089\u001b[0m     \u001b[38;5;28;01mpass\u001b[39;00m\n\u001b[1;32m   1091\u001b[0m \u001b[38;5;28;01mif\u001b[39;00m pre_dispatch \u001b[38;5;241m==\u001b[39m \u001b[38;5;124m\"\u001b[39m\u001b[38;5;124mall\u001b[39m\u001b[38;5;124m\"\u001b[39m \u001b[38;5;129;01mor\u001b[39;00m n_jobs \u001b[38;5;241m==\u001b[39m \u001b[38;5;241m1\u001b[39m:\n\u001b[1;32m   1092\u001b[0m     \u001b[38;5;66;03m# The iterable was consumed all at once by the above for loop.\u001b[39;00m\n\u001b[1;32m   1093\u001b[0m     \u001b[38;5;66;03m# No need to wait for async callbacks to trigger to\u001b[39;00m\n\u001b[1;32m   1094\u001b[0m     \u001b[38;5;66;03m# consumption.\u001b[39;00m\n",
      "File \u001b[0;32m~/anaconda3/envs/malis/lib/python3.8/site-packages/joblib/parallel.py:901\u001b[0m, in \u001b[0;36mParallel.dispatch_one_batch\u001b[0;34m(self, iterator)\u001b[0m\n\u001b[1;32m    899\u001b[0m     \u001b[38;5;28;01mreturn\u001b[39;00m \u001b[38;5;28;01mFalse\u001b[39;00m\n\u001b[1;32m    900\u001b[0m \u001b[38;5;28;01melse\u001b[39;00m:\n\u001b[0;32m--> 901\u001b[0m     \u001b[38;5;28;43mself\u001b[39;49m\u001b[38;5;241;43m.\u001b[39;49m\u001b[43m_dispatch\u001b[49m\u001b[43m(\u001b[49m\u001b[43mtasks\u001b[49m\u001b[43m)\u001b[49m\n\u001b[1;32m    902\u001b[0m     \u001b[38;5;28;01mreturn\u001b[39;00m \u001b[38;5;28;01mTrue\u001b[39;00m\n",
      "File \u001b[0;32m~/anaconda3/envs/malis/lib/python3.8/site-packages/joblib/parallel.py:819\u001b[0m, in \u001b[0;36mParallel._dispatch\u001b[0;34m(self, batch)\u001b[0m\n\u001b[1;32m    817\u001b[0m \u001b[38;5;28;01mwith\u001b[39;00m \u001b[38;5;28mself\u001b[39m\u001b[38;5;241m.\u001b[39m_lock:\n\u001b[1;32m    818\u001b[0m     job_idx \u001b[38;5;241m=\u001b[39m \u001b[38;5;28mlen\u001b[39m(\u001b[38;5;28mself\u001b[39m\u001b[38;5;241m.\u001b[39m_jobs)\n\u001b[0;32m--> 819\u001b[0m     job \u001b[38;5;241m=\u001b[39m \u001b[38;5;28;43mself\u001b[39;49m\u001b[38;5;241;43m.\u001b[39;49m\u001b[43m_backend\u001b[49m\u001b[38;5;241;43m.\u001b[39;49m\u001b[43mapply_async\u001b[49m\u001b[43m(\u001b[49m\u001b[43mbatch\u001b[49m\u001b[43m,\u001b[49m\u001b[43m \u001b[49m\u001b[43mcallback\u001b[49m\u001b[38;5;241;43m=\u001b[39;49m\u001b[43mcb\u001b[49m\u001b[43m)\u001b[49m\n\u001b[1;32m    820\u001b[0m     \u001b[38;5;66;03m# A job can complete so quickly than its callback is\u001b[39;00m\n\u001b[1;32m    821\u001b[0m     \u001b[38;5;66;03m# called before we get here, causing self._jobs to\u001b[39;00m\n\u001b[1;32m    822\u001b[0m     \u001b[38;5;66;03m# grow. To ensure correct results ordering, .insert is\u001b[39;00m\n\u001b[1;32m    823\u001b[0m     \u001b[38;5;66;03m# used (rather than .append) in the following line\u001b[39;00m\n\u001b[1;32m    824\u001b[0m     \u001b[38;5;28mself\u001b[39m\u001b[38;5;241m.\u001b[39m_jobs\u001b[38;5;241m.\u001b[39minsert(job_idx, job)\n",
      "File \u001b[0;32m~/anaconda3/envs/malis/lib/python3.8/site-packages/joblib/_parallel_backends.py:208\u001b[0m, in \u001b[0;36mSequentialBackend.apply_async\u001b[0;34m(self, func, callback)\u001b[0m\n\u001b[1;32m    206\u001b[0m \u001b[38;5;28;01mdef\u001b[39;00m \u001b[38;5;21mapply_async\u001b[39m(\u001b[38;5;28mself\u001b[39m, func, callback\u001b[38;5;241m=\u001b[39m\u001b[38;5;28;01mNone\u001b[39;00m):\n\u001b[1;32m    207\u001b[0m     \u001b[38;5;124;03m\"\"\"Schedule a func to be run\"\"\"\u001b[39;00m\n\u001b[0;32m--> 208\u001b[0m     result \u001b[38;5;241m=\u001b[39m \u001b[43mImmediateResult\u001b[49m\u001b[43m(\u001b[49m\u001b[43mfunc\u001b[49m\u001b[43m)\u001b[49m\n\u001b[1;32m    209\u001b[0m     \u001b[38;5;28;01mif\u001b[39;00m callback:\n\u001b[1;32m    210\u001b[0m         callback(result)\n",
      "File \u001b[0;32m~/anaconda3/envs/malis/lib/python3.8/site-packages/joblib/_parallel_backends.py:597\u001b[0m, in \u001b[0;36mImmediateResult.__init__\u001b[0;34m(self, batch)\u001b[0m\n\u001b[1;32m    594\u001b[0m \u001b[38;5;28;01mdef\u001b[39;00m \u001b[38;5;21m__init__\u001b[39m(\u001b[38;5;28mself\u001b[39m, batch):\n\u001b[1;32m    595\u001b[0m     \u001b[38;5;66;03m# Don't delay the application, to avoid keeping the input\u001b[39;00m\n\u001b[1;32m    596\u001b[0m     \u001b[38;5;66;03m# arguments in memory\u001b[39;00m\n\u001b[0;32m--> 597\u001b[0m     \u001b[38;5;28mself\u001b[39m\u001b[38;5;241m.\u001b[39mresults \u001b[38;5;241m=\u001b[39m \u001b[43mbatch\u001b[49m\u001b[43m(\u001b[49m\u001b[43m)\u001b[49m\n",
      "File \u001b[0;32m~/anaconda3/envs/malis/lib/python3.8/site-packages/joblib/parallel.py:288\u001b[0m, in \u001b[0;36mBatchedCalls.__call__\u001b[0;34m(self)\u001b[0m\n\u001b[1;32m    284\u001b[0m \u001b[38;5;28;01mdef\u001b[39;00m \u001b[38;5;21m__call__\u001b[39m(\u001b[38;5;28mself\u001b[39m):\n\u001b[1;32m    285\u001b[0m     \u001b[38;5;66;03m# Set the default nested backend to self._backend but do not set the\u001b[39;00m\n\u001b[1;32m    286\u001b[0m     \u001b[38;5;66;03m# change the default number of processes to -1\u001b[39;00m\n\u001b[1;32m    287\u001b[0m     \u001b[38;5;28;01mwith\u001b[39;00m parallel_backend(\u001b[38;5;28mself\u001b[39m\u001b[38;5;241m.\u001b[39m_backend, n_jobs\u001b[38;5;241m=\u001b[39m\u001b[38;5;28mself\u001b[39m\u001b[38;5;241m.\u001b[39m_n_jobs):\n\u001b[0;32m--> 288\u001b[0m         \u001b[38;5;28;01mreturn\u001b[39;00m [func(\u001b[38;5;241m*\u001b[39margs, \u001b[38;5;241m*\u001b[39m\u001b[38;5;241m*\u001b[39mkwargs)\n\u001b[1;32m    289\u001b[0m                 \u001b[38;5;28;01mfor\u001b[39;00m func, args, kwargs \u001b[38;5;129;01min\u001b[39;00m \u001b[38;5;28mself\u001b[39m\u001b[38;5;241m.\u001b[39mitems]\n",
      "File \u001b[0;32m~/anaconda3/envs/malis/lib/python3.8/site-packages/joblib/parallel.py:288\u001b[0m, in \u001b[0;36m<listcomp>\u001b[0;34m(.0)\u001b[0m\n\u001b[1;32m    284\u001b[0m \u001b[38;5;28;01mdef\u001b[39;00m \u001b[38;5;21m__call__\u001b[39m(\u001b[38;5;28mself\u001b[39m):\n\u001b[1;32m    285\u001b[0m     \u001b[38;5;66;03m# Set the default nested backend to self._backend but do not set the\u001b[39;00m\n\u001b[1;32m    286\u001b[0m     \u001b[38;5;66;03m# change the default number of processes to -1\u001b[39;00m\n\u001b[1;32m    287\u001b[0m     \u001b[38;5;28;01mwith\u001b[39;00m parallel_backend(\u001b[38;5;28mself\u001b[39m\u001b[38;5;241m.\u001b[39m_backend, n_jobs\u001b[38;5;241m=\u001b[39m\u001b[38;5;28mself\u001b[39m\u001b[38;5;241m.\u001b[39m_n_jobs):\n\u001b[0;32m--> 288\u001b[0m         \u001b[38;5;28;01mreturn\u001b[39;00m [\u001b[43mfunc\u001b[49m\u001b[43m(\u001b[49m\u001b[38;5;241;43m*\u001b[39;49m\u001b[43margs\u001b[49m\u001b[43m,\u001b[49m\u001b[43m \u001b[49m\u001b[38;5;241;43m*\u001b[39;49m\u001b[38;5;241;43m*\u001b[39;49m\u001b[43mkwargs\u001b[49m\u001b[43m)\u001b[49m\n\u001b[1;32m    289\u001b[0m                 \u001b[38;5;28;01mfor\u001b[39;00m func, args, kwargs \u001b[38;5;129;01min\u001b[39;00m \u001b[38;5;28mself\u001b[39m\u001b[38;5;241m.\u001b[39mitems]\n",
      "File \u001b[0;32m~/anaconda3/envs/malis/lib/python3.8/site-packages/sklearn/utils/fixes.py:117\u001b[0m, in \u001b[0;36m_FuncWrapper.__call__\u001b[0;34m(self, *args, **kwargs)\u001b[0m\n\u001b[1;32m    115\u001b[0m \u001b[38;5;28;01mdef\u001b[39;00m \u001b[38;5;21m__call__\u001b[39m(\u001b[38;5;28mself\u001b[39m, \u001b[38;5;241m*\u001b[39margs, \u001b[38;5;241m*\u001b[39m\u001b[38;5;241m*\u001b[39mkwargs):\n\u001b[1;32m    116\u001b[0m     \u001b[38;5;28;01mwith\u001b[39;00m config_context(\u001b[38;5;241m*\u001b[39m\u001b[38;5;241m*\u001b[39m\u001b[38;5;28mself\u001b[39m\u001b[38;5;241m.\u001b[39mconfig):\n\u001b[0;32m--> 117\u001b[0m         \u001b[38;5;28;01mreturn\u001b[39;00m \u001b[38;5;28;43mself\u001b[39;49m\u001b[38;5;241;43m.\u001b[39;49m\u001b[43mfunction\u001b[49m\u001b[43m(\u001b[49m\u001b[38;5;241;43m*\u001b[39;49m\u001b[43margs\u001b[49m\u001b[43m,\u001b[49m\u001b[43m \u001b[49m\u001b[38;5;241;43m*\u001b[39;49m\u001b[38;5;241;43m*\u001b[39;49m\u001b[43mkwargs\u001b[49m\u001b[43m)\u001b[49m\n",
      "File \u001b[0;32m~/anaconda3/envs/malis/lib/python3.8/site-packages/sklearn/ensemble/_forest.py:176\u001b[0m, in \u001b[0;36m_parallel_build_trees\u001b[0;34m(tree, bootstrap, X, y, sample_weight, tree_idx, n_trees, verbose, class_weight, n_samples_bootstrap)\u001b[0m\n\u001b[1;32m    173\u001b[0m \u001b[38;5;28;01melse\u001b[39;00m:\n\u001b[1;32m    174\u001b[0m     curr_sample_weight \u001b[38;5;241m=\u001b[39m sample_weight\u001b[38;5;241m.\u001b[39mcopy()\n\u001b[0;32m--> 176\u001b[0m indices \u001b[38;5;241m=\u001b[39m \u001b[43m_generate_sample_indices\u001b[49m\u001b[43m(\u001b[49m\n\u001b[1;32m    177\u001b[0m \u001b[43m    \u001b[49m\u001b[43mtree\u001b[49m\u001b[38;5;241;43m.\u001b[39;49m\u001b[43mrandom_state\u001b[49m\u001b[43m,\u001b[49m\u001b[43m \u001b[49m\u001b[43mn_samples\u001b[49m\u001b[43m,\u001b[49m\u001b[43m \u001b[49m\u001b[43mn_samples_bootstrap\u001b[49m\n\u001b[1;32m    178\u001b[0m \u001b[43m\u001b[49m\u001b[43m)\u001b[49m\n\u001b[1;32m    179\u001b[0m sample_counts \u001b[38;5;241m=\u001b[39m np\u001b[38;5;241m.\u001b[39mbincount(indices, minlength\u001b[38;5;241m=\u001b[39mn_samples)\n\u001b[1;32m    180\u001b[0m curr_sample_weight \u001b[38;5;241m*\u001b[39m\u001b[38;5;241m=\u001b[39m sample_counts\n",
      "File \u001b[0;32m~/anaconda3/envs/malis/lib/python3.8/site-packages/sklearn/ensemble/_forest.py:133\u001b[0m, in \u001b[0;36m_generate_sample_indices\u001b[0;34m(random_state, n_samples, n_samples_bootstrap)\u001b[0m\n\u001b[1;32m    129\u001b[0m \u001b[38;5;124;03m\"\"\"\u001b[39;00m\n\u001b[1;32m    130\u001b[0m \u001b[38;5;124;03mPrivate function used to _parallel_build_trees function.\"\"\"\u001b[39;00m\n\u001b[1;32m    132\u001b[0m random_instance \u001b[38;5;241m=\u001b[39m check_random_state(random_state)\n\u001b[0;32m--> 133\u001b[0m sample_indices \u001b[38;5;241m=\u001b[39m \u001b[43mrandom_instance\u001b[49m\u001b[38;5;241;43m.\u001b[39;49m\u001b[43mrandint\u001b[49m\u001b[43m(\u001b[49m\u001b[38;5;241;43m0\u001b[39;49m\u001b[43m,\u001b[49m\u001b[43m \u001b[49m\u001b[43mn_samples\u001b[49m\u001b[43m,\u001b[49m\u001b[43m \u001b[49m\u001b[43mn_samples_bootstrap\u001b[49m\u001b[43m)\u001b[49m\n\u001b[1;32m    135\u001b[0m \u001b[38;5;28;01mreturn\u001b[39;00m sample_indices\n",
      "\u001b[0;31mKeyboardInterrupt\u001b[0m: "
     ]
    }
   ],
   "source": [
    "#Random forest classification with different values for max_depth\n",
    "acc_for_depths = []\n",
    "step_size = 2\n",
    "for i in range(1,50,step_size):\n",
    "    regressor = RandomForestClassifier(random_state = 0, \n",
    "                                       max_depth = i, \n",
    "                                       oob_score=True, \n",
    "                                       max_features=\"sqrt\")\n",
    "\n",
    "    # fit the regressor with x and y data\n",
    "    regressor.fit(X_train, y_train) \n",
    "\n",
    "    y_pred = regressor.predict(X_val)  # test the output by changing values\n",
    "    #print(y_pred)\n",
    "\n",
    "    #print(\"accuracy on training set: %f\" % regressor.score(X_train, y_train))\n",
    "    #print(\"accuracy on validation set: %f\" % regressor.score(X_val, y_val))\n",
    "\n",
    "    # Create confusion matrix\n",
    "    #confusion = confusion_matrix(y_val, y_pred)\n",
    "    #ConfusionMatrixDisplay(confusion).plot()\n",
    "    # Display accuracy score\n",
    "    accuracy = accuracy_score(y_val, y_pred)\n",
    "    print(accuracy)\n",
    "    acc_for_depths.append(accuracy)\n",
    "    \n",
    "plt.plot(range(1,50,step_size), acc_for_depths)\n",
    "plt.show()"
   ]
  },
  {
   "cell_type": "code",
   "execution_count": 25,
   "id": "5d2fa05e-b5b5-42ed-ab34-6bee6ee58a8d",
   "metadata": {},
   "outputs": [
    {
     "name": "stdout",
     "output_type": "stream",
     "text": [
      "0.8635067712045617\n"
     ]
    },
    {
     "data": {
      "text/plain": [
       "(0.0, 1.0)"
      ]
     },
     "execution_count": 25,
     "metadata": {},
     "output_type": "execute_result"
    },
    {
     "data": {
      "image/png": "[encoded data removed]",
      "text/plain": [
       "<Figure size 640x480 with 1 Axes>"
      ]
     },
     "metadata": {},
     "output_type": "display_data"
    }
   ],
   "source": [
    "regressor = RandomForestClassifier(random_state = 0, \n",
    "                                       max_depth = 13, \n",
    "                                       oob_score=True, \n",
    "                                       max_features=\"sqrt\")\n",
    "\n",
    "# fit the regressor with x and y data\n",
    "regressor.fit(X_train, y_train) \n",
    "\n",
    "y_pred = regressor.predict(X_test)  # test the output by changing values\n",
    "\n",
    "# Create confusion matrix\n",
    "#confusion = confusion_matrix(y_val, y_pred)\n",
    "#ConfusionMatrixDisplay(confusion).plot()\n",
    "# Display accuracy score\n",
    "accuracy = accuracy_score(y_test, y_pred)\n",
    "print(accuracy)\n",
    "\n",
    "plt.plot(regressor.feature_importances_, 'o')\n",
    "plt.xticks(range(X_val.shape[1]), X_val.columns, rotation=90)\n",
    "plt.ylim(0, 1)"
   ]
  },
  {
   "cell_type": "markdown",
   "id": "52c9bdbb-7c44-45bd-a88a-bd1c3759001a",
   "metadata": {},
   "source": [
    "### This part is not working yet."
   ]
  },
  {
   "cell_type": "code",
   "execution_count": 17,
   "id": "01b4c186-5b68-4504-a749-92a9a69f6f43",
   "metadata": {},
   "outputs": [
    {
     "ename": "TypeError",
     "evalue": "float() argument must be a string or a number, not 'DataFrame'",
     "output_type": "error",
     "traceback": [
      "\u001b[0;31m---------------------------------------------------------------------------\u001b[0m",
      "\u001b[0;31mTypeError\u001b[0m                                 Traceback (most recent call last)",
      "Cell \u001b[0;32mIn [17], line 7\u001b[0m\n\u001b[1;32m      1\u001b[0m \u001b[38;5;66;03m# Visualising the Random Forest Regression results\u001b[39;00m\n\u001b[1;32m      2\u001b[0m \n\u001b[1;32m      3\u001b[0m \u001b[38;5;66;03m# arrange for creating a range of values\u001b[39;00m\n\u001b[1;32m      4\u001b[0m \u001b[38;5;66;03m# from min value of x to max\u001b[39;00m\n\u001b[1;32m      5\u001b[0m \u001b[38;5;66;03m# value of x with a difference of 0.01\u001b[39;00m\n\u001b[1;32m      6\u001b[0m \u001b[38;5;66;03m# between two consecutive values\u001b[39;00m\n\u001b[0;32m----> 7\u001b[0m X_grid \u001b[38;5;241m=\u001b[39m np\u001b[38;5;241m.\u001b[39marange(\u001b[38;5;28mmin\u001b[39m(\u001b[38;5;28;43mfloat\u001b[39;49m\u001b[43m(\u001b[49m\u001b[43mX_train\u001b[49m\u001b[43m)\u001b[49m), \u001b[38;5;28mmax\u001b[39m(\u001b[38;5;28mfloat\u001b[39m(X_train)), \u001b[38;5;241m0.01\u001b[39m)\n\u001b[1;32m      9\u001b[0m \u001b[38;5;66;03m# reshape for reshaping the data into a len(X_grid)*1 array,\u001b[39;00m\n\u001b[1;32m     10\u001b[0m \u001b[38;5;66;03m# i.e. to make a column out of the X_grid value\t\t\t\t\u001b[39;00m\n\u001b[1;32m     11\u001b[0m X_grid \u001b[38;5;241m=\u001b[39m X_grid\u001b[38;5;241m.\u001b[39mreshape((\u001b[38;5;28mlen\u001b[39m(X_grid), \u001b[38;5;241m1\u001b[39m))\n",
      "\u001b[0;31mTypeError\u001b[0m: float() argument must be a string or a number, not 'DataFrame'"
     ]
    }
   ],
   "source": [
    "# Visualising the Random Forest Regression results\n",
    "\n",
    "# arrange for creating a range of values\n",
    "# from min value of x to max\n",
    "# value of x with a difference of 0.01\n",
    "# between two consecutive values\n",
    "X_grid = np.arange(min(float(X_train)), max(float(X_train)), 0.01)\n",
    "\n",
    "# reshape for reshaping the data into a len(X_grid)*1 array,\n",
    "# i.e. to make a column out of the X_grid value\t\t\t\t\n",
    "X_grid = X_grid.reshape((len(X_grid), 1))\n",
    "\n",
    "# Scatter plot for original data\n",
    "plt.scatter(x, y, color = 'blue')\n",
    "\n",
    "# plot predicted data\n",
    "plt.plot(X_grid, regressor.predict(X_grid),color = 'green')\n",
    "plt.title('Random Forest Regression')\n",
    "plt.xlabel('Position level')\n",
    "plt.ylabel('Salary')\n",
    "plt.show()"
   ]
  },
  {
   "cell_type": "code",
   "execution_count": null,
   "id": "e4d1c121-3aeb-4af8-807d-1d9413df0e14",
   "metadata": {},
   "outputs": [],
   "source": []
  }
 ],
 "metadata": {
  "kernelspec": {
   "display_name": "Python 3 (ipykernel)",
   "language": "python",
   "name": "python3"
  },
  "language_info": {
   "codemirror_mode": {
    "name": "ipython",
    "version": 3
   },
   "file_extension": ".py",
   "mimetype": "text/x-python",
   "name": "python",
   "nbconvert_exporter": "python",
   "pygments_lexer": "ipython3",
   "version": "3.8.13"
  }
 },
 "nbformat": 4,
 "nbformat_minor": 5
}
