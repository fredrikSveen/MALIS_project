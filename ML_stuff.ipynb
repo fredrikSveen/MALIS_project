{
 "cells": [
  {
   "cell_type": "code",
   "execution_count": 1,
   "id": "0dcc7eb4-c17f-4601-aa1c-169062ae7858",
   "metadata": {},
   "outputs": [],
   "source": [
    "import matplotlib.pyplot as plt\n",
    "import numpy as np\n",
    "import pandas as pd\n",
    "import time\n",
    "from sklearn.model_selection import train_test_split\n",
    "from sklearn.datasets import make_classification\n",
    "from sklearn.tree import DecisionTreeClassifier\n",
    "from sklearn.ensemble import RandomForestClassifier\n",
    "from sklearn.metrics import confusion_matrix, ConfusionMatrixDisplay, f1_score, accuracy_score"
   ]
  },
  {
   "cell_type": "code",
   "execution_count": 2,
   "id": "6ff7cbf2-3af0-4267-869d-cf30213df1e2",
   "metadata": {},
   "outputs": [
    {
     "name": "stdout",
     "output_type": "stream",
     "text": [
      "<bound method NDFrame.head of                                                    red   green    blue  \\\n",
      "data/12910/0/12910_idx5_x3001_y701_class0.png   2.8792  2.7112  2.8076   \n",
      "data/12910/0/12910_idx5_x1501_y401_class0.png   2.7392  2.7464  2.0908   \n",
      "data/12910/0/12910_idx5_x2251_y1101_class0.png  1.1296  2.6620  2.2704   \n",
      "data/12910/0/12910_idx5_x2551_y1151_class0.png  1.9812  2.8940  2.2452   \n",
      "data/12910/0/12910_idx5_x2001_y101_class0.png   2.8660  3.0032  2.5404   \n",
      "...                                                ...     ...     ...   \n",
      "data/10295/1/10295_idx5_x1451_y1751_class1.png  2.4984  2.3112  2.5208   \n",
      "data/10295/1/10295_idx5_x1251_y1751_class1.png  2.3984  2.4340  2.4816   \n",
      "data/10295/1/10295_idx5_x1501_y1351_class1.png  2.3928  2.5132  2.6456   \n",
      "data/10295/1/10295_idx5_x1501_y1601_class1.png  2.7404  2.5352  2.3744   \n",
      "data/10295/1/10295_idx5_x1251_y1851_class1.png  2.3600  2.9432  2.1736   \n",
      "\n",
      "                                                    gray  edges  group  \n",
      "data/12910/0/12910_idx5_x3001_y701_class0.png   0.755730     83      0  \n",
      "data/12910/0/12910_idx5_x1501_y401_class0.png   0.483340    350      0  \n",
      "data/12910/0/12910_idx5_x2251_y1101_class0.png  0.799321     14      0  \n",
      "data/12910/0/12910_idx5_x2551_y1151_class0.png  0.824825      0      0  \n",
      "data/12910/0/12910_idx5_x2001_y101_class0.png   0.675241    187      0  \n",
      "...                                                  ...    ...    ...  \n",
      "data/10295/1/10295_idx5_x1451_y1751_class1.png  0.446976    394      1  \n",
      "data/10295/1/10295_idx5_x1251_y1751_class1.png  0.423668    638      1  \n",
      "data/10295/1/10295_idx5_x1501_y1351_class1.png  0.527423    260      1  \n",
      "data/10295/1/10295_idx5_x1501_y1601_class1.png  0.433236    375      1  \n",
      "data/10295/1/10295_idx5_x1251_y1851_class1.png  0.435931    465      1  \n",
      "\n",
      "[28061 rows x 6 columns]>\n"
     ]
    }
   ],
   "source": [
    "#Import dataframe from JSON file\n",
    "jsonStr = \"parameters_df.json\"\n",
    "df = pd.read_json(jsonStr, orient ='index')\n",
    "print(df.head)"
   ]
  },
  {
   "cell_type": "markdown",
   "id": "b0df9e26-c19b-4b76-8432-b9c228365a05",
   "metadata": {},
   "source": [
    "## Splitting in train and test set."
   ]
  },
  {
   "cell_type": "code",
   "execution_count": 17,
   "id": "249485ec-21db-4663-be45-fd314785887e",
   "metadata": {},
   "outputs": [
    {
     "name": "stdout",
     "output_type": "stream",
     "text": [
      "X_train : \n",
      "                                                   red   green    blue  \\\n",
      "data/12910/0/12910_idx5_x3001_y701_class0.png   2.8792  2.7112  2.8076   \n",
      "data/12910/0/12910_idx5_x1501_y401_class0.png   2.7392  2.7464  2.0908   \n",
      "data/12910/0/12910_idx5_x2251_y1101_class0.png  1.1296  2.6620  2.2704   \n",
      "data/12910/0/12910_idx5_x2551_y1151_class0.png  1.9812  2.8940  2.2452   \n",
      "data/12910/0/12910_idx5_x2001_y101_class0.png   2.8660  3.0032  2.5404   \n",
      "\n",
      "                                                    gray  edges  \n",
      "data/12910/0/12910_idx5_x3001_y701_class0.png   0.755730     83  \n",
      "data/12910/0/12910_idx5_x1501_y401_class0.png   0.483340    350  \n",
      "data/12910/0/12910_idx5_x2251_y1101_class0.png  0.799321     14  \n",
      "data/12910/0/12910_idx5_x2551_y1151_class0.png  0.824825      0  \n",
      "data/12910/0/12910_idx5_x2001_y101_class0.png   0.675241    187  \n",
      "(22448, 5)\n",
      "\n",
      "X_test : \n",
      "                                                   red   green    blue  \\\n",
      "data/12909/0/12909_idx5_x2401_y1151_class0.png  2.5172  2.6260  2.8532   \n",
      "data/12909/0/12909_idx5_x1701_y251_class0.png   2.6780  2.2764  2.2716   \n",
      "data/12909/0/12909_idx5_x1351_y1351_class0.png  2.8576  2.2556  2.6428   \n",
      "data/12909/0/12909_idx5_x251_y1401_class0.png   2.5012  2.8076  2.3916   \n",
      "data/12909/0/12909_idx5_x1701_y1401_class0.png  2.6096  2.6848  2.8300   \n",
      "\n",
      "                                                    gray  edges  \n",
      "data/12909/0/12909_idx5_x2401_y1151_class0.png  0.846705    343  \n",
      "data/12909/0/12909_idx5_x1701_y251_class0.png   0.808798    453  \n",
      "data/12909/0/12909_idx5_x1351_y1351_class0.png  0.652958     86  \n",
      "data/12909/0/12909_idx5_x251_y1401_class0.png   0.830766    127  \n",
      "data/12909/0/12909_idx5_x1701_y1401_class0.png  0.784134    239  \n",
      "(5613, 5)\n",
      "\n",
      "y_train : \n",
      "data/12910/0/12910_idx5_x3001_y701_class0.png     0\n",
      "data/12910/0/12910_idx5_x1501_y401_class0.png     0\n",
      "data/12910/0/12910_idx5_x2251_y1101_class0.png    0\n",
      "data/12910/0/12910_idx5_x2551_y1151_class0.png    0\n",
      "data/12910/0/12910_idx5_x2001_y101_class0.png     0\n",
      "Name: group, dtype: int64\n",
      "(22448,)\n",
      "\n",
      "y_test : \n",
      "data/12909/0/12909_idx5_x2401_y1151_class0.png    0\n",
      "data/12909/0/12909_idx5_x1701_y251_class0.png     0\n",
      "data/12909/0/12909_idx5_x1351_y1351_class0.png    0\n",
      "data/12909/0/12909_idx5_x251_y1401_class0.png     0\n",
      "data/12909/0/12909_idx5_x1701_y1401_class0.png    0\n",
      "Name: group, dtype: int64\n",
      "(5613,)\n"
     ]
    }
   ],
   "source": [
    "X= df[['red','green','blue','gray','edges']]\n",
    "y=df['group']\n",
    "  \n",
    "# using the train test split function\n",
    "X_train, X_test, y_train, y_test = train_test_split(X,y, test_size=0.2, shuffle=False)\n",
    "\n",
    "print('X_train : ')\n",
    "print(X_train.head())\n",
    "print(X_train.shape)\n",
    "print('')\n",
    "print('X_test : ')\n",
    "print(X_test.head())\n",
    "print(X_test.shape)\n",
    "print('')\n",
    "print('y_train : ')\n",
    "print(y_train.head())\n",
    "print(y_train.shape)\n",
    "print('')\n",
    "print('y_test : ')\n",
    "print(y_test.head())\n",
    "print(y_test.shape)\n",
    "\n",
    "X_train, X_val, y_train, y_val = train_test_split(X,y, test_size=0.125, shuffle=False)"
   ]
  },
  {
   "cell_type": "markdown",
   "id": "44e3cdfd-b77d-4060-948b-a2460e0ce569",
   "metadata": {},
   "source": [
    "## Single decision tree classifier"
   ]
  },
  {
   "cell_type": "code",
   "execution_count": 18,
   "id": "3b3b63bc-71db-46c0-b7b5-a06c89b2c95d",
   "metadata": {},
   "outputs": [
    {
     "data": {
      "image/png": "[encoded data removed]",
      "text/plain": [
       "<Figure size 640x480 with 1 Axes>"
      ]
     },
     "metadata": {},
     "output_type": "display_data"
    }
   ],
   "source": [
    "#Single decision tree with different depths, to see what is proper.\n",
    "acc_for_depths = []\n",
    "step_size = 2\n",
    "for i in range(1,50,step_size):\n",
    "    model = DecisionTreeClassifier(max_depth = i)\n",
    "    model = model.fit(X_train, y_train)\n",
    "\n",
    "    predicted_value = model.predict(X_val)\n",
    "    #print(predicted_value)\n",
    "\n",
    "    #To plot the actual decision tree\n",
    "    #tree.plot_tree(model)\n",
    "\n",
    "    zeroes = 0\n",
    "    ones = 0\n",
    "\n",
    "    for i in y_train:\n",
    "        if i == 0:\n",
    "            zeroes += 1\n",
    "        else:\n",
    "            ones += 1\n",
    "\n",
    "    val = 1 - ((zeroes/70)*(zeroes/70) + (ones/70)*(ones/70))\n",
    "    #print(\"Gini :\", val)\n",
    "\n",
    "    match = 0\n",
    "    UnMatch = 0\n",
    "\n",
    "    for i in range(len(predicted_value)):\n",
    "        if predicted_value[i] == y_val[i]:\n",
    "            match += 1\n",
    "        else:\n",
    "            UnMatch += 1\n",
    "\n",
    "    accuracy = match/len(predicted_value)\n",
    "    acc_for_depths.append(accuracy)\n",
    "    #print(\"Accuracy is: \", accuracy)\n",
    "    \n",
    "plt.plot(range(1,50,step_size), acc_for_depths)\n",
    "plt.show()\n",
    "#Observing in the plot that max_depth = 10 gives the highest accuracy when validating.\n",
    "\n",
    "#ConfusionMatrixDisplay(confusion_matrix(y_test, predicted_value)).plot()"
   ]
  },
  {
   "cell_type": "code",
   "execution_count": 22,
   "id": "06074cce-4355-4e9b-94c4-f9ba68395aaa",
   "metadata": {},
   "outputs": [
    {
     "name": "stdout",
     "output_type": "stream",
     "text": [
      "0.8204104903078677\n",
      "0.8241163055872291\n",
      "0.8187001140250855\n",
      "0.8246864310148233\n",
      "0.8244013683010262\n",
      "0.8258266818700114\n",
      "0.8263968072976055\n",
      "0.8167046750285063\n",
      "0.8181299885974914\n",
      "0.8158494868871151\n",
      "0.8129988597491448\n",
      "0.81442417331813\n",
      "0.8081527936145952\n",
      "0.8087229190421893\n",
      "0.8087229190421893\n",
      "0.8090079817559863\n",
      "0.8124287343215507\n",
      "0.8095781071835804\n",
      "0.8081527936145952\n",
      "0.8078677309007982\n",
      "0.8110034207525656\n",
      "0.806442417331813\n",
      "0.8072976054732041\n",
      "0.806442417331813\n",
      "0.80672748004561\n"
     ]
    },
    {
     "data": {
      "image/png": "[encoded data removed]",
      "text/plain": [
       "<Figure size 640x480 with 1 Axes>"
      ]
     },
     "metadata": {},
     "output_type": "display_data"
    }
   ],
   "source": [
    "#Random forest classification with different values for max_depth\n",
    "acc_for_depths = []\n",
    "step_size = 2\n",
    "for i in range(1,50,step_size):\n",
    "    regressor = RandomForestClassifier(random_state = 0, max_depth = i)\n",
    "\n",
    "    # fit the regressor with x and y data\n",
    "    regressor.fit(X_train, y_train) \n",
    "\n",
    "    y_pred = regressor.predict(X_val)  # test the output by changing values\n",
    "    #print(y_pred)\n",
    "\n",
    "    #print(\"accuracy on training set: %f\" % regressor.score(X_train, y_train))\n",
    "    #print(\"accuracy on validation set: %f\" % regressor.score(X_val, y_val))\n",
    "\n",
    "    # Create confusion matrix\n",
    "    #confusion = confusion_matrix(y_val, y_pred)\n",
    "    #ConfusionMatrixDisplay(confusion).plot()\n",
    "    # Display accuracy score\n",
    "    accuracy = accuracy_score(y_val, y_pred)\n",
    "    print(accuracy)\n",
    "    acc_for_depths.append(accuracy)\n",
    "    \n",
    "plt.plot(range(1,50,step_size), acc_for_depths)\n",
    "plt.show()"
   ]
  },
  {
   "cell_type": "markdown",
   "id": "52c9bdbb-7c44-45bd-a88a-bd1c3759001a",
   "metadata": {},
   "source": [
    "### This part is not working yet."
   ]
  },
  {
   "cell_type": "code",
   "execution_count": 17,
   "id": "01b4c186-5b68-4504-a749-92a9a69f6f43",
   "metadata": {},
   "outputs": [
    {
     "ename": "TypeError",
     "evalue": "float() argument must be a string or a number, not 'DataFrame'",
     "output_type": "error",
     "traceback": [
      "\u001b[0;31m---------------------------------------------------------------------------\u001b[0m",
      "\u001b[0;31mTypeError\u001b[0m                                 Traceback (most recent call last)",
      "Cell \u001b[0;32mIn [17], line 7\u001b[0m\n\u001b[1;32m      1\u001b[0m \u001b[38;5;66;03m# Visualising the Random Forest Regression results\u001b[39;00m\n\u001b[1;32m      2\u001b[0m \n\u001b[1;32m      3\u001b[0m \u001b[38;5;66;03m# arrange for creating a range of values\u001b[39;00m\n\u001b[1;32m      4\u001b[0m \u001b[38;5;66;03m# from min value of x to max\u001b[39;00m\n\u001b[1;32m      5\u001b[0m \u001b[38;5;66;03m# value of x with a difference of 0.01\u001b[39;00m\n\u001b[1;32m      6\u001b[0m \u001b[38;5;66;03m# between two consecutive values\u001b[39;00m\n\u001b[0;32m----> 7\u001b[0m X_grid \u001b[38;5;241m=\u001b[39m np\u001b[38;5;241m.\u001b[39marange(\u001b[38;5;28mmin\u001b[39m(\u001b[38;5;28;43mfloat\u001b[39;49m\u001b[43m(\u001b[49m\u001b[43mX_train\u001b[49m\u001b[43m)\u001b[49m), \u001b[38;5;28mmax\u001b[39m(\u001b[38;5;28mfloat\u001b[39m(X_train)), \u001b[38;5;241m0.01\u001b[39m)\n\u001b[1;32m      9\u001b[0m \u001b[38;5;66;03m# reshape for reshaping the data into a len(X_grid)*1 array,\u001b[39;00m\n\u001b[1;32m     10\u001b[0m \u001b[38;5;66;03m# i.e. to make a column out of the X_grid value\t\t\t\t\u001b[39;00m\n\u001b[1;32m     11\u001b[0m X_grid \u001b[38;5;241m=\u001b[39m X_grid\u001b[38;5;241m.\u001b[39mreshape((\u001b[38;5;28mlen\u001b[39m(X_grid), \u001b[38;5;241m1\u001b[39m))\n",
      "\u001b[0;31mTypeError\u001b[0m: float() argument must be a string or a number, not 'DataFrame'"
     ]
    }
   ],
   "source": [
    "# Visualising the Random Forest Regression results\n",
    "\n",
    "# arrange for creating a range of values\n",
    "# from min value of x to max\n",
    "# value of x with a difference of 0.01\n",
    "# between two consecutive values\n",
    "X_grid = np.arange(min(float(X_train)), max(float(X_train)), 0.01)\n",
    "\n",
    "# reshape for reshaping the data into a len(X_grid)*1 array,\n",
    "# i.e. to make a column out of the X_grid value\t\t\t\t\n",
    "X_grid = X_grid.reshape((len(X_grid), 1))\n",
    "\n",
    "# Scatter plot for original data\n",
    "plt.scatter(x, y, color = 'blue')\n",
    "\n",
    "# plot predicted data\n",
    "plt.plot(X_grid, regressor.predict(X_grid),color = 'green')\n",
    "plt.title('Random Forest Regression')\n",
    "plt.xlabel('Position level')\n",
    "plt.ylabel('Salary')\n",
    "plt.show()"
   ]
  },
  {
   "cell_type": "code",
   "execution_count": null,
   "id": "e4d1c121-3aeb-4af8-807d-1d9413df0e14",
   "metadata": {},
   "outputs": [],
   "source": []
  }
 ],
 "metadata": {
  "kernelspec": {
   "display_name": "Python 3 (ipykernel)",
   "language": "python",
   "name": "python3"
  },
  "language_info": {
   "codemirror_mode": {
    "name": "ipython",
    "version": 3
   },
   "file_extension": ".py",
   "mimetype": "text/x-python",
   "name": "python",
   "nbconvert_exporter": "python",
   "pygments_lexer": "ipython3",
   "version": "3.8.13"
  }
 },
 "nbformat": 4,
 "nbformat_minor": 5
}
