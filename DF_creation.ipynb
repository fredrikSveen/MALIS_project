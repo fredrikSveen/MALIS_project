{
 "cells": [
  {
   "cell_type": "markdown",
   "id": "e934717f-26c5-43e7-a9bb-6f06144427c4",
   "metadata": {},
   "source": [
    "# Import of all pictures into a Pandas Dataframe\n",
    "\n",
    "Import of libraries"
   ]
  },
  {
   "cell_type": "code",
   "execution_count": 8,
   "id": "360e3b8e-c9a1-402e-9ba2-4a05c0df5b53",
   "metadata": {
    "tags": []
   },
   "outputs": [],
   "source": [
    "import matplotlib.pyplot as plt\n",
    "import numpy as np\n",
    "import os\n",
    "import pandas as pd\n",
    "import time\n",
    "from sklearn.model_selection import train_test_split"
   ]
  },
  {
   "cell_type": "markdown",
   "id": "7f04103b-0e2c-4f0d-a55f-470424623545",
   "metadata": {
    "tags": []
   },
   "source": [
    "## Data preparation\n",
    "First count the number of pictures. Then put the paths for all pictures with the class and patient_id in a dataframe entry."
   ]
  },
  {
   "cell_type": "code",
   "execution_count": 2,
   "id": "b3fc8a1e-35f3-451f-8ae3-ebe9272a64b0",
   "metadata": {},
   "outputs": [],
   "source": [
    "base_path = \"data\"\n",
    "folder = os.listdir(base_path)\n",
    "total_images = 0\n",
    "\n",
    "#finding the number of total images\n",
    "for n in range(len(folder)):\n",
    "    patient_id = folder[n]\n",
    "    for c in [0, 1]:\n",
    "        patient_path = os.path.join(base_path, patient_id )\n",
    "        class_path = os.path.join(patient_path, str(c))\n",
    "        subfiles = os.listdir(class_path)\n",
    "        total_images += len(subfiles)\n",
    "\n",
    "#DATAFRAME\n",
    "data = pd.DataFrame(index=np.arange(0, total_images), columns=[\"patient_id\", \"path\", \"class\"])\n",
    "k = 0\n",
    "for n in range(len(folder)):\n",
    "    #if folder[n] == 'IDC_regular_ps50_idx5':\n",
    "    #    continue\n",
    "    patient_id = folder[n]\n",
    "    patient_path = os.path.join(base_path, patient_id )\n",
    "    for c in [0,1]:\n",
    "        class_path = os.path.join(patient_path, str(c))\n",
    "        subfiles = os.listdir(class_path)\n",
    "        for m in range(len(subfiles)):\n",
    "            image_path = subfiles[m]\n",
    "            if image_path[-18:] == '.ipynb_checkpoints':\n",
    "                continue\n",
    "            data.iloc[k][\"path\"] = os.path.join(class_path, image_path)\n",
    "            data.iloc[k][\"class\"] = c\n",
    "            data.iloc[k][\"patient_id\"] = patient_id\n",
    "            k += 1  "
   ]
  },
  {
   "cell_type": "code",
   "execution_count": 3,
   "id": "094a8e04-ed44-4d41-8540-f687b4a8c3ca",
   "metadata": {},
   "outputs": [
    {
     "name": "stdout",
     "output_type": "stream",
     "text": [
      "<bound method NDFrame.tail of        patient_id                                            path class\n",
      "0           12910   data/12910/0/12910_idx5_x3001_y701_class0.png     0\n",
      "1           12910   data/12910/0/12910_idx5_x1501_y401_class0.png     0\n",
      "2           12910  data/12910/0/12910_idx5_x2251_y1101_class0.png     0\n",
      "3           12910  data/12910/0/12910_idx5_x2551_y1151_class0.png     0\n",
      "4           12910   data/12910/0/12910_idx5_x2001_y101_class0.png     0\n",
      "...           ...                                             ...   ...\n",
      "277519      13666   data/13666/1/13666_idx5_x901_y1101_class1.png     1\n",
      "277520      13666  data/13666/1/13666_idx5_x1051_y1001_class1.png     1\n",
      "277521      13666  data/13666/1/13666_idx5_x1051_y1151_class1.png     1\n",
      "277522      13666  data/13666/1/13666_idx5_x1051_y1051_class1.png     1\n",
      "277523      13666   data/13666/1/13666_idx5_x901_y1151_class1.png     1\n",
      "\n",
      "[277524 rows x 3 columns]>\n"
     ]
    }
   ],
   "source": [
    "print(data.tail)\n",
    "#print(data.loc[11124,'path'])\n",
    "#print(data.loc[11124])\n",
    "#plt.imshow(plt.imread(data.loc[11124,'path']))"
   ]
  },
  {
   "cell_type": "code",
   "execution_count": 4,
   "id": "030f59c0-95fa-4437-9cb8-83c55527838c",
   "metadata": {},
   "outputs": [],
   "source": [
    "#Creating a dataframe for each patient\n",
    "for i in folder:\n",
    "    if folder[n] == 'IDC_regular_ps50_idx5':\n",
    "        continue\n",
    "    df = data[data['patient_id'] == i]\n",
    "    exec(f'data{i} = df')"
   ]
  },
  {
   "cell_type": "code",
   "execution_count": 5,
   "id": "12cf203f-a116-4a23-917a-de04e8f9ecd3",
   "metadata": {},
   "outputs": [
    {
     "name": "stdout",
     "output_type": "stream",
     "text": [
      "########## Train data ##########\n",
      "       patient_id                                            path class\n",
      "167268      10300   data/10300/0/10300_idx5_x601_y1551_class0.png     0\n",
      "25485       16014   data/16014/0/16014_idx5_x551_y1501_class0.png     0\n",
      "242394      10299  data/10299/1/10299_idx5_x1901_y1051_class1.png     1\n",
      "139916       8865     data/8865/0/8865_idx5_x1601_y351_class0.png     0\n",
      "27823       10295   data/10295/0/10295_idx5_x301_y1101_class0.png     0\n",
      "...           ...                                             ...   ...\n",
      "3905        12242   data/12242/1/12242_idx5_x1351_y751_class1.png     1\n",
      "108969      13458    data/13458/0/13458_idx5_x151_y951_class0.png     0\n",
      "222339       9257     data/9257/0/9257_idx5_x3301_y851_class0.png     0\n",
      "46220       13404  data/13404/1/13404_idx5_x2201_y1751_class1.png     1\n",
      "48045       10282  data/10282/0/10282_idx5_x1901_y1151_class0.png     0\n",
      "\n",
      "[194266 rows x 3 columns]\n",
      "########## Test data ##########\n",
      "       patient_id                                            path class\n",
      "88234        9266     data/9266/0/9266_idx5_x2051_y901_class0.png     0\n",
      "79299       12934  data/12934/0/12934_idx5_x1751_y1951_class0.png     0\n",
      "118455      13106  data/13106/0/13106_idx5_x2851_y1401_class0.png     0\n",
      "179248      14213    data/14213/0/14213_idx5_x551_y201_class0.png     0\n",
      "25746       16014   data/16014/0/16014_idx5_x1201_y351_class0.png     0\n",
      "...           ...                                             ...   ...\n",
      "227830      16165  data/16165/1/16165_idx5_x2701_y1201_class1.png     1\n",
      "99158        9383    data/9383/0/9383_idx5_x1451_y1101_class0.png     0\n",
      "48007       10282  data/10282/0/10282_idx5_x2501_y1951_class0.png     0\n",
      "50095       16554  data/16554/1/16554_idx5_x1001_y1401_class1.png     1\n",
      "30690       13613   data/13613/0/13613_idx5_x3201_y801_class0.png     0\n",
      "\n",
      "[83258 rows x 3 columns]\n"
     ]
    }
   ],
   "source": [
    "#using train_test_split for splitting the data\n",
    "train_data, test_data = train_test_split(data, test_size=0.3, random_state=30)\n",
    "print('########## Train data ##########')\n",
    "print(train_data)\n",
    "print('########## Test data ##########')\n",
    "print(test_data)"
   ]
  },
  {
   "cell_type": "code",
   "execution_count": 6,
   "id": "406a7438-9207-4953-8fc5-c9d2bac44d7e",
   "metadata": {},
   "outputs": [
    {
     "name": "stdout",
     "output_type": "stream",
     "text": [
      "patient_id                                            12910\n",
      "path          data/12910/0/12910_idx5_x2451_y301_class0.png\n",
      "class                                                     0\n",
      "Name: 873, dtype: object\n"
     ]
    }
   ],
   "source": [
    "print(data.iloc[873])"
   ]
  },
  {
   "cell_type": "code",
   "execution_count": 9,
   "id": "467a16b8-56df-4a2a-9c67-168b2c32e172",
   "metadata": {},
   "outputs": [
    {
     "name": "stdout",
     "output_type": "stream",
     "text": [
      "Execution time: 4.589927434921265 seconds\n",
      "                                                     red     green      blue\n",
      "data/12910/0/12910_idx5_x3001_y701_class0.png   0.909199  0.707330  0.783652\n",
      "data/12910/0/12910_idx5_x1501_y401_class0.png   0.603457  0.435067  0.608304\n",
      "data/12910/0/12910_idx5_x2251_y1101_class0.png  0.925628  0.759435  0.822812\n",
      "data/12910/0/12910_idx5_x2551_y1151_class0.png  0.931377  0.791060  0.845808\n",
      "data/12910/0/12910_idx5_x2001_y101_class0.png   0.866179  0.614323  0.716932\n",
      "...                                                  ...       ...       ...\n",
      "data/13694/1/13694_idx5_x1001_y1851_class1.png  0.874527  0.813114  0.861123\n",
      "data/13694/1/13694_idx5_x501_y1601_class1.png   0.839820  0.797686  0.845597\n",
      "data/13694/1/13694_idx5_x1251_y1101_class1.png  0.675881  0.533983  0.679533\n",
      "data/13694/1/13694_idx5_x2051_y2551_class1.png  0.802152  0.613859  0.717926\n",
      "data/13694/1/13694_idx5_x651_y1551_class1.png   0.863324  0.818940  0.869048\n",
      "\n",
      "[2500 rows x 3 columns]\n"
     ]
    }
   ],
   "source": [
    "parameters_df = pd.DataFrame(columns = ['red', 'green', 'blue'])\n",
    "number_of_pix = 50*50\n",
    "\n",
    "st = time.time()\n",
    "\n",
    "for i in range(2500):\n",
    "    #if data.loc[i,'path'][-18:] == '.ipynb_checkpoints':\n",
    "    #    continue\n",
    "    img = plt.imread(data.loc[i,'path'])\n",
    "    red = sum(sum(img[:,:,0]))/number_of_pix\n",
    "    green = sum(sum(img[:,:,1]))/number_of_pix\n",
    "    blue = sum(sum(img[:,:,2]))/number_of_pix\n",
    "    parameters_df.loc[data.loc[i,'path']] = [red,green,blue]\n",
    "    \n",
    "et = time.time()\n",
    "elapsed_time = et - st\n",
    "print('Execution time:', elapsed_time, 'seconds')\n",
    "\n",
    "print(parameters_df)"
   ]
  },
  {
   "cell_type": "code",
   "execution_count": 14,
   "id": "a1f82e0f-cef5-4786-afe7-c59b69180341",
   "metadata": {},
   "outputs": [],
   "source": [
    "#Export dataframe to JSON file\n",
    "parameters_df.to_json(r'parameters_df.json', orient='index')"
   ]
  },
  {
   "cell_type": "code",
   "execution_count": 15,
   "id": "48d36465-5539-47a9-9dda-1db5eaed97f7",
   "metadata": {},
   "outputs": [
    {
     "name": "stdout",
     "output_type": "stream",
     "text": [
      "<bound method NDFrame.tail of                                                      red     green      blue\n",
      "data/12910/0/12910_idx5_x3001_y701_class0.png   0.909199  0.707330  0.783652\n",
      "data/12910/0/12910_idx5_x1501_y401_class0.png   0.603457  0.435067  0.608304\n",
      "data/12910/0/12910_idx5_x2251_y1101_class0.png  0.925628  0.759435  0.822812\n",
      "data/12910/0/12910_idx5_x2551_y1151_class0.png  0.931377  0.791060  0.845808\n",
      "data/12910/0/12910_idx5_x2001_y101_class0.png   0.866179  0.614323  0.716932\n",
      "...                                                  ...       ...       ...\n",
      "data/13694/1/13694_idx5_x1001_y1851_class1.png  0.874527  0.813114  0.861123\n",
      "data/13694/1/13694_idx5_x501_y1601_class1.png   0.839820  0.797686  0.845597\n",
      "data/13694/1/13694_idx5_x1251_y1101_class1.png  0.675881  0.533983  0.679533\n",
      "data/13694/1/13694_idx5_x2051_y2551_class1.png  0.802152  0.613859  0.717926\n",
      "data/13694/1/13694_idx5_x651_y1551_class1.png   0.863324  0.818940  0.869048\n",
      "\n",
      "[2500 rows x 3 columns]>\n"
     ]
    }
   ],
   "source": [
    "#Import dataframe from JSON file\n",
    "jsonStr = \"parameters_df.json\"\n",
    "imported_df = pd.read_json(jsonStr, orient ='index')\n",
    "print(imported_df.tail)"
   ]
  }
 ],
 "metadata": {
  "interpreter": {
   "hash": "31f2aee4e71d21fbe5cf8b01ff0e069b9275f58929596ceb00d14d90e3e16cd6"
  },
  "kernelspec": {
   "display_name": "Python 3 (ipykernel)",
   "language": "python",
   "name": "python3"
  },
  "language_info": {
   "codemirror_mode": {
    "name": "ipython",
    "version": 3
   },
   "file_extension": ".py",
   "mimetype": "text/x-python",
   "name": "python",
   "nbconvert_exporter": "python",
   "pygments_lexer": "ipython3",
   "version": "3.8.13"
  },
  "vscode": {
   "interpreter": {
    "hash": "aee8b7b246df8f9039afb4144a1f6fd8d2ca17a180786b69acc140d282b71a49"
   }
  }
 },
 "nbformat": 4,
 "nbformat_minor": 5
}
