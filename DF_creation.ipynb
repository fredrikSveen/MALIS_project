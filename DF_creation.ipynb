{
 "cells": [
  {
   "cell_type": "markdown",
   "id": "e934717f-26c5-43e7-a9bb-6f06144427c4",
   "metadata": {},
   "source": [
    "# Import of all pictures into a Pandas Dataframe\n",
    "\n",
    "Import of libraries"
   ]
  },
  {
   "cell_type": "code",
   "execution_count": 1,
   "id": "360e3b8e-c9a1-402e-9ba2-4a05c0df5b53",
   "metadata": {
    "tags": []
   },
   "outputs": [],
   "source": [
    "import matplotlib.pyplot as plt\n",
    "import numpy as np\n",
    "import os\n",
    "import pandas as pd\n",
    "import time\n",
    "from skimage import color, io\n",
    "from sklearn.model_selection import train_test_split\n",
    "import cv2"
   ]
  },
  {
   "cell_type": "markdown",
   "id": "7f04103b-0e2c-4f0d-a55f-470424623545",
   "metadata": {
    "tags": []
   },
   "source": [
    "## Data preparation\n",
    "First count the number of pictures. Then put the paths for all pictures with the class and patient_id in a dataframe entry."
   ]
  },
  {
   "cell_type": "code",
   "execution_count": null,
   "id": "b3fc8a1e-35f3-451f-8ae3-ebe9272a64b0",
   "metadata": {},
   "outputs": [],
   "source": [
    "base_path = \"data\"\n",
    "folder = os.listdir(base_path)\n",
    "total_images = 0\n",
    "\n",
    "#finding the number of total images\n",
    "for n in range(len(folder)):\n",
    "    patient_id = folder[n]\n",
    "    for c in [0, 1]:\n",
    "        patient_path = os.path.join(base_path, patient_id )\n",
    "        class_path = os.path.join(patient_path, str(c))\n",
    "        subfiles = os.listdir(class_path)\n",
    "        total_images += len(subfiles)\n",
    "\n",
    "#DATAFRAME\n",
    "data = pd.DataFrame(index=np.arange(0, total_images), columns=[\"patient_id\", \"path\", \"class\"])\n",
    "k = 0\n",
    "for n in range(len(folder)):\n",
    "    #if folder[n] == 'IDC_regular_ps50_idx5':\n",
    "    #    continue\n",
    "    patient_id = folder[n]\n",
    "    patient_path = os.path.join(base_path, patient_id )\n",
    "    for c in [0,1]:\n",
    "        class_path = os.path.join(patient_path, str(c))\n",
    "        subfiles = os.listdir(class_path)\n",
    "        for m in range(len(subfiles)):\n",
    "            image_path = subfiles[m]\n",
    "            if image_path[-18:] == '.ipynb_checkpoints':\n",
    "                continue\n",
    "            data.iloc[k][\"path\"] = os.path.join(class_path, image_path)\n",
    "            data.iloc[k][\"class\"] = c\n",
    "            data.iloc[k][\"patient_id\"] = patient_id\n",
    "            k += 1  "
   ]
  },
  {
   "cell_type": "code",
   "execution_count": null,
   "id": "094a8e04-ed44-4d41-8540-f687b4a8c3ca",
   "metadata": {},
   "outputs": [],
   "source": [
    "#print(data.tail)\n",
    "#print(data.loc[11124,'path'])\n",
    "#print(data.loc[11124])\n",
    "#plt.imshow(plt.imread(data.loc[11124,'path']))"
   ]
  },
  {
   "cell_type": "code",
   "execution_count": null,
   "id": "030f59c0-95fa-4437-9cb8-83c55527838c",
   "metadata": {},
   "outputs": [],
   "source": [
    "#Creating a dataframe for each patient\n",
    "for i in folder:\n",
    "    if folder[n] == 'IDC_regular_ps50_idx5':\n",
    "        continue\n",
    "    df = data[data['patient_id'] == i]\n",
    "    exec(f'data{i} = df')"
   ]
  },
  {
   "cell_type": "code",
   "execution_count": null,
   "id": "12cf203f-a116-4a23-917a-de04e8f9ecd3",
   "metadata": {},
   "outputs": [],
   "source": [
    "#using train_test_split for splitting the data\n",
    "train_data, test_data = train_test_split(data, test_size=0.3, random_state=30)\n",
    "print('########## Train data ##########')\n",
    "print(train_data)\n",
    "print('########## Test data ##########')\n",
    "print(test_data)"
   ]
  },
  {
   "cell_type": "code",
   "execution_count": null,
   "id": "406a7438-9207-4953-8fc5-c9d2bac44d7e",
   "metadata": {},
   "outputs": [],
   "source": [
    "#print(data.iloc[873])"
   ]
  },
  {
   "cell_type": "code",
   "execution_count": null,
   "id": "467a16b8-56df-4a2a-9c67-168b2c32e172",
   "metadata": {},
   "outputs": [],
   "source": [
    "parameters_df = pd.DataFrame(columns = ['red', 'green', 'blue', 'gray', 'group'])\n",
    "number_of_pix = 50*50\n",
    "\n",
    "st = time.time()\n",
    "patients = set()\n",
    "i = 0\n",
    "print(f'test1')\n",
    "while True:\n",
    "    #if data.loc[i,'path'][-18:] == '.ipynb_checkpoints':\n",
    "    #    continue\n",
    "    path_elements = data.loc[i,'path'].split('/')\n",
    "    patient = path_elements[1]\n",
    "    group = path_elements[2]\n",
    "    patients.add(patient)\n",
    "    if len(patients) == 31:\n",
    "        print(f'farger')\n",
    "        io.imshow(img)\n",
    "        break\n",
    "    img = io.imread(data.loc[i,'path'])\n",
    "    imgGray = color.rgb2gray(img)\n",
    "    red = sum(sum(img[:,:,0]))/number_of_pix\n",
    "    green = sum(sum(img[:,:,1]))/number_of_pix\n",
    "    blue = sum(sum(img[:,:,2]))/number_of_pix\n",
    "    gray = sum(sum(imgGray[:,:]))/number_of_pix\n",
    "    parameters_df.loc[data.loc[i,'path']] = [red,green,blue,gray,group]\n",
    "    i += 1\n",
    "\n",
    "patients.pop()\n",
    "et = time.time()\n",
    "elapsed_time = et - st\n",
    "print('Execution time:', elapsed_time, 'seconds')\n",
    "print(parameters_df)\n",
    "print('Patients in DF:', patients)"
   ]
  },
  {
   "cell_type": "code",
   "execution_count": null,
   "id": "a1f82e0f-cef5-4786-afe7-c59b69180341",
   "metadata": {},
   "outputs": [],
   "source": [
    "#Export dataframe to JSON file\n",
    "parameters_df.to_json(r'parameters_df.json', orient='index')"
   ]
  },
  {
   "cell_type": "code",
   "execution_count": null,
   "id": "48d36465-5539-47a9-9dda-1db5eaed97f7",
   "metadata": {},
   "outputs": [],
   "source": [
    "#Import dataframe from JSON file\n",
    "jsonStr = \"parameters_df.json\"\n",
    "imported_df = pd.read_json(jsonStr, orient ='index')\n",
    "print(imported_df.tail)"
   ]
  },
  {
   "cell_type": "code",
   "execution_count": null,
   "id": "1b265c40-c026-47fe-b0dc-056406594dc2",
   "metadata": {},
   "outputs": [],
   "source": []
  }
 ],
 "metadata": {
  "interpreter": {
   "hash": "31f2aee4e71d21fbe5cf8b01ff0e069b9275f58929596ceb00d14d90e3e16cd6"
  },
  "kernelspec": {
   "display_name": "Python 3 (ipykernel)",
   "language": "python",
   "name": "python3"
  },
  "language_info": {
   "codemirror_mode": {
    "name": "ipython",
    "version": 3
   },
   "file_extension": ".py",
   "mimetype": "text/x-python",
   "name": "python",
   "nbconvert_exporter": "python",
   "pygments_lexer": "ipython3",
   "version": "3.8.13"
  },
  "vscode": {
   "interpreter": {
    "hash": "aee8b7b246df8f9039afb4144a1f6fd8d2ca17a180786b69acc140d282b71a49"
   }
  }
 },
 "nbformat": 4,
 "nbformat_minor": 5
}
