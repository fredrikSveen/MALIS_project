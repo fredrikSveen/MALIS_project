{
 "cells": [
  {
   "cell_type": "markdown",
   "id": "e934717f-26c5-43e7-a9bb-6f06144427c4",
   "metadata": {},
   "source": [
    "# Import of all pictures into a Pandas Dataframe\n",
    "\n",
    "Import of libraries"
   ]
  },
  {
   "cell_type": "code",
   "execution_count": 8,
   "id": "360e3b8e-c9a1-402e-9ba2-4a05c0df5b53",
   "metadata": {
    "tags": []
   },
   "outputs": [],
   "source": [
    "import matplotlib.pyplot as plt\n",
    "import numpy as np\n",
    "import os\n",
    "import pandas as pd\n",
    "import time\n",
    "from sklearn.model_selection import train_test_split\n",
    "import cv2"
   ]
  },
  {
   "cell_type": "markdown",
   "id": "7f04103b-0e2c-4f0d-a55f-470424623545",
   "metadata": {
    "tags": []
   },
   "source": [
    "## Data preparation\n",
    "First count the number of pictures. Then put the paths for all pictures with the class and patient_id in a dataframe entry."
   ]
  },
  {
   "cell_type": "code",
   "execution_count": 9,
   "id": "b3fc8a1e-35f3-451f-8ae3-ebe9272a64b0",
   "metadata": {},
   "outputs": [],
   "source": [
    "base_path = \"data\"\n",
    "folder = os.listdir(base_path)\n",
    "total_images = 0\n",
    "\n",
    "#finding the number of total images\n",
    "for n in range(len(folder)):\n",
    "    patient_id = folder[n]\n",
    "    for c in [0, 1]:\n",
    "        patient_path = os.path.join(base_path, patient_id )\n",
    "        class_path = os.path.join(patient_path, str(c))\n",
    "        subfiles = os.listdir(class_path)\n",
    "        total_images += len(subfiles)\n",
    "\n",
    "#DATAFRAME\n",
    "data = pd.DataFrame(index=np.arange(0, total_images), columns=[\"patient_id\", \"path\", \"class\"])\n",
    "k = 0\n",
    "for n in range(len(folder)):\n",
    "    #if folder[n] == 'IDC_regular_ps50_idx5':\n",
    "    #    continue\n",
    "    patient_id = folder[n]\n",
    "    patient_path = os.path.join(base_path, patient_id )\n",
    "    for c in [0,1]:\n",
    "        class_path = os.path.join(patient_path, str(c))\n",
    "        subfiles = os.listdir(class_path)\n",
    "        for m in range(len(subfiles)):\n",
    "            image_path = subfiles[m]\n",
    "            if image_path[-18:] == '.ipynb_checkpoints':\n",
    "                continue\n",
    "            data.iloc[k][\"path\"] = os.path.join(class_path, image_path)\n",
    "            data.iloc[k][\"class\"] = c\n",
    "            data.iloc[k][\"patient_id\"] = patient_id\n",
    "            k += 1  "
   ]
  },
  {
   "cell_type": "code",
   "execution_count": 10,
   "id": "094a8e04-ed44-4d41-8540-f687b4a8c3ca",
   "metadata": {},
   "outputs": [
    {
     "name": "stdout",
     "output_type": "stream",
     "text": [
      "<bound method NDFrame.tail of        patient_id                                            path class\n",
      "0           10253  data\\10253\\0\\10253_idx5_x1001_y1001_class0.png     0\n",
      "1           10253  data\\10253\\0\\10253_idx5_x1001_y1051_class0.png     0\n",
      "2           10253  data\\10253\\0\\10253_idx5_x1001_y1101_class0.png     0\n",
      "3           10253  data\\10253\\0\\10253_idx5_x1001_y1151_class0.png     0\n",
      "4           10253  data\\10253\\0\\10253_idx5_x1001_y1201_class0.png     0\n",
      "...           ...                                             ...   ...\n",
      "277519       9383     data\\9383\\1\\9383_idx5_x2051_y901_class1.png     1\n",
      "277520       9383     data\\9383\\1\\9383_idx5_x2051_y951_class1.png     1\n",
      "277521       9383    data\\9383\\1\\9383_idx5_x2101_y1001_class1.png     1\n",
      "277522       9383     data\\9383\\1\\9383_idx5_x2101_y901_class1.png     1\n",
      "277523       9383     data\\9383\\1\\9383_idx5_x2101_y951_class1.png     1\n",
      "\n",
      "[277524 rows x 3 columns]>\n"
     ]
    }
   ],
   "source": [
    "print(data.tail)\n",
    "#print(data.loc[11124,'path'])\n",
    "#print(data.loc[11124])\n",
    "#plt.imshow(plt.imread(data.loc[11124,'path']))"
   ]
  },
  {
   "cell_type": "code",
   "execution_count": 11,
   "id": "030f59c0-95fa-4437-9cb8-83c55527838c",
   "metadata": {},
   "outputs": [],
   "source": [
    "#Creating a dataframe for each patient\n",
    "for i in folder:\n",
    "    if folder[n] == 'IDC_regular_ps50_idx5':\n",
    "        continue\n",
    "    df = data[data['patient_id'] == i]\n",
    "    exec(f'data{i} = df')"
   ]
  },
  {
   "cell_type": "code",
   "execution_count": 12,
   "id": "12cf203f-a116-4a23-917a-de04e8f9ecd3",
   "metadata": {},
   "outputs": [
    {
     "name": "stdout",
     "output_type": "stream",
     "text": [
      "########## Train data ##########\n",
      "       patient_id                                            path class\n",
      "167268      15473   data\\15473\\0\\15473_idx5_x1351_y451_class0.png     0\n",
      "25485       10282    data\\10282\\0\\10282_idx5_x651_y851_class0.png     0\n",
      "242394       9181    data\\9181\\0\\9181_idx5_x2551_y1101_class0.png     0\n",
      "139916      13693   data\\13693\\0\\13693_idx5_x2001_y701_class0.png     0\n",
      "27823       10288   data\\10288\\0\\10288_idx5_x1051_y451_class0.png     0\n",
      "...           ...                                             ...   ...\n",
      "3905        10259   data\\10259\\0\\10259_idx5_x2051_y951_class0.png     0\n",
      "108969      12935  data\\12935\\1\\12935_idx5_x1151_y1751_class1.png     1\n",
      "222339       9043    data\\9043\\1\\9043_idx5_x2301_y1051_class1.png     1\n",
      "46220       10305   data\\10305\\0\\10305_idx5_x1951_y801_class0.png     0\n",
      "48045       10306  data\\10306\\0\\10306_idx5_x2451_y1151_class0.png     0\n",
      "\n",
      "[194266 rows x 3 columns]\n",
      "########## Test data ##########\n",
      "       patient_id                                            path class\n",
      "88234       12894  data\\12894\\0\\12894_idx5_x2551_y2051_class0.png     0\n",
      "79299       12878   data\\12878\\0\\12878_idx5_x2501_y601_class0.png     0\n",
      "118455      13021   data\\13021\\0\\13021_idx5_x2651_y551_class0.png     0\n",
      "179248      16014   data\\16014\\0\\16014_idx5_x1251_y651_class0.png     0\n",
      "25746       10282  data\\10282\\1\\10282_idx5_x1551_y1601_class1.png     1\n",
      "...           ...                                             ...   ...\n",
      "227830       9077    data\\9077\\1\\9077_idx5_x2301_y1351_class1.png     1\n",
      "99158       12908   data\\12908\\0\\12908_idx5_x1601_y401_class0.png     0\n",
      "48007       10306   data\\10306\\0\\10306_idx5_x2201_y201_class0.png     0\n",
      "50095       10308   data\\10308\\0\\10308_idx5_x251_y1401_class0.png     0\n",
      "30690       10290  data\\10290\\0\\10290_idx5_x2101_y1251_class0.png     0\n",
      "\n",
      "[83258 rows x 3 columns]\n"
     ]
    }
   ],
   "source": [
    "#using train_test_split for splitting the data\n",
    "train_data, test_data = train_test_split(data, test_size=0.3, random_state=30)\n",
    "print('########## Train data ##########')\n",
    "print(train_data)\n",
    "print('########## Test data ##########')\n",
    "print(test_data)"
   ]
  },
  {
   "cell_type": "code",
   "execution_count": 13,
   "id": "406a7438-9207-4953-8fc5-c9d2bac44d7e",
   "metadata": {},
   "outputs": [
    {
     "name": "stdout",
     "output_type": "stream",
     "text": [
      "patient_id                                            10254\n",
      "path          data\\10254\\0\\10254_idx5_x1851_y651_class0.png\n",
      "class                                                     0\n",
      "Name: 873, dtype: object\n"
     ]
    }
   ],
   "source": [
    "print(data.iloc[873])"
   ]
  },
  {
   "cell_type": "code",
   "execution_count": 15,
   "id": "467a16b8-56df-4a2a-9c67-168b2c32e172",
   "metadata": {},
   "outputs": [
    {
     "name": "stdout",
     "output_type": "stream",
     "text": [
      "Execution time: 15.019989013671875 seconds\n",
      "                                                     red     green      blue  \\\n",
      "data\\10253\\0\\10253_idx5_x1001_y1001_class0.png  0.827936  0.582193  0.756613   \n",
      "data\\10253\\0\\10253_idx5_x1001_y1051_class0.png  0.875114  0.723770  0.835029   \n",
      "data\\10253\\0\\10253_idx5_x1001_y1101_class0.png  0.916524  0.848179  0.903890   \n",
      "data\\10253\\0\\10253_idx5_x1001_y1151_class0.png  0.913735  0.863232  0.911594   \n",
      "data\\10253\\0\\10253_idx5_x1001_y1201_class0.png  0.914912  0.823939  0.884461   \n",
      "...                                                  ...       ...       ...   \n",
      "data\\10257\\0\\10257_idx5_x2251_y801_class0.png   0.674976  0.434455  0.609438   \n",
      "data\\10257\\0\\10257_idx5_x2251_y851_class0.png   0.698496  0.540002  0.684933   \n",
      "data\\10257\\0\\10257_idx5_x2301_y1601_class0.png  0.749691  0.733233  0.818891   \n",
      "data\\10257\\0\\10257_idx5_x2301_y1751_class0.png  0.898943  0.846397  0.886857   \n",
      "data\\10257\\0\\10257_idx5_x2301_y2001_class0.png  0.897586  0.850609  0.885538   \n",
      "\n",
      "                                                  gray  \n",
      "data\\10253\\0\\10253_idx5_x1001_y1001_class0.png  2.3008  \n",
      "data\\10253\\0\\10253_idx5_x1001_y1051_class0.png  2.7392  \n",
      "data\\10253\\0\\10253_idx5_x1001_y1101_class0.png  2.4604  \n",
      "data\\10253\\0\\10253_idx5_x1001_y1151_class0.png  2.7792  \n",
      "data\\10253\\0\\10253_idx5_x1001_y1201_class0.png  2.8936  \n",
      "...                                                ...  \n",
      "data\\10257\\0\\10257_idx5_x2251_y801_class0.png   2.2356  \n",
      "data\\10257\\0\\10257_idx5_x2251_y851_class0.png   2.3648  \n",
      "data\\10257\\0\\10257_idx5_x2301_y1601_class0.png  2.5344  \n",
      "data\\10257\\0\\10257_idx5_x2301_y1751_class0.png  2.7188  \n",
      "data\\10257\\0\\10257_idx5_x2301_y2001_class0.png  2.7140  \n",
      "\n",
      "[2500 rows x 4 columns]\n"
     ]
    }
   ],
   "source": [
    "parameters_df = pd.DataFrame(columns = ['red', 'green', 'blue', 'gray'])\n",
    "number_of_pix = 50*50\n",
    "\n",
    "st = time.time()\n",
    "\n",
    "for i in range(2500):\n",
    "    #if data.loc[i,'path'][-18:] == '.ipynb_checkpoints':\n",
    "    #    continue\n",
    "    img = plt.imread(data.loc[i,'path'])\n",
    "    imgGray = cv2.imread(data.loc[i,'path'],0)\n",
    "    imgGray = cv2.cvtColor(imgGray, cv2.COLOR_BGR2RGB)\n",
    "    \n",
    "    gray = sum(sum(imgGray[:,:,0]))/number_of_pix\n",
    "    red = sum(sum(img[:,:,0]))/number_of_pix\n",
    "    green = sum(sum(img[:,:,1]))/number_of_pix\n",
    "    blue = sum(sum(img[:,:,2]))/number_of_pix\n",
    "    parameters_df.loc[data.loc[i,'path']] = [red,green,blue,gray]\n",
    "    \n",
    "et = time.time()\n",
    "elapsed_time = et - st\n",
    "print('Execution time:', elapsed_time, 'seconds')\n",
    "\n",
    "print(parameters_df)"
   ]
  },
  {
   "cell_type": "code",
   "execution_count": 16,
   "id": "a1f82e0f-cef5-4786-afe7-c59b69180341",
   "metadata": {},
   "outputs": [],
   "source": [
    "#Export dataframe to JSON file\n",
    "parameters_df.to_json(r'parameters_df.json', orient='index')"
   ]
  },
  {
   "cell_type": "code",
   "execution_count": 17,
   "id": "48d36465-5539-47a9-9dda-1db5eaed97f7",
   "metadata": {},
   "outputs": [
    {
     "name": "stdout",
     "output_type": "stream",
     "text": [
      "<bound method NDFrame.tail of                                                      red     green      blue  \\\n",
      "data\\10253\\0\\10253_idx5_x1001_y1001_class0.png  0.827936  0.582193  0.756613   \n",
      "data\\10253\\0\\10253_idx5_x1001_y1051_class0.png  0.875114  0.723770  0.835029   \n",
      "data\\10253\\0\\10253_idx5_x1001_y1101_class0.png  0.916524  0.848179  0.903890   \n",
      "data\\10253\\0\\10253_idx5_x1001_y1151_class0.png  0.913735  0.863232  0.911594   \n",
      "data\\10253\\0\\10253_idx5_x1001_y1201_class0.png  0.914912  0.823939  0.884461   \n",
      "...                                                  ...       ...       ...   \n",
      "data\\10257\\0\\10257_idx5_x2251_y801_class0.png   0.674976  0.434455  0.609438   \n",
      "data\\10257\\0\\10257_idx5_x2251_y851_class0.png   0.698496  0.540002  0.684933   \n",
      "data\\10257\\0\\10257_idx5_x2301_y1601_class0.png  0.749691  0.733233  0.818891   \n",
      "data\\10257\\0\\10257_idx5_x2301_y1751_class0.png  0.898943  0.846397  0.886857   \n",
      "data\\10257\\0\\10257_idx5_x2301_y2001_class0.png  0.897586  0.850609  0.885538   \n",
      "\n",
      "                                                  gray  \n",
      "data\\10253\\0\\10253_idx5_x1001_y1001_class0.png  2.3008  \n",
      "data\\10253\\0\\10253_idx5_x1001_y1051_class0.png  2.7392  \n",
      "data\\10253\\0\\10253_idx5_x1001_y1101_class0.png  2.4604  \n",
      "data\\10253\\0\\10253_idx5_x1001_y1151_class0.png  2.7792  \n",
      "data\\10253\\0\\10253_idx5_x1001_y1201_class0.png  2.8936  \n",
      "...                                                ...  \n",
      "data\\10257\\0\\10257_idx5_x2251_y801_class0.png   2.2356  \n",
      "data\\10257\\0\\10257_idx5_x2251_y851_class0.png   2.3648  \n",
      "data\\10257\\0\\10257_idx5_x2301_y1601_class0.png  2.5344  \n",
      "data\\10257\\0\\10257_idx5_x2301_y1751_class0.png  2.7188  \n",
      "data\\10257\\0\\10257_idx5_x2301_y2001_class0.png  2.7140  \n",
      "\n",
      "[2500 rows x 4 columns]>\n"
     ]
    }
   ],
   "source": [
    "#Import dataframe from JSON file\n",
    "jsonStr = \"parameters_df.json\"\n",
    "imported_df = pd.read_json(jsonStr, orient ='index')\n",
    "print(imported_df.tail)"
   ]
  },
  {
   "cell_type": "code",
   "execution_count": null,
   "id": "f553d51b-0bc4-4bad-ae26-c86ff0561cbe",
   "metadata": {},
   "outputs": [],
   "source": []
  }
 ],
 "metadata": {
  "interpreter": {
   "hash": "31f2aee4e71d21fbe5cf8b01ff0e069b9275f58929596ceb00d14d90e3e16cd6"
  },
  "kernelspec": {
   "display_name": "Python 3 (ipykernel)",
   "language": "python",
   "name": "python3"
  },
  "language_info": {
   "codemirror_mode": {
    "name": "ipython",
    "version": 3
   },
   "file_extension": ".py",
   "mimetype": "text/x-python",
   "name": "python",
   "nbconvert_exporter": "python",
   "pygments_lexer": "ipython3",
   "version": "3.8.15"
  },
  "vscode": {
   "interpreter": {
    "hash": "aee8b7b246df8f9039afb4144a1f6fd8d2ca17a180786b69acc140d282b71a49"
   }
  }
 },
 "nbformat": 4,
 "nbformat_minor": 5
}
