{
 "cells": [
  {
   "cell_type": "markdown",
   "id": "e934717f-26c5-43e7-a9bb-6f06144427c4",
   "metadata": {},
   "source": [
    "# Import of all pictures into a Pandas Dataframe\n",
    "\n",
    "Import of libraries"
   ]
  },
  {
   "cell_type": "code",
   "execution_count": 1,
   "id": "360e3b8e-c9a1-402e-9ba2-4a05c0df5b53",
   "metadata": {
    "tags": []
   },
   "outputs": [],
   "source": [
    "import matplotlib.pyplot as plt\n",
    "import numpy as np\n",
    "import os\n",
    "import pandas as pd\n",
    "import time\n",
    "from skimage import io\n",
    "from skimage.color import rgb2gray\n",
    "from skimage.feature import blob_dog, blob_log, blob_doh\n",
    "from sklearn.model_selection import train_test_split\n",
    "import cv2"
   ]
  },
  {
   "cell_type": "markdown",
   "id": "7f04103b-0e2c-4f0d-a55f-470424623545",
   "metadata": {
    "tags": []
   },
   "source": [
    "## Data preparation\n",
    "First count the number of pictures. Then put the paths for all pictures with the class and patient_id in a dataframe entry."
   ]
  },
  {
   "cell_type": "code",
   "execution_count": 2,
   "id": "b3fc8a1e-35f3-451f-8ae3-ebe9272a64b0",
   "metadata": {},
   "outputs": [],
   "source": [
    "base_path = \"data\"\n",
    "folder = os.listdir(base_path)\n",
    "total_images = 0\n",
    "\n",
    "#finding the number of total images\n",
    "for n in range(len(folder)):\n",
    "    patient_id = folder[n]\n",
    "    for c in [0, 1]:\n",
    "        patient_path = os.path.join(base_path, patient_id )\n",
    "        class_path = os.path.join(patient_path, str(c))\n",
    "        subfiles = os.listdir(class_path)\n",
    "        total_images += len(subfiles)\n",
    "\n",
    "#DATAFRAME\n",
    "data = pd.DataFrame(index=np.arange(0, total_images), columns=[\"patient_id\", \"path\", \"class\"])\n",
    "k = 0\n",
    "for n in range(len(folder)):\n",
    "    #if folder[n] == 'IDC_regular_ps50_idx5':\n",
    "    #    continue\n",
    "    patient_id = folder[n]\n",
    "    patient_path = os.path.join(base_path, patient_id )\n",
    "    for c in [0,1]:\n",
    "        class_path = os.path.join(patient_path, str(c))\n",
    "        subfiles = os.listdir(class_path)\n",
    "        for m in range(len(subfiles)):\n",
    "            image_path = subfiles[m]\n",
    "            if image_path[-18:] == '.ipynb_checkpoints':\n",
    "                continue\n",
    "            data.iloc[k][\"path\"] = os.path.join(class_path, image_path)\n",
    "            data.iloc[k][\"class\"] = c\n",
    "            data.iloc[k][\"patient_id\"] = patient_id\n",
    "            k += 1  "
   ]
  },
  {
   "cell_type": "code",
   "execution_count": 3,
   "id": "094a8e04-ed44-4d41-8540-f687b4a8c3ca",
   "metadata": {},
   "outputs": [],
   "source": [
    "#print(data.tail)\n",
    "#print(data.loc[11124,'path'])\n",
    "#print(data.loc[11124])\n",
    "#plt.imshow(plt.imread(data.loc[11124,'path']))"
   ]
  },
  {
   "cell_type": "code",
   "execution_count": 4,
   "id": "030f59c0-95fa-4437-9cb8-83c55527838c",
   "metadata": {},
   "outputs": [],
   "source": [
    "#Creating a dataframe for each patient\n",
    "for i in folder:\n",
    "    if folder[n] == 'IDC_regular_ps50_idx5':\n",
    "        continue\n",
    "    df = data[data['patient_id'] == i]\n",
    "    exec(f'data{i} = df')"
   ]
  },
  {
   "cell_type": "markdown",
   "id": "cea72a1c-eacd-46cb-8d50-6b80586e3e1d",
   "metadata": {},
   "source": [
    "## Creating pandas dataframe for storing extracted paramters\n",
    "Make the dataframe for storing extracted parameters. Also define some key variables and functions."
   ]
  },
  {
   "cell_type": "code",
   "execution_count": 18,
   "id": "798d1130-ea22-4dc3-8528-90be0faac746",
   "metadata": {},
   "outputs": [],
   "source": [
    "parameters_df = pd.DataFrame(columns = ['red', 'green', 'blue', 'gray', 'edges', 'group'])\n",
    "number_of_pix = 50*50\n",
    "\n",
    "def split_path(path):\n",
    "    path_elements = path.split('/')\n",
    "    patient = path_elements[1]\n",
    "    group = path_elements[2]\n",
    "    return patient, group\n",
    "\n",
    "def extract_color_channels(path):\n",
    "    img = io.imread(path)\n",
    "    imgGray = rgb2gray(img)\n",
    "    red = sum(sum(img[:,:,0]))/number_of_pix\n",
    "    green = sum(sum(img[:,:,1]))/number_of_pix\n",
    "    blue = sum(sum(img[:,:,2]))/number_of_pix\n",
    "    gray = sum(sum(imgGray[:,:]))/number_of_pix\n",
    "    return red, green, blue, gray\n",
    "\n",
    "def extract_number_edges(path):\n",
    "    img = cv2.imread(path, cv2.IMREAD_GRAYSCALE)\n",
    "    edges = cv2.Canny(img,180,250)\n",
    "    num_edges = len(edges[np.where(edges == 255)])\n",
    "    return num_edges"
   ]
  },
  {
   "cell_type": "markdown",
   "id": "7206bc83-021c-4662-9029-7897c0a37647",
   "metadata": {},
   "source": [
    "## Color channels and edge extraction\n",
    "Using the Canny-edge detector to detect edge pixels, and then saving the number of edge pixels as a parameter."
   ]
  },
  {
   "cell_type": "code",
   "execution_count": 22,
   "id": "467a16b8-56df-4a2a-9c67-168b2c32e172",
   "metadata": {},
   "outputs": [
    {
     "name": "stdout",
     "output_type": "stream",
     "text": [
      "Ferdig\n",
      "Execution time: 126.20435285568237 seconds\n",
      "Number of rows: 28061\n",
      "                                                   red   green    blue  \\\n",
      "data/12910/0/12910_idx5_x3001_y701_class0.png   2.8792  2.7112  2.8076   \n",
      "data/12910/0/12910_idx5_x1501_y401_class0.png   2.7392  2.7464  2.0908   \n",
      "data/12910/0/12910_idx5_x2251_y1101_class0.png  1.1296  2.6620  2.2704   \n",
      "data/12910/0/12910_idx5_x2551_y1151_class0.png  1.9812  2.8940  2.2452   \n",
      "data/12910/0/12910_idx5_x2001_y101_class0.png   2.8660  3.0032  2.5404   \n",
      "\n",
      "                                                    gray  edges group  \n",
      "data/12910/0/12910_idx5_x3001_y701_class0.png   0.755730     83     0  \n",
      "data/12910/0/12910_idx5_x1501_y401_class0.png   0.483340    350     0  \n",
      "data/12910/0/12910_idx5_x2251_y1101_class0.png  0.799321     14     0  \n",
      "data/12910/0/12910_idx5_x2551_y1151_class0.png  0.824825      0     0  \n",
      "data/12910/0/12910_idx5_x2001_y101_class0.png   0.675241    187     0  \n"
     ]
    }
   ],
   "source": [
    "st = time.time()\n",
    "patients = set()\n",
    "i = 0\n",
    "while True:\n",
    "    #if data.loc[i,'path'][-18:] == '.ipynb_checkpoints':\n",
    "    #    continue\n",
    "    patient, group = split_path(data.loc[i,'path'])\n",
    "    patients.add(patient)\n",
    "    if len(patients) == 31:\n",
    "        print(f'Ferdig')\n",
    "        break\n",
    "    red, blue, green, gray = extract_color_channels(data.loc[i,'path'])\n",
    "    edge_pieces = extract_number_edges(data.loc[i,'path'])\n",
    "    parameters_df.loc[data.loc[i,'path']] = [red,green,blue,gray,edge_pieces,group]\n",
    "    i += 1\n",
    "\n",
    "patients.pop()\n",
    "\n",
    "et = time.time()\n",
    "elapsed_time = et - st\n",
    "print('Execution time:', elapsed_time, 'seconds')\n",
    "print(f'Number of rows: {len(parameters_df)}')\n",
    "print(parameters_df.head())"
   ]
  },
  {
   "cell_type": "markdown",
   "id": "834fbd04-e540-4a2d-bc3f-20e2333582af",
   "metadata": {},
   "source": [
    "## Trying blob detection"
   ]
  },
  {
   "cell_type": "code",
   "execution_count": 73,
   "id": "66911e34-8e17-481a-8626-0170e4d7a8b3",
   "metadata": {},
   "outputs": [
    {
     "data": {
      "image/png": "[encoded data removed]",
      "text/plain": [
       "<Figure size 640x480 with 1 Axes>"
      ]
     },
     "metadata": {},
     "output_type": "display_data"
    },
    {
     "data": {
      "image/png": "[encoded data removed]",
      "text/plain": [
       "<Figure size 900x300 with 3 Axes>"
      ]
     },
     "metadata": {},
     "output_type": "display_data"
    }
   ],
   "source": [
    "img = io.imread(data.loc[1000,'path'])\n",
    "gray = cv2.cvtColor(img, cv2.COLOR_BGR2GRAY)\n",
    "\n",
    "image_gray = cv2.medianBlur(gray, 3)\n",
    "plt.imshow(cv2.cvtColor(image_gray, cv2.COLOR_BGR2RGB))\n",
    "plt.show()\n",
    "\n",
    "blobs_log = blob_log(image_gray, min_sigma=2, max_sigma=8, num_sigma=5, threshold=.08)\n",
    "\n",
    "# Compute radii in the 3rd column.\n",
    "blobs_log[:, 2] = blobs_log[:, 2] * np.sqrt(2)\n",
    "\n",
    "blobs_dog = blob_dog(image_gray, max_sigma=30, threshold=.05)\n",
    "blobs_dog[:, 2] = blobs_dog[:, 2] * np.sqrt(2)\n",
    "\n",
    "blobs_doh = blob_doh(image_gray, max_sigma=5, threshold=.01)\n",
    "\n",
    "blobs_list = [blobs_log, blobs_dog, blobs_doh]\n",
    "colors = ['yellow', 'lime', 'red']\n",
    "titles = ['Laplacian of Gaussian', 'Difference of Gaussian',\n",
    "          'Determinant of Hessian']\n",
    "sequence = zip(blobs_list, colors, titles)\n",
    "\n",
    "fig, axes = plt.subplots(1, 3, figsize=(9, 3), sharex=True, sharey=True)\n",
    "ax = axes.ravel()\n",
    "\n",
    "for idx, (blobs, color, title) in enumerate(sequence):\n",
    "    ax[idx].set_title(title)\n",
    "    ax[idx].imshow(img)\n",
    "    for blob in blobs:\n",
    "        y, x, r = blob\n",
    "        c = plt.Circle((x, y), r, color=color, linewidth=2, fill=False)\n",
    "        ax[idx].add_patch(c)\n",
    "    ax[idx].set_axis_off()\n",
    "\n",
    "plt.tight_layout()\n",
    "plt.show()"
   ]
  },
  {
   "cell_type": "code",
   "execution_count": 23,
   "id": "a1f82e0f-cef5-4786-afe7-c59b69180341",
   "metadata": {},
   "outputs": [],
   "source": [
    "#Export dataframe to JSON file\n",
    "parameters_df.to_json(r'parameters_df.json', orient='index')"
   ]
  },
  {
   "cell_type": "code",
   "execution_count": 24,
   "id": "48d36465-5539-47a9-9dda-1db5eaed97f7",
   "metadata": {},
   "outputs": [
    {
     "name": "stdout",
     "output_type": "stream",
     "text": [
      "<bound method NDFrame.tail of                                                    red   green    blue  \\\n",
      "data/12910/0/12910_idx5_x3001_y701_class0.png   2.8792  2.7112  2.8076   \n",
      "data/12910/0/12910_idx5_x1501_y401_class0.png   2.7392  2.7464  2.0908   \n",
      "data/12910/0/12910_idx5_x2251_y1101_class0.png  1.1296  2.6620  2.2704   \n",
      "data/12910/0/12910_idx5_x2551_y1151_class0.png  1.9812  2.8940  2.2452   \n",
      "data/12910/0/12910_idx5_x2001_y101_class0.png   2.8660  3.0032  2.5404   \n",
      "...                                                ...     ...     ...   \n",
      "data/10295/1/10295_idx5_x1451_y1751_class1.png  2.4984  2.3112  2.5208   \n",
      "data/10295/1/10295_idx5_x1251_y1751_class1.png  2.3984  2.4340  2.4816   \n",
      "data/10295/1/10295_idx5_x1501_y1351_class1.png  2.3928  2.5132  2.6456   \n",
      "data/10295/1/10295_idx5_x1501_y1601_class1.png  2.7404  2.5352  2.3744   \n",
      "data/10295/1/10295_idx5_x1251_y1851_class1.png  2.3600  2.9432  2.1736   \n",
      "\n",
      "                                                    gray  edges  group  \n",
      "data/12910/0/12910_idx5_x3001_y701_class0.png   0.755730     83      0  \n",
      "data/12910/0/12910_idx5_x1501_y401_class0.png   0.483340    350      0  \n",
      "data/12910/0/12910_idx5_x2251_y1101_class0.png  0.799321     14      0  \n",
      "data/12910/0/12910_idx5_x2551_y1151_class0.png  0.824825      0      0  \n",
      "data/12910/0/12910_idx5_x2001_y101_class0.png   0.675241    187      0  \n",
      "...                                                  ...    ...    ...  \n",
      "data/10295/1/10295_idx5_x1451_y1751_class1.png  0.446976    394      1  \n",
      "data/10295/1/10295_idx5_x1251_y1751_class1.png  0.423668    638      1  \n",
      "data/10295/1/10295_idx5_x1501_y1351_class1.png  0.527423    260      1  \n",
      "data/10295/1/10295_idx5_x1501_y1601_class1.png  0.433236    375      1  \n",
      "data/10295/1/10295_idx5_x1251_y1851_class1.png  0.435931    465      1  \n",
      "\n",
      "[28061 rows x 6 columns]>\n"
     ]
    }
   ],
   "source": [
    "#Import dataframe from JSON file\n",
    "jsonStr = \"parameters_df.json\"\n",
    "imported_df = pd.read_json(jsonStr, orient ='index')\n",
    "print(imported_df.tail)"
   ]
  },
  {
   "cell_type": "code",
   "execution_count": null,
   "id": "1b265c40-c026-47fe-b0dc-056406594dc2",
   "metadata": {},
   "outputs": [],
   "source": []
  }
 ],
 "metadata": {
  "interpreter": {
   "hash": "31f2aee4e71d21fbe5cf8b01ff0e069b9275f58929596ceb00d14d90e3e16cd6"
  },
  "kernelspec": {
   "display_name": "Python 3 (ipykernel)",
   "language": "python",
   "name": "python3"
  },
  "language_info": {
   "codemirror_mode": {
    "name": "ipython",
    "version": 3
   },
   "file_extension": ".py",
   "mimetype": "text/x-python",
   "name": "python",
   "nbconvert_exporter": "python",
   "pygments_lexer": "ipython3",
   "version": "3.8.13"
  },
  "vscode": {
   "interpreter": {
    "hash": "aee8b7b246df8f9039afb4144a1f6fd8d2ca17a180786b69acc140d282b71a49"
   }
  }
 },
 "nbformat": 4,
 "nbformat_minor": 5
}
